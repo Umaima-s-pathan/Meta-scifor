{
  "cells": [
    {
      "cell_type": "code",
      "source": [
        "#NLP INTRO"
      ],
      "metadata": {
        "id": "rrj3RJkse2gD"
      },
      "id": "rrj3RJkse2gD",
      "execution_count": 28,
      "outputs": []
    },
    {
      "cell_type": "code",
      "source": [
        "a = \"Umaima\"\n",
        "print(a)"
      ],
      "metadata": {
        "colab": {
          "base_uri": "https://localhost:8080/"
        },
        "id": "cEemvst0e3hW",
        "outputId": "e8e39673-112c-4920-e279-b7c4c44a6fca"
      },
      "id": "cEemvst0e3hW",
      "execution_count": 29,
      "outputs": [
        {
          "output_type": "stream",
          "name": "stdout",
          "text": [
            "Umaima\n"
          ]
        }
      ]
    },
    {
      "cell_type": "code",
      "source": [
        "a = \"DATAFRAME\"\n",
        "print(a[5])"
      ],
      "metadata": {
        "colab": {
          "base_uri": "https://localhost:8080/"
        },
        "id": "7G1fUxKxe3kx",
        "outputId": "59f6cdab-5f4c-45ed-bd92-a26204c52608"
      },
      "id": "7G1fUxKxe3kx",
      "execution_count": 30,
      "outputs": [
        {
          "output_type": "stream",
          "name": "stdout",
          "text": [
            "R\n"
          ]
        }
      ]
    },
    {
      "cell_type": "code",
      "source": [
        "a = \"Data FraME\"\n",
        "print(a[2:6])\n",
        "print(\"-\" * 20)\n",
        "print(a[-5:-2])\n",
        "print(\"-\" * 50)\n",
        "print(a[1:6:2])"
      ],
      "metadata": {
        "colab": {
          "base_uri": "https://localhost:8080/"
        },
        "id": "oyPs32ije3oW",
        "outputId": "63719462-59c2-415c-9785-2c55c2af6522"
      },
      "id": "oyPs32ije3oW",
      "execution_count": 31,
      "outputs": [
        {
          "output_type": "stream",
          "name": "stdout",
          "text": [
            "ta F\n",
            "--------------------\n",
            "Fra\n",
            "--------------------------------------------------\n",
            "aaF\n"
          ]
        }
      ]
    },
    {
      "cell_type": "code",
      "source": [
        "\n",
        "print(a.split())"
      ],
      "metadata": {
        "colab": {
          "base_uri": "https://localhost:8080/"
        },
        "id": "Goola3D9e3tq",
        "outputId": "aedb782e-34c3-4c31-b80a-d5ebf3db812c"
      },
      "id": "Goola3D9e3tq",
      "execution_count": 32,
      "outputs": [
        {
          "output_type": "stream",
          "name": "stdout",
          "text": [
            "['Data', 'FraME']\n"
          ]
        }
      ]
    },
    {
      "cell_type": "code",
      "source": [
        "print(a.lower())\n",
        "print(a.upper())\n",
        "print(a.replace(\"Data\" , \"low\"))"
      ],
      "metadata": {
        "colab": {
          "base_uri": "https://localhost:8080/"
        },
        "id": "Tii4vx1Ie3xX",
        "outputId": "2a2197ff-3535-4a0f-c73c-6a83982793a7"
      },
      "id": "Tii4vx1Ie3xX",
      "execution_count": 33,
      "outputs": [
        {
          "output_type": "stream",
          "name": "stdout",
          "text": [
            "data frame\n",
            "DATA FRAME\n",
            "low FraME\n"
          ]
        }
      ]
    },
    {
      "cell_type": "code",
      "source": [
        "a = \"data frame\"\n",
        "b = \"train\"\n",
        "print(a + \" \" + b)"
      ],
      "metadata": {
        "colab": {
          "base_uri": "https://localhost:8080/"
        },
        "id": "vwxt4YDJe30C",
        "outputId": "bafe624c-f06c-4729-d6f4-60ec77706720"
      },
      "id": "vwxt4YDJe30C",
      "execution_count": 34,
      "outputs": [
        {
          "output_type": "stream",
          "name": "stdout",
          "text": [
            "data frame train\n"
          ]
        }
      ]
    },
    {
      "cell_type": "code",
      "source": [
        "file = open('dataset1.txt' , \"w+\")"
      ],
      "metadata": {
        "id": "7MCuI4foe352"
      },
      "id": "7MCuI4foe352",
      "execution_count": 35,
      "outputs": []
    },
    {
      "cell_type": "code",
      "source": [
        "file1 = open('dataset2.txt' , \"w+\")"
      ],
      "metadata": {
        "id": "KFzbfcoT82Nj"
      },
      "id": "KFzbfcoT82Nj",
      "execution_count": 36,
      "outputs": []
    },
    {
      "cell_type": "code",
      "source": [
        "for i in range(6):\n",
        "  file1.write(\"Line number is %d\\r\\n\" % (i + 1))"
      ],
      "metadata": {
        "id": "FEHcl88s82Yz"
      },
      "id": "FEHcl88s82Yz",
      "execution_count": 37,
      "outputs": []
    },
    {
      "cell_type": "code",
      "source": [
        "file1.close()"
      ],
      "metadata": {
        "id": "251n4Lkf82cu"
      },
      "id": "251n4Lkf82cu",
      "execution_count": 38,
      "outputs": []
    },
    {
      "cell_type": "code",
      "source": [
        "file1 = open('dataset2.txt' , \"a+\")"
      ],
      "metadata": {
        "id": "1mmCvQ_B82gm"
      },
      "id": "1mmCvQ_B82gm",
      "execution_count": 39,
      "outputs": []
    },
    {
      "cell_type": "code",
      "source": [
        "file1.close()"
      ],
      "metadata": {
        "id": "WH5Uo8bh9Bkq"
      },
      "id": "WH5Uo8bh9Bkq",
      "execution_count": 40,
      "outputs": []
    },
    {
      "cell_type": "code",
      "source": [
        "file1 = open('dataset2.txt' , \"r\")"
      ],
      "metadata": {
        "id": "PXn-Vb6E9Bps"
      },
      "id": "PXn-Vb6E9Bps",
      "execution_count": 41,
      "outputs": []
    },
    {
      "cell_type": "code",
      "source": [
        "if file1.mode == 'r':\n",
        "  contents = file1.read()\n",
        "  print(contents)"
      ],
      "metadata": {
        "colab": {
          "base_uri": "https://localhost:8080/"
        },
        "id": "bNfz_Xd39Bs4",
        "outputId": "88827bbf-b6e2-475e-bbf1-181962882a2d"
      },
      "id": "bNfz_Xd39Bs4",
      "execution_count": 42,
      "outputs": [
        {
          "output_type": "stream",
          "name": "stdout",
          "text": [
            "Line number is 1\n",
            "Line number is 2\n",
            "Line number is 3\n",
            "Line number is 4\n",
            "Line number is 5\n",
            "Line number is 6\n",
            "\n"
          ]
        }
      ]
    },
    {
      "cell_type": "markdown",
      "id": "51deac09",
      "metadata": {
        "id": "51deac09"
      },
      "source": [
        "## Text Preprocessing\n",
        "The pre-processing steps for the problem primarily depend on the domain and the problem itself; we don't need to apply all the steps for every problem. In this case, we'll use the NLTK (Natural Language Toolkit) library. Assuming we have textual data available, we need to apply numerous pre-processing steps to the data in order to convert those words into numerical features that work with machine learning algorithms."
      ]
    },
    {
      "cell_type": "code",
      "execution_count": 43,
      "id": "80095e5e",
      "metadata": {
        "id": "80095e5e"
      },
      "outputs": [],
      "source": [
        "import nltk\n",
        "import string\n",
        "import re"
      ]
    },
    {
      "cell_type": "markdown",
      "id": "79606168",
      "metadata": {
        "id": "79606168"
      },
      "source": [
        "## Text Lowercasing\n",
        "This is done to reduce the size of the vocabulary of our text data."
      ]
    },
    {
      "cell_type": "code",
      "execution_count": 44,
      "id": "f9982974",
      "metadata": {
        "id": "f9982974"
      },
      "outputs": [],
      "source": [
        "def lowercase_text(text):\n",
        "    return text.lower()"
      ]
    },
    {
      "cell_type": "code",
      "execution_count": 45,
      "id": "71cf6709",
      "metadata": {
        "colab": {
          "base_uri": "https://localhost:8080/"
        },
        "id": "71cf6709",
        "outputId": "66f3184a-ed15-4e8d-833a-4ee8d4a07ed4"
      },
      "outputs": [
        {
          "output_type": "stream",
          "name": "stdout",
          "text": [
            "weather is too cloudy. possibility of rain is high, today!!\n"
          ]
        }
      ],
      "source": [
        "input_str = \"Weather is too Cloudy. Possibility of Rain is High, Today!!\"\n",
        "print(lowercase_text(input_str))"
      ]
    },
    {
      "cell_type": "markdown",
      "id": "c2c4a7a1",
      "metadata": {
        "id": "c2c4a7a1"
      },
      "source": [
        "## Remove numbers\n",
        "We either remove the numbers or convert the numbers into textual representation. We can use regular expressions (re) to remove the numbers"
      ]
    },
    {
      "cell_type": "code",
      "execution_count": 46,
      "id": "3bf3924f",
      "metadata": {
        "id": "3bf3924f"
      },
      "outputs": [],
      "source": [
        "def remove_num(text):\n",
        "    result = re.sub(r'\\d+', '', text)\n",
        "    return result"
      ]
    },
    {
      "cell_type": "code",
      "execution_count": 47,
      "id": "07463239",
      "metadata": {
        "colab": {
          "base_uri": "https://localhost:8080/"
        },
        "id": "07463239",
        "outputId": "108b34ad-574b-4a3f-ebe9-13b3a624e9fe"
      },
      "outputs": [
        {
          "output_type": "stream",
          "name": "stdout",
          "text": [
            "You bought  candies from shop, and  candies are in home.\n"
          ]
        }
      ],
      "source": [
        "input_s = \"You bought 6 candies from shop, and 4 candies are in home.\"\n",
        "print(remove_num(input_s))"
      ]
    },
    {
      "cell_type": "markdown",
      "id": "8c9b5418",
      "metadata": {
        "id": "8c9b5418"
      },
      "source": [
        "## Converting numbers to words using the inflect library"
      ]
    },
    {
      "cell_type": "code",
      "execution_count": 48,
      "id": "9731a685",
      "metadata": {
        "colab": {
          "base_uri": "https://localhost:8080/"
        },
        "id": "9731a685",
        "outputId": "5b721630-c2d3-4d3d-8dc4-0d31b858f0cb"
      },
      "outputs": [
        {
          "output_type": "stream",
          "name": "stdout",
          "text": [
            "Requirement already satisfied: inflect in /usr/local/lib/python3.10/dist-packages (7.4.0)\n",
            "Requirement already satisfied: more-itertools>=8.5.0 in /usr/local/lib/python3.10/dist-packages (from inflect) (10.5.0)\n",
            "Requirement already satisfied: typeguard>=4.0.1 in /usr/local/lib/python3.10/dist-packages (from inflect) (4.3.0)\n",
            "Requirement already satisfied: typing-extensions>=4.10.0 in /usr/local/lib/python3.10/dist-packages (from typeguard>=4.0.1->inflect) (4.12.2)\n"
          ]
        }
      ],
      "source": [
        "!pip install inflect"
      ]
    },
    {
      "cell_type": "code",
      "execution_count": 49,
      "id": "d194ef1a",
      "metadata": {
        "id": "d194ef1a"
      },
      "outputs": [],
      "source": [
        "import inflect\n",
        "q = inflect.engine()"
      ]
    },
    {
      "cell_type": "code",
      "execution_count": 50,
      "id": "db57a76e",
      "metadata": {
        "colab": {
          "base_uri": "https://localhost:8080/"
        },
        "id": "db57a76e",
        "outputId": "53b81b77-3a07-4e2b-ce2b-5f577b6d3e3c"
      },
      "outputs": [
        {
          "output_type": "stream",
          "name": "stdout",
          "text": [
            "You bought six candies from shop, and four candies are in home.\n"
          ]
        }
      ],
      "source": [
        "# convert number into text\n",
        "def convert_num(text):\n",
        "    # split strings into list of texts\n",
        "    temp_string = text.split()\n",
        "    # initialise empty list\n",
        "    new_str = []\n",
        "    for word in temp_string:\n",
        "        # if text is a digit, convert the digit to numbers and append into the new_str list\n",
        "        if word.isdigit():\n",
        "            temp = q.number_to_words(word)\n",
        "            new_str.append(temp)\n",
        "        # append the texts as it is\n",
        "        else:\n",
        "            new_str.append(word)\n",
        "    #join the texts of new_str to form a string\n",
        "    temp_str=' '.join(new_str)\n",
        "    return temp_str\n",
        "\n",
        "input_num = \"You bought 6 candies from shop, and 4 candies are in home.\"\n",
        "print(convert_num(input_num))"
      ]
    },
    {
      "cell_type": "markdown",
      "id": "0d9df5e9",
      "metadata": {
        "id": "0d9df5e9"
      },
      "source": [
        "## Remove Punctuation\n",
        "We remove punctuations so that we don't have different forms of the same word. If we don't remove punctuations, been.,been,been! will all be treated differently."
      ]
    },
    {
      "cell_type": "code",
      "execution_count": 51,
      "id": "c5b87b4c",
      "metadata": {
        "colab": {
          "base_uri": "https://localhost:8080/",
          "height": 36
        },
        "id": "c5b87b4c",
        "outputId": "9acb625c-283f-4e40-8051-5ade174328f7"
      },
      "outputs": [
        {
          "output_type": "execute_result",
          "data": {
            "text/plain": [
              "'Hey Are you excited After a week we will be in Shimla'"
            ],
            "application/vnd.google.colaboratory.intrinsic+json": {
              "type": "string"
            }
          },
          "metadata": {},
          "execution_count": 51
        }
      ],
      "source": [
        "def rem_punct(text):\n",
        "    translator=str.maketrans('','',string.punctuation)\n",
        "    return text.translate(translator)\n",
        "\n",
        "input_str=\"Hey, Are you excited??, After a week, we will be in Shimla\"\n",
        "rem_punct(input_str)"
      ]
    },
    {
      "cell_type": "code",
      "execution_count": 52,
      "id": "5d159258",
      "metadata": {
        "colab": {
          "base_uri": "https://localhost:8080/",
          "height": 36
        },
        "id": "5d159258",
        "outputId": "6b6c38fe-d183-4b61-e769-a7c57932e28b"
      },
      "outputs": [
        {
          "output_type": "execute_result",
          "data": {
            "text/plain": [
              "'!\"#$%&\\'()*+,-./:;<=>?@[\\\\]^_`{|}~'"
            ],
            "application/vnd.google.colaboratory.intrinsic+json": {
              "type": "string"
            }
          },
          "metadata": {},
          "execution_count": 52
        }
      ],
      "source": [
        "string.punctuation"
      ]
    },
    {
      "cell_type": "markdown",
      "id": "6a11beab",
      "metadata": {
        "id": "6a11beab"
      },
      "source": [
        "## Remove default stopwords\n",
        "Words that don't add to the sentence's meaning are known as stopwords. As a result, they can be safely eliminated without altering the sentence's meaning. To eliminate stopwords from our text and obtain a list of word tokens, utilize the stopwords in the NLTK (Natural Language Toolkit) library."
      ]
    },
    {
      "cell_type": "code",
      "execution_count": 55,
      "id": "3d778103",
      "metadata": {
        "colab": {
          "base_uri": "https://localhost:8080/"
        },
        "id": "3d778103",
        "outputId": "aa8b6602-1bf0-436b-89d1-f952d52184c3"
      },
      "outputs": [
        {
          "output_type": "stream",
          "name": "stderr",
          "text": [
            "[nltk_data] Downloading package stopwords to /root/nltk_data...\n",
            "[nltk_data]   Package stopwords is already up-to-date!\n",
            "[nltk_data] Downloading package punkt to /root/nltk_data...\n",
            "[nltk_data]   Package punkt is already up-to-date!\n",
            "[nltk_data] Downloading package punkt_tab to /root/nltk_data...\n",
            "[nltk_data]   Unzipping tokenizers/punkt_tab.zip.\n"
          ]
        },
        {
          "output_type": "execute_result",
          "data": {
            "text/plain": [
              "True"
            ]
          },
          "metadata": {},
          "execution_count": 55
        }
      ],
      "source": [
        "# importing nltk library\n",
        "from nltk.corpus import stopwords\n",
        "from nltk.tokenize import word_tokenize\n",
        "\n",
        "nltk.download('stopwords')\n",
        "nltk.download('punkt')\n",
        "nltk.download('punkt_tab')"
      ]
    },
    {
      "cell_type": "code",
      "execution_count": 56,
      "id": "ddf34e6c",
      "metadata": {
        "colab": {
          "base_uri": "https://localhost:8080/"
        },
        "id": "ddf34e6c",
        "outputId": "4f2c7a65-456b-4a0e-80d4-44e3ac90b7fe"
      },
      "outputs": [
        {
          "output_type": "execute_result",
          "data": {
            "text/plain": [
              "['Data', 'new', 'oil', 'A.I', 'last', 'invention']"
            ]
          },
          "metadata": {},
          "execution_count": 56
        }
      ],
      "source": [
        "# remove stopwords function\n",
        "def rem_stopwords(text):\n",
        "    stop_words = set(stopwords.words(\"english\"))\n",
        "    word_tokens = word_tokenize(text)\n",
        "    filtered_text = [word for word in word_tokens if word not in string.punctuation]\n",
        "    filtered_text = [word for word in filtered_text if word not in stop_words]\n",
        "    return filtered_text\n",
        "\n",
        "ex_text = \"Data is the new oil. A.I is the last invention\"\n",
        "rem_stopwords(ex_text)\n"
      ]
    },
    {
      "cell_type": "markdown",
      "id": "a45c67c9",
      "metadata": {
        "id": "a45c67c9"
      },
      "source": [
        "## Stemming\n",
        "Finding a word's root form is known as stemming. The portion to which inflectional affixes (such as -ed, -ize, etc.) are appended is called the root or stem. By eliminating a word's prefix or suffix, we would produce the stem words. Therefore, stemming a word might not produce words.\n",
        "\n",
        "For instance:\n",
        "\n",
        "\n",
        "\n",
        "Mangoes ---> Mango Boys ---> Boy going ---> go\n",
        "\n",
        "\n",
        "\n",
        "We must turn our sentences into tokens if they aren't already. Following the conversion of text strings into tokens, the word tokens can then be transformed back into their root form. These three stemmers are the Lancaster, Porter, and snowball stemmers. Among these, we typically utilize the Porter stemmer.\n",
        "\n"
      ]
    },
    {
      "cell_type": "code",
      "execution_count": 57,
      "id": "0782bc68",
      "metadata": {
        "id": "0782bc68"
      },
      "outputs": [],
      "source": [
        "from nltk.stem.porter import PorterStemmer\n",
        "from nltk.tokenize import word_tokenize"
      ]
    },
    {
      "cell_type": "code",
      "execution_count": 58,
      "id": "9de0f5ec",
      "metadata": {
        "id": "9de0f5ec"
      },
      "outputs": [],
      "source": [
        "stem1 = PorterStemmer()"
      ]
    },
    {
      "cell_type": "code",
      "execution_count": 59,
      "id": "b45eb937",
      "metadata": {
        "id": "b45eb937"
      },
      "outputs": [],
      "source": [
        "def s_words(text):\n",
        "    word_tokens = word_tokenize(text)\n",
        "    stems = [stem1.stem(word) for word in word_tokens]\n",
        "    return stems"
      ]
    },
    {
      "cell_type": "code",
      "execution_count": 60,
      "id": "24d552cf",
      "metadata": {
        "colab": {
          "base_uri": "https://localhost:8080/"
        },
        "id": "24d552cf",
        "outputId": "2e254891-aacb-4a69-85d8-a5cd30a0988a"
      },
      "outputs": [
        {
          "output_type": "stream",
          "name": "stdout",
          "text": [
            "['data', 'is', 'the', 'new', 'revolut', 'in', 'the', 'world', ',', 'in', 'a', 'day', 'one', 'individu', 'would', 'gener', 'terabyt', 'of', 'data', '.']\n"
          ]
        }
      ],
      "source": [
        "text = 'Data is the new revolution in the World, in a day one individual would generate terabytes of data.'\n",
        "print(s_words(text))"
      ]
    },
    {
      "cell_type": "markdown",
      "id": "30e7a24a",
      "metadata": {
        "id": "30e7a24a"
      },
      "source": [
        "## Lemmatization\n",
        "As stemming, lemmatization does the same, but the only difference is that lemmatization ensures that the root word belongs to the language. Because of the use of lemmatization, we will get valid words. In NLTK, we use WordLemmatizer to get the lemmas of words. We also need to provide a context for the lemmatization. So, we added POS (parts-of-speech) as a parameter."
      ]
    },
    {
      "cell_type": "code",
      "execution_count": 61,
      "id": "712fa39c",
      "metadata": {
        "id": "712fa39c"
      },
      "outputs": [],
      "source": [
        "from nltk.stem import wordnet\n",
        "from nltk.tokenize import word_tokenize"
      ]
    },
    {
      "cell_type": "code",
      "execution_count": 62,
      "id": "eb722122",
      "metadata": {
        "colab": {
          "base_uri": "https://localhost:8080/"
        },
        "id": "eb722122",
        "outputId": "cb183859-b2da-4d7c-d1d1-30d0b85b7329"
      },
      "outputs": [
        {
          "output_type": "stream",
          "name": "stderr",
          "text": [
            "[nltk_data] Downloading package wordnet to /root/nltk_data...\n",
            "[nltk_data]   Package wordnet is already up-to-date!\n"
          ]
        },
        {
          "output_type": "execute_result",
          "data": {
            "text/plain": [
              "True"
            ]
          },
          "metadata": {},
          "execution_count": 62
        }
      ],
      "source": [
        "lemma = wordnet.WordNetLemmatizer()\n",
        "nltk.download('wordnet')"
      ]
    },
    {
      "cell_type": "code",
      "execution_count": 63,
      "id": "a306de5d",
      "metadata": {
        "id": "a306de5d"
      },
      "outputs": [],
      "source": [
        "def lemmatize_word(text):\n",
        "    word_tokens = word_tokenize(text)\n",
        "    lemmas = [lemma.lemmatize(word, pos='v') for word in word_tokens]\n",
        "    return lemmas"
      ]
    },
    {
      "cell_type": "code",
      "execution_count": 64,
      "id": "ccdb7608",
      "metadata": {
        "colab": {
          "base_uri": "https://localhost:8080/"
        },
        "id": "ccdb7608",
        "outputId": "e4e24951-fb93-4ddc-b53d-7b77fc96b561"
      },
      "outputs": [
        {
          "output_type": "stream",
          "name": "stdout",
          "text": [
            "['Data', 'be', 'the', 'new', 'revolution', 'in', 'the', 'World', ',', 'in', 'a', 'day', 'one', 'individual', 'would', 'generate', 'terabytes', 'of', 'data', '.']\n"
          ]
        }
      ],
      "source": [
        "text = 'Data is the new revolution in the World, in a day one individual would generate terabytes of data.'\n",
        "print(lemmatize_word(text))"
      ]
    },
    {
      "cell_type": "markdown",
      "id": "67e4ba18",
      "metadata": {
        "id": "67e4ba18"
      },
      "source": [
        "## Part of Speech (POS) Tagging\n",
        "Parts of speech, or pos, describe how a word is employed in a sentence. A word in the phrase may have multiple semantic interpretations and situations. Basic natural language processing (NLP) models, such as the bag-of-words (BOW) model, are unable to recognize word associations. We accomplish this by using POS tagging, which assigns a word to its POS tag according to its context in the data. Relationships between words are also extracted using POS."
      ]
    },
    {
      "cell_type": "code",
      "execution_count": 95,
      "id": "ac68f83b",
      "metadata": {
        "colab": {
          "base_uri": "https://localhost:8080/"
        },
        "id": "ac68f83b",
        "outputId": "81c33f3f-616f-42b1-f9fa-f32184d6960c"
      },
      "outputs": [
        {
          "output_type": "stream",
          "name": "stderr",
          "text": [
            "[nltk_data] Downloading package averaged_perceptron_tagger to\n",
            "[nltk_data]     /root/nltk_data...\n",
            "[nltk_data]   Package averaged_perceptron_tagger is already up-to-\n",
            "[nltk_data]       date!\n"
          ]
        },
        {
          "output_type": "execute_result",
          "data": {
            "text/plain": [
              "[('Are', 'NNP'),\n",
              " ('you', 'PRP'),\n",
              " ('afraid', 'IN'),\n",
              " ('of', 'IN'),\n",
              " ('something', 'NN'),\n",
              " ('?', '.')]"
            ]
          },
          "metadata": {},
          "execution_count": 95
        }
      ],
      "source": [
        "# importing tokenize library\n",
        "from nltk.tokenize import word_tokenize\n",
        "from nltk import pos_tag\n",
        "# Download the necessary resource:\n",
        "import nltk\n",
        "nltk.download('averaged_perceptron_tagger')\n",
        "\n",
        "# convert text into word_tokens with their tags\n",
        "def pos_tagg(text):\n",
        "    word_tokens = word_tokenize(text)\n",
        "    return pos_tag(word_tokens)\n",
        "\n",
        "pos_tagg('Are you afraid of something?')\n"
      ]
    },
    {
      "cell_type": "markdown",
      "id": "f330d81e",
      "metadata": {
        "id": "f330d81e"
      },
      "source": [
        "In the above example, NNP stands for Proper Noun, PRP for Proper Noun, IN as Preposition. We can get all the details pos tags using the Penn Treebank tagset"
      ]
    },
    {
      "cell_type": "code",
      "execution_count": null,
      "id": "8c92850b",
      "metadata": {
        "id": "8c92850b"
      },
      "outputs": [],
      "source": [
        "\n",
        "# downloading the dataset\n",
        "nltk.download('tagsets')\n",
        "\n",
        "#extract information about the tag\n",
        "nltk.help.upenn_tagset('PRP')"
      ]
    },
    {
      "cell_type": "markdown",
      "id": "78d3c4a9",
      "metadata": {
        "id": "78d3c4a9"
      },
      "source": [
        "## Chunking\n",
        "Chunking is the process of extracting phrases from unstructured text and giving them more structure. We also call it shallow parsing. We can do chunking on top of POS tagging. It groups words into chunks, mainly for noun phrases. Chunking is done by using regular expressions."
      ]
    },
    {
      "cell_type": "code",
      "execution_count": null,
      "id": "9db69137",
      "metadata": {
        "id": "9db69137"
      },
      "outputs": [],
      "source": [
        "# importing libraries\n",
        "from nltk.tokenize import word_tokenize\n",
        "from nltk import pos_tag\n",
        "\n",
        "# here we define chunking function with text and regular\n",
        "# expressions representing grammar as parameter\n",
        "def chunking(text, grammar):\n",
        "    word_tokens = word_tokenize(text)\n",
        "\n",
        "    # label words with POS\n",
        "    word_pos = pos_tag(word_tokens)\n",
        "\n",
        "    # create chunk parser using grammar\n",
        "    chunkParser = nltk.RegexpParser(grammar)\n",
        "\n",
        "    # test it on the list of word tokens with tagged POS\n",
        "    tree = chunkParser.parse(word_pos)\n",
        "\n",
        "    for subtree in tree.subtrees():\n",
        "        print(subtree)\n",
        "    # tree.draw()\n",
        "sentence='the little red parrot is flying in the sky'\n",
        "grammar=\"NP: {<DT>?<JJ>*<NN>}\"\n",
        "chunking(sentence,grammar)"
      ]
    },
    {
      "cell_type": "markdown",
      "id": "6854e604",
      "metadata": {
        "id": "6854e604"
      },
      "source": [
        "In the above example, we defined the grammar by using the regular expression rule. This rule tells you that NP (noun phrase) chunk should be formed whenever the chunker finds the optional determiner (DT) followed by any number of adjectives (JJ) and then a noun (NN).\n",
        "\n",
        "Libraries like Spacy and TextBlob are best for chunking"
      ]
    },
    {
      "cell_type": "markdown",
      "id": "7ddc627b",
      "metadata": {
        "id": "7ddc627b"
      },
      "source": [
        "## Named Entity Recognition\n",
        "Information is extracted from unstructured text using this method. It is employed to categorize the entities found in the text into groups, such as individuals, organizations, events, locations, etc. This will provide you an in-depth understanding of the text and the connections between the various elements."
      ]
    },
    {
      "cell_type": "code",
      "execution_count": 94,
      "id": "8070d22a",
      "metadata": {
        "colab": {
          "base_uri": "https://localhost:8080/"
        },
        "id": "8070d22a",
        "outputId": "fa1187e4-d598-4235-a0eb-dc5b01c3daf8"
      },
      "outputs": [
        {
          "output_type": "stream",
          "name": "stderr",
          "text": [
            "[nltk_data] Downloading package maxent_ne_chunker to\n",
            "[nltk_data]     /root/nltk_data...\n",
            "[nltk_data]   Package maxent_ne_chunker is already up-to-date!\n",
            "[nltk_data] Downloading package averaged_perceptron_tagger_eng to\n",
            "[nltk_data]     /root/nltk_data...\n",
            "[nltk_data]   Package averaged_perceptron_tagger_eng is already up-to-\n",
            "[nltk_data]       date!\n",
            "[nltk_data] Downloading package words to /root/nltk_data...\n",
            "[nltk_data]   Package words is already up-to-date!\n",
            "[nltk_data] Downloading package maxent_ne_chunker_tab to\n",
            "[nltk_data]     /root/nltk_data...\n",
            "[nltk_data]   Unzipping chunkers/maxent_ne_chunker_tab.zip.\n"
          ]
        },
        {
          "output_type": "stream",
          "name": "stdout",
          "text": [
            "(S\n",
            "  (PERSON Brain/NNP)\n",
            "  (PERSON Lara/NNP)\n",
            "  scored/VBD\n",
            "  the/DT\n",
            "  highest/JJS\n",
            "  400/CD\n",
            "  runs/NNS\n",
            "  in/IN\n",
            "  a/DT\n",
            "  test/NN\n",
            "  match/NN\n",
            "  which/WDT\n",
            "  played/VBD\n",
            "  in/IN\n",
            "  between/IN\n",
            "  (ORGANIZATION WI/NNP)\n",
            "  and/CC\n",
            "  (GPE England/NNP)\n",
            "  ./.)\n"
          ]
        }
      ],
      "source": [
        "# Importing tokenization and chunk\n",
        "from nltk.tokenize import word_tokenize\n",
        "from nltk import pos_tag, ne_chunk\n",
        "nltk.download('maxent_ne_chunker')\n",
        "nltk.download('averaged_perceptron_tagger_eng')\n",
        "nltk.download('words')\n",
        "nltk.download('maxent_ne_chunker_tab')\n",
        "\n",
        "def ner(text):\n",
        "    # tokenize the text\n",
        "    word_tokens = word_tokenize(text)\n",
        "\n",
        "    # pos tagging of words\n",
        "    word_pos = pos_tag(word_tokens)\n",
        "\n",
        "    # tree of word entities\n",
        "    print(ne_chunk(word_pos))\n",
        "\n",
        "text = 'Brain Lara scored the highest 400 runs in a test match which played in between WI and England.'\n",
        "ner(text)\n"
      ]
    },
    {
      "cell_type": "markdown",
      "id": "2c8ec8f5",
      "metadata": {
        "id": "2c8ec8f5"
      },
      "source": [
        "## Understanding Regex\n",
        "As a software developer, you have undoubtedly come across regular expressions numerous times and become perplexed by their intimidating character sets arranged as follows:\n",
        "\n",
        "/^\\w+([.-]?\\w+)[[.-]?\\w+)(.[a-zA-Z]{2,3}) * @\\w++$\n",
        "\n",
        "\n",
        "By improving your algorithmic skills, Regular Expressions (Regx or RegExp) can help you become a more proficient problem solver. At first, the Regx structure may seem daunting, but after you understand all the patterns and apply them correctly to your job, it becomes incredibly rewarding.\n",
        "\n"
      ]
    },
    {
      "cell_type": "markdown",
      "id": "3e7c7b40",
      "metadata": {
        "id": "3e7c7b40"
      },
      "source": [
        "## What is Regex and why is it important?\n",
        "A Regex, also known as a regular expression, is a kind of object that may be used to search through text and find the information you need in order to extract information from any string data. Any character combination in a string can be checked and matched using RegEx, including punctuation, numerals, letters, and even white spaces.\n",
        "\n",
        "Let's say, for instance, that you need to match the format of security numbers or email addresses. RegEx can be used to replace another substring and to check for patterns inside text strings.\n",
        "\n",
        "\n",
        "\n",
        "A RegEx, for example, could instruct the software to look for a certain text in the string and then print the results appropriately. Text matching, word repetition, branching, and pattern composition are examples of expressions.\n",
        "\n",
        "RegEx is supported by Python libraries. RegEx supports a number of things, including White Space, Modifiers, and Identifiers.\n",
        "\n",
        "\n",
        "\n",
        "\n",
        "\n"
      ]
    },
    {
      "cell_type": "markdown",
      "id": "0d054648",
      "metadata": {
        "id": "0d054648"
      },
      "source": [
        "| **Identifiers**                   | **Modifiers**                                                    | **White space characters** | **Escape required**       |\n",
        "|---------------------------------|--------------------------------------------------------------|------------------------|-----------------------|\n",
        "| `\\d` = any number (a digit)     | `\\d` represents a digit. Ex: `\\d{1,5}` will declare a digit between 1,5 like 424, 444, 545, etc. | `\\n` = new line        | `.` `+` `?` `*` `{}` `$` `^` `()` `[]` `|` `\\` |\n",
        "| `\\D` = anything but a number (a non-digit) | `+` = matches 1 or more                                      | `\\s` = space           |                       |\n",
        "| `\\s` = space (tab, space, newline, etc.) | `?` = matches 0 or 1                                         | `\\t` = tab             |                       |\n",
        "| `\\S` = anything but a space     | `*` = 0 or more                                               | `\\e` = escape          |                       |\n",
        "| `\\w` = letters (match alphanumeric character, including `_`) | `$` match end of a string                                    | `\\r` = carriage return |                       |\n",
        "| `\\W` = anything but letters (matches a non-alphanumeric character excluding `_`) | `^` match start of a string                                  | `\\f` = form feed       |                       |\n",
        "| `.` = anything but letters (periods) | `|` matches either x or y                                     | ---------------------- |                       |\n",
        "| `\\b` = any character except for new line | `[]` = range or \"variance\"                                   | ---------------------- |                       |\n",
        "| `\\`                             | `{x}` = this amount of preceding element                      |                        |                       |\n"
      ]
    },
    {
      "cell_type": "markdown",
      "id": "8888e33e",
      "metadata": {
        "id": "8888e33e"
      },
      "source": [
        "## RegEx Syntax\n",
        "  import re\n",
        "* In addition to being widely used for web scraping, Python's re module is utilized for string searching and manipulation.*W+ and ^ Expression Example**\n",
        "\n",
        "* ^: This expression corresponds to the beginning of a string.\n",
        "\n",
        "* w+: This expression corresponds to the string's alphanumeric characters.\n",
        "\n",
        "\n",
        "\n",
        "The use of w+ and ^ expressions in code will be demonstrated in this example. Just concentrate on the w+ and ^ expression; re.findall will be covered in the following sections.\n",
        "\n",
        "\n",
        "\n",
        "Let's look at \"iNeuron13, Data is a new fuel\" as an example. The code will produce 'iNeuron13' if it is executed.\n",
        "\n"
      ]
    },
    {
      "cell_type": "code",
      "execution_count": 67,
      "id": "bd564172",
      "metadata": {
        "colab": {
          "base_uri": "https://localhost:8080/"
        },
        "id": "bd564172",
        "outputId": "88554c02-aaed-4d1d-a0c8-d00365a6689f"
      },
      "outputs": [
        {
          "output_type": "stream",
          "name": "stdout",
          "text": [
            "['dataset']\n"
          ]
        }
      ],
      "source": [
        "import re\n",
        "\n",
        "sent = \"dataset, Data is a new fuel\"\n",
        "r2 = re.findall(r\"^\\w+\", sent)\n",
        "print(r2)\n"
      ]
    },
    {
      "cell_type": "markdown",
      "id": "0e71889c",
      "metadata": {
        "id": "0e71889c"
      },
      "source": [
        "*Note*: If we remove the + sign from \\w, the output will change and it'll give only the first character of the first letter, i.e., [i]."
      ]
    },
    {
      "cell_type": "markdown",
      "id": "4253cc88",
      "metadata": {
        "id": "4253cc88"
      },
      "source": [
        "## Example of \\s expression in re.split function\n",
        "* \\s: To add a space to a string, use this expression. We'll utilize the split function in a straightforward example to help you better understand this expression. The re.split function must be used in this example to split each word, and \\s is used to allow each word in the string to be parsed independently."
      ]
    },
    {
      "cell_type": "code",
      "execution_count": 68,
      "id": "139f8bd6",
      "metadata": {
        "colab": {
          "base_uri": "https://localhost:8080/"
        },
        "id": "139f8bd6",
        "outputId": "69a9ed11-38c2-4ab2-e504-853074dcb708"
      },
      "outputs": [
        {
          "output_type": "stream",
          "name": "stdout",
          "text": [
            "['We', 'splited', 'this', 'sentence']\n"
          ]
        }
      ],
      "source": [
        "import re\n",
        "print(re.split(r'\\s', 'We splited this sentence'))"
      ]
    },
    {
      "cell_type": "markdown",
      "id": "14830cca",
      "metadata": {
        "id": "14830cca"
      },
      "source": [
        "As we can see above, we got the output ['We', 'splited', 'this', 'sentence'], but what if we remove '\\' from '\\s', it will give a result like removing 's' from the entire sentence. Let's see in the example below:"
      ]
    },
    {
      "cell_type": "markdown",
      "id": "856711cb",
      "metadata": {
        "id": "856711cb"
      },
      "source": [
        "import re\n",
        "print(re.split(r's', 'We splited this sentence'))"
      ]
    },
    {
      "cell_type": "markdown",
      "id": "f7ff9e25",
      "metadata": {
        "id": "f7ff9e25"
      },
      "source": [
        "Similarly, there are series of regular expressions in Python that you can use in various ways like \\d, \\D, $, \\b, etc."
      ]
    },
    {
      "cell_type": "markdown",
      "id": "bd4dd431",
      "metadata": {
        "id": "bd4dd431"
      },
      "source": [
        "## Use RegEx methods\n",
        "There are multiple ways to actually run queries on an input string using the \"re\" packages. We'll observe many approaches, including:\n",
        "\n",
        "re.match()\n",
        " re.search()\n",
        " re.findall()\n",
        "\n",
        "\n",
        "\n",
        "Note: Python provides two distinct primitive operations based on RegEx. While the search function looks for a match anywhere in the string, the match method only looks for a match at the beginning.\n",
        "\n"
      ]
    },
    {
      "cell_type": "markdown",
      "id": "9562f4de",
      "metadata": {
        "id": "9562f4de"
      },
      "source": [
        "### Using re.match()\n",
        "The RegEx pattern is matched to a string with an optional flag using the match function. Here, words that begin with \"i\" will be matched by \\w+ and \\W, while anything that does not begin with \"i\" will not be identified. We use the for loop to check if each entry in the list or string matches."
      ]
    },
    {
      "cell_type": "code",
      "execution_count": 69,
      "id": "4d1effdd",
      "metadata": {
        "colab": {
          "base_uri": "https://localhost:8080/"
        },
        "id": "4d1effdd",
        "outputId": "dccf9425-18d5-46e6-9a14-6c8dd04efab2"
      },
      "outputs": [
        {
          "output_type": "stream",
          "name": "stdout",
          "text": [
            "('icecream', 'images')\n"
          ]
        }
      ],
      "source": [
        "import re\n",
        "lists = ['icecream images', 'i immitated', 'inner peace']\n",
        "for i in lists:\n",
        "    q = re.match(\"(i\\w+)\\W(i\\w+)\", i)\n",
        "    if q:\n",
        "        print(q.groups())\n"
      ]
    },
    {
      "cell_type": "markdown",
      "id": "4508c3c0",
      "metadata": {
        "id": "4508c3c0"
      },
      "source": [
        "## Finding Pattern in the text (re.search())\n",
        "It's normal practice to utilize a RegEx to look for patterns in text. Using a string and a RegEx pattern, this function looks for the pattern inside the string.\n",
        "\n",
        "You must import re before you can use the re.search() function. The \"pattern\" and \"text\" are passed to the search() function, which uses them to search the supplied string and returns the match object if the pattern is found or not.\n",
        "\n"
      ]
    },
    {
      "cell_type": "code",
      "execution_count": 70,
      "id": "d44bbd9f",
      "metadata": {
        "colab": {
          "base_uri": "https://localhost:8080/"
        },
        "id": "d44bbd9f",
        "outputId": "75f6e671-f796-4ef5-86a6-22d958a4c35d"
      },
      "outputs": [
        {
          "output_type": "stream",
          "name": "stdout",
          "text": [
            "You're looking for 'playing' in 'Raju is playing outside.' Found match!\n",
            "You're looking for 'dataset' in 'Raju is playing outside.' no match found!\n"
          ]
        }
      ],
      "source": [
        "import re\n",
        "\n",
        "pattern = [\"playing\", \"dataset\"]\n",
        "text = \"Raju is playing outside.\"\n",
        "\n",
        "for p in pattern:\n",
        "    print(\"You're looking for '%s' in '%s'\" % (p, text), end = ' ')\n",
        "\n",
        "    if re.search(p, text):\n",
        "        print('Found match!')\n",
        "    else:\n",
        "        print('no match found!')\n"
      ]
    },
    {
      "cell_type": "markdown",
      "id": "6a688e0c",
      "metadata": {
        "id": "6a688e0c"
      },
      "source": [
        "In the above example, we look for two literal strings \"playing\", \"dataset\" and in the text string we had taken \"Raju is playing outside.\". For \"playing\" we got the match and in the output we got \"Found Match\", while for the word \"dataset\" we didn't get any match. So, we got no match found for that word."
      ]
    },
    {
      "cell_type": "markdown",
      "id": "fd381abd",
      "metadata": {
        "id": "fd381abd"
      },
      "source": [
        "## Using re.findall() for text\n",
        "To iterate across the file's lines, we utilize the re.findall() module. All of the matches will be listed at once. In this example, the re.findall() method is used to retrieve email addresses from a list and to retrieve all emails from the list."
      ]
    },
    {
      "cell_type": "code",
      "execution_count": 71,
      "id": "3e6b3476",
      "metadata": {
        "colab": {
          "base_uri": "https://localhost:8080/"
        },
        "id": "3e6b3476",
        "outputId": "18dba744-4857-45e5-f201-643ebe2d4fc2"
      },
      "outputs": [
        {
          "output_type": "stream",
          "name": "stdout",
          "text": [
            "Abc@gmail.com\n",
            "XYX@gmail.com\n",
            "lmn@gmail.com\n",
            "efg@gmail.com\n"
          ]
        }
      ],
      "source": [
        "import re\n",
        "\n",
        "kgf = \"Abc@gmail.com, XYX@gmail.com, lmn@gmail.com, efg@gmail.com\"\n",
        "emails = re.findall(r'[\\w\\.-]+@[\\w\\.-]+', kgf)\n",
        "\n",
        "for e in emails:\n",
        "    print(e)\n"
      ]
    },
    {
      "cell_type": "markdown",
      "id": "a5a3cfa6",
      "metadata": {
        "id": "a5a3cfa6"
      },
      "source": [
        "## Text Normalization\n",
        "Text normalization is one of the most neglected steps in text pre-processing. The process of changing a text into its canonical (or standard) form is known as text normalization. For example, \"ok\" and \"k\" can be changed to \"okay,\" which is its standard form. Words like \"preprocessing,\" \"pre-processing,\" and \"preprocessing\" that are almost identical can also be mapped to just \"preprocessing.\"\n",
        "\n",
        "Text normalization is particularly helpful for noisy texts with a high frequency of misspellings, acronyms, and out-of-vocabulary (OOV) words, such comments on blog posts, social media posts, and text messages.\n",
        "\n",
        "\n",
        "\n",
        "| Raw     | Normalized   |\n",
        "|---------|--------------|\n",
        "| 2moro   | tomorrow     |\n",
        "| 2mrrw   | tomorrow     |\n",
        "| 2morrow | tomorrow     |\n",
        "| 2mrw    | tomorrow     |\n",
        "| tomrw   | tomorrow     |\n",
        "| b4      | before       |\n",
        "| otw     | on the way   |\n",
        "| :)      | smile        |\n"
      ]
    },
    {
      "cell_type": "markdown",
      "id": "45227f11",
      "metadata": {
        "id": "45227f11"
      },
      "source": [
        "## Effects of normalization\n",
        "Even the analysis of highly unstructured clinical texts, in which doctors take notes in unconventional ways, has shown promise with text normalization. In cases where spelling variations and near synonyms are prevalent, we have also found it helpful for subject extraction (e.g., 'topic modelling,' 'topic modelling,' 'topic-modeling,' 'topic-modelling').\n",
        "\n",
        "There is no set method for normalizing texts, in contrast to stemming and lemmatization. Usually, it depends on the assignment. For instance, it may be argued that normalizing text messages differs from normalizing clinical writings.\n",
        "\n",
        "\n",
        "\n",
        "Dictionary mappings, statistical machine translation (SMT), and spelling-correction-based methods are a few popular methods for text normalization.\n",
        "\n"
      ]
    },
    {
      "cell_type": "markdown",
      "id": "474f3643",
      "metadata": {
        "id": "474f3643"
      },
      "source": [
        "## TOKENIZERS\n",
        "### NLTK"
      ]
    },
    {
      "cell_type": "code",
      "execution_count": 72,
      "id": "5fddb241",
      "metadata": {
        "colab": {
          "base_uri": "https://localhost:8080/"
        },
        "id": "5fddb241",
        "outputId": "fce37d7f-6634-43a2-b349-4f281daa4af5"
      },
      "outputs": [
        {
          "output_type": "stream",
          "name": "stdout",
          "text": [
            "Requirement already satisfied: nltk in /root/.local/lib/python3.10/site-packages (3.9.1)\n",
            "Requirement already satisfied: click in /usr/local/lib/python3.10/dist-packages (from nltk) (8.1.7)\n",
            "Requirement already satisfied: joblib in /usr/local/lib/python3.10/dist-packages (from nltk) (1.4.2)\n",
            "Requirement already satisfied: regex>=2021.8.3 in /usr/local/lib/python3.10/dist-packages (from nltk) (2024.9.11)\n",
            "Requirement already satisfied: tqdm in /usr/local/lib/python3.10/dist-packages (from nltk) (4.66.5)\n"
          ]
        }
      ],
      "source": [
        "!pip install --user -U nltk"
      ]
    },
    {
      "cell_type": "code",
      "execution_count": 73,
      "id": "e197e150",
      "metadata": {
        "id": "e197e150"
      },
      "outputs": [],
      "source": [
        "from nltk.tokenize.regexp import WhitespaceTokenizer\n",
        "m = \"There is no need to panic. We need to work together, take small yet important measures to ensure self-protection.\""
      ]
    },
    {
      "cell_type": "code",
      "execution_count": 74,
      "id": "9c68f467",
      "metadata": {
        "colab": {
          "base_uri": "https://localhost:8080/"
        },
        "id": "9c68f467",
        "outputId": "59481a85-0f65-46ae-a352-0fd3075d4911"
      },
      "outputs": [
        {
          "output_type": "execute_result",
          "data": {
            "text/plain": [
              "['Founded',\n",
              " 'in',\n",
              " '2002',\n",
              " ',',\n",
              " 'SpaceX',\n",
              " \"'s\",\n",
              " 'mission',\n",
              " 'is',\n",
              " 'to',\n",
              " 'enable',\n",
              " 'humans',\n",
              " 'to',\n",
              " 'become',\n",
              " 'a',\n",
              " 'spacefaring',\n",
              " 'civilization',\n",
              " 'and',\n",
              " 'a',\n",
              " 'multi-planetary',\n",
              " 'species',\n",
              " 'by',\n",
              " 'building',\n",
              " 'a',\n",
              " 'self-sustaining',\n",
              " 'city',\n",
              " 'on',\n",
              " 'Mars',\n",
              " '.',\n",
              " 'In',\n",
              " '2008',\n",
              " ',',\n",
              " 'SpaceX',\n",
              " \"'s\",\n",
              " 'Falcon',\n",
              " '1',\n",
              " 'became',\n",
              " 'the',\n",
              " 'first',\n",
              " 'privately',\n",
              " 'developed',\n",
              " 'liquid-fuel',\n",
              " 'launch',\n",
              " 'vehicle',\n",
              " 'to',\n",
              " 'orbit',\n",
              " 'the',\n",
              " 'Earth',\n",
              " '.']"
            ]
          },
          "metadata": {},
          "execution_count": 74
        }
      ],
      "source": [
        "from nltk.tokenize import word_tokenize\n",
        "text = \"\"\"Founded in 2002, SpaceX's mission is to enable humans to become a spacefaring civilization and a\n",
        "multi-planetary species by building a self-sustaining city on Mars. In 2008, SpaceX's Falcon 1 became the\n",
        "first privately developed liquid-fuel launch vehicle to orbit the Earth.\"\"\"\n",
        "word_tokenize(text)"
      ]
    },
    {
      "cell_type": "markdown",
      "id": "16082c9d",
      "metadata": {
        "id": "16082c9d"
      },
      "source": [
        "Note in the above, we had used a slightly different syntax for importing the module. You'll recognize by now the variable assignment."
      ]
    },
    {
      "cell_type": "code",
      "execution_count": 75,
      "id": "591ac059",
      "metadata": {
        "colab": {
          "base_uri": "https://localhost:8080/"
        },
        "id": "591ac059",
        "outputId": "9f80fa3c-0021-4ba7-dca0-85fcf6235a40"
      },
      "outputs": [
        {
          "output_type": "stream",
          "name": "stdout",
          "text": [
            "19\n"
          ]
        }
      ],
      "source": [
        "tokens=WhitespaceTokenizer().tokenize(m)\n",
        "print(len(tokens))"
      ]
    },
    {
      "cell_type": "code",
      "execution_count": 76,
      "id": "5faeac21",
      "metadata": {
        "colab": {
          "base_uri": "https://localhost:8080/"
        },
        "id": "5faeac21",
        "outputId": "7d35f331-91e8-4be9-e47a-d1f1177072b9"
      },
      "outputs": [
        {
          "output_type": "execute_result",
          "data": {
            "text/plain": [
              "['There',\n",
              " 'is',\n",
              " 'no',\n",
              " 'need',\n",
              " 'to',\n",
              " 'panic.',\n",
              " 'We',\n",
              " 'need',\n",
              " 'to',\n",
              " 'work',\n",
              " 'together,',\n",
              " 'take',\n",
              " 'small',\n",
              " 'yet',\n",
              " 'important',\n",
              " 'measures',\n",
              " 'to',\n",
              " 'ensure',\n",
              " 'self-protection.']"
            ]
          },
          "metadata": {},
          "execution_count": 76
        }
      ],
      "source": [
        "tokens"
      ]
    },
    {
      "cell_type": "code",
      "execution_count": 77,
      "id": "aac11d32",
      "metadata": {
        "colab": {
          "base_uri": "https://localhost:8080/"
        },
        "id": "aac11d32",
        "outputId": "d95a56ab-211f-46c6-bd18-35cbfa0a87dc"
      },
      "outputs": [
        {
          "output_type": "stream",
          "name": "stdout",
          "text": [
            "19\n"
          ]
        }
      ],
      "source": [
        "my_vocab=set(tokens)\n",
        "print(len(tokens))"
      ]
    },
    {
      "cell_type": "code",
      "execution_count": 81,
      "id": "6eb039df",
      "metadata": {
        "colab": {
          "base_uri": "https://localhost:8080/"
        },
        "id": "6eb039df",
        "outputId": "87c49e0c-ccd9-438c-98de-5e75ffe277a0"
      },
      "outputs": [
        {
          "output_type": "execute_result",
          "data": {
            "text/plain": [
              "{'There',\n",
              " 'We',\n",
              " 'ensure',\n",
              " 'important',\n",
              " 'is',\n",
              " 'measures',\n",
              " 'need',\n",
              " 'no',\n",
              " 'panic.',\n",
              " 'self-protection.',\n",
              " 'small',\n",
              " 'take',\n",
              " 'to',\n",
              " 'together,',\n",
              " 'work',\n",
              " 'yet'}"
            ]
          },
          "metadata": {},
          "execution_count": 81
        }
      ],
      "source": [
        "my_vocab"
      ]
    },
    {
      "cell_type": "markdown",
      "id": "f17da593",
      "metadata": {
        "id": "f17da593"
      },
      "source": [
        "Now we are going to perform the same operation but with a different tokenizer.\n"
      ]
    },
    {
      "cell_type": "code",
      "execution_count": 82,
      "id": "01e2cd1c",
      "metadata": {
        "id": "01e2cd1c"
      },
      "outputs": [],
      "source": [
        "my_st = \"There is no need to panic. We need to work together, take small yet important measures to ensure self-protection, the Prime Minister tweeted.\""
      ]
    },
    {
      "cell_type": "markdown",
      "id": "920bc1b7",
      "metadata": {
        "id": "920bc1b7"
      },
      "source": [
        " We'll import a different tokenizer:"
      ]
    },
    {
      "cell_type": "code",
      "execution_count": 83,
      "id": "141e2472",
      "metadata": {
        "id": "141e2472"
      },
      "outputs": [],
      "source": [
        "from nltk.tokenize.regexp import WordPunctTokenizer"
      ]
    },
    {
      "cell_type": "markdown",
      "id": "6b202638",
      "metadata": {
        "id": "6b202638"
      },
      "source": [
        "The above tokenizer also splits the words into tokens:"
      ]
    },
    {
      "cell_type": "code",
      "execution_count": 84,
      "id": "6d6a6c6d",
      "metadata": {
        "colab": {
          "base_uri": "https://localhost:8080/"
        },
        "id": "6d6a6c6d",
        "outputId": "65e3552a-6673-4ad7-9e16-322c89fe5247"
      },
      "outputs": [
        {
          "output_type": "stream",
          "name": "stdout",
          "text": [
            "29\n"
          ]
        }
      ],
      "source": [
        "m_t = WordPunctTokenizer().tokenize(my_st)\n",
        "print(len(m_t))"
      ]
    },
    {
      "cell_type": "code",
      "execution_count": 85,
      "id": "ecdd4710",
      "metadata": {
        "colab": {
          "base_uri": "https://localhost:8080/"
        },
        "id": "ecdd4710",
        "outputId": "98f4d6d4-4117-4a86-ddff-7e3b81ea273f"
      },
      "outputs": [
        {
          "output_type": "execute_result",
          "data": {
            "text/plain": [
              "['There',\n",
              " 'is',\n",
              " 'no',\n",
              " 'need',\n",
              " 'to',\n",
              " 'panic',\n",
              " '.',\n",
              " 'We',\n",
              " 'need',\n",
              " 'to',\n",
              " 'work',\n",
              " 'together',\n",
              " ',',\n",
              " 'take',\n",
              " 'small',\n",
              " 'yet',\n",
              " 'important',\n",
              " 'measures',\n",
              " 'to',\n",
              " 'ensure',\n",
              " 'self',\n",
              " '-',\n",
              " 'protection',\n",
              " ',',\n",
              " 'the',\n",
              " 'Prime',\n",
              " 'Minister',\n",
              " 'tweeted',\n",
              " '.']"
            ]
          },
          "metadata": {},
          "execution_count": 85
        }
      ],
      "source": [
        "m_t"
      ]
    },
    {
      "cell_type": "markdown",
      "id": "c3463f9b",
      "metadata": {
        "id": "c3463f9b"
      },
      "source": [
        "What is the difference between the above approaches? In the first one, vocabulary ends up containing \"words\" and \"words.\" as two distinct words; whereas in the second example \"words\" is a token type and \".\" (i.e. the dot) is split into a separate token and this results into a new token type in addition to \"words.\""
      ]
    },
    {
      "cell_type": "code",
      "execution_count": 86,
      "id": "48e0317c",
      "metadata": {
        "colab": {
          "base_uri": "https://localhost:8080/"
        },
        "id": "48e0317c",
        "outputId": "9122c7fd-24cb-4d6c-f623-64e9b4ac23c6"
      },
      "outputs": [
        {
          "output_type": "execute_result",
          "data": {
            "text/plain": [
              "[\"Founded in 2002, SpaceX's mission is to enable humans to become a spacefaring civilization \\nand a multi-planet species by building a self-sustaining city on Mars.\",\n",
              " \"In 2008, SpaceX's Falcon 1 became the first privately developed liquid-fuel launch vehicle to orbit the Earth.\"]"
            ]
          },
          "metadata": {},
          "execution_count": 86
        }
      ],
      "source": [
        "from nltk.tokenize import sent_tokenize\n",
        "\n",
        "text = \"\"\"Founded in 2002, SpaceX's mission is to enable humans to become a spacefaring civilization\n",
        "and a multi-planet species by building a self-sustaining city on Mars.\n",
        "In 2008, SpaceX's Falcon 1 became the first privately developed liquid-fuel launch vehicle to orbit the Earth.\"\"\"\n",
        "\n",
        "sent_tokenize(text)\n"
      ]
    },
    {
      "cell_type": "markdown",
      "id": "f02afbbe",
      "metadata": {
        "id": "f02afbbe"
      },
      "source": [
        "## Frequency Distribution\n",
        "What is Frequency distribution? This is basically counting words in your texts. To give a brief example of how it works, we use:"
      ]
    },
    {
      "cell_type": "code",
      "execution_count": 87,
      "id": "2b2c966e",
      "metadata": {
        "colab": {
          "base_uri": "https://localhost:8080/"
        },
        "id": "2b2c966e",
        "outputId": "70931d53-14ef-4fad-ecdb-fded17d8a0c9"
      },
      "outputs": [
        {
          "output_type": "stream",
          "name": "stdout",
          "text": [
            "\n",
            "\n",
            "\n",
            "\n",
            "<FreqDist with 18 samples and 22 outcomes>\n"
          ]
        }
      ],
      "source": [
        "# from nltk.book import *\n",
        "import nltk\n",
        "# nltk.download('gutenberg')\n",
        "print(\"\\n\\n\\n\")\n",
        "text1 = \"There is no need to panic. We need to work together, take small yet important measures to ensure self-protection.\"\n",
        "freqDist = nltk.FreqDist(word_tokenize(text1))\n",
        "print(freqDist)"
      ]
    },
    {
      "cell_type": "markdown",
      "id": "26b4f45f",
      "metadata": {
        "id": "26b4f45f"
      },
      "source": [
        "The class FreqDist works like a dictionary where keys are the words in the text and the values are the counts associated with that word. For example, if you want to see how many words \"person\" are in the text, you can type as:"
      ]
    },
    {
      "cell_type": "code",
      "execution_count": 88,
      "id": "56c6b993",
      "metadata": {
        "colab": {
          "base_uri": "https://localhost:8080/"
        },
        "id": "56c6b993",
        "outputId": "e952f84f-ac30-47a8-922f-f9fadb279b32"
      },
      "outputs": [
        {
          "output_type": "stream",
          "name": "stdout",
          "text": [
            "0\n"
          ]
        }
      ],
      "source": [
        "print(freqDist[\"person\"])"
      ]
    },
    {
      "cell_type": "code",
      "execution_count": 89,
      "id": "32d8cf2f",
      "metadata": {
        "colab": {
          "base_uri": "https://localhost:8080/"
        },
        "id": "32d8cf2f",
        "outputId": "6889fe44-aede-4df0-b5cb-94c9a3aff09c"
      },
      "outputs": [
        {
          "output_type": "stream",
          "name": "stdout",
          "text": [
            "1\n"
          ]
        }
      ],
      "source": [
        "print(freqDist[\"is\"])"
      ]
    },
    {
      "cell_type": "markdown",
      "id": "4f28205b",
      "metadata": {
        "id": "4f28205b"
      },
      "source": [
        "One of the most important functions in FreqDist is the .keys() function. Let us see what it will give in the below code."
      ]
    },
    {
      "cell_type": "code",
      "execution_count": 90,
      "id": "a0aad5bd",
      "metadata": {
        "colab": {
          "base_uri": "https://localhost:8080/"
        },
        "id": "a0aad5bd",
        "outputId": "41fd7f0e-4053-4b03-9f6a-f158ca415e69"
      },
      "outputs": [
        {
          "output_type": "stream",
          "name": "stdout",
          "text": [
            "<class 'dict_keys'>\n"
          ]
        }
      ],
      "source": [
        "words = freqDist.keys()\n",
        "print(type(words))"
      ]
    },
    {
      "cell_type": "markdown",
      "id": "20835783",
      "metadata": {
        "id": "20835783"
      },
      "source": [
        "After running the above code, it'll give as class dict_keys, in other words, you get a list of all the words in your text.\n",
        "\n",
        "And if you want to see how many words are there in the text, you can use:\n"
      ]
    },
    {
      "cell_type": "code",
      "execution_count": 91,
      "id": "65bc6463",
      "metadata": {
        "colab": {
          "base_uri": "https://localhost:8080/"
        },
        "id": "65bc6463",
        "outputId": "e2f4d8d5-5ad6-464a-aa43-e9f5eb24c3d7"
      },
      "outputs": [
        {
          "output_type": "stream",
          "name": "stdout",
          "text": [
            "18\n"
          ]
        }
      ],
      "source": [
        "print(len(words))"
      ]
    },
    {
      "cell_type": "markdown",
      "id": "6612646a",
      "metadata": {
        "id": "6612646a"
      },
      "source": [
        "What is the difference when the function does the identical tasks in the class nltk.text.Text? The distinction is that FreqDist allows you to write your own text without requiring that it be converted to nltk.text.class for text.\n",
        "\n",
        "Plot is the other typical function. The most frequently used terms in your content will be shown by Plot. Thus, to view the top 15 terms in your content, follow these steps:\n",
        "\n"
      ]
    },
    {
      "cell_type": "code",
      "execution_count": 92,
      "id": "a9b9e76c",
      "metadata": {
        "colab": {
          "base_uri": "https://localhost:8080/",
          "height": 522
        },
        "id": "a9b9e76c",
        "outputId": "616d6e49-0b2d-404f-d791-2168c367cf4e"
      },
      "outputs": [
        {
          "output_type": "execute_result",
          "data": {
            "text/plain": [
              "<Axes: xlabel='Samples', ylabel='Counts'>"
            ]
          },
          "metadata": {},
          "execution_count": 92
        },
        {
          "output_type": "display_data",
          "data": {
            "text/plain": [
              "<Figure size 640x480 with 1 Axes>"
            ],
            "image/png": "[encoded data removed]"
          },
          "metadata": {}
        }
      ],
      "source": [
        "freqDist.plot(15)"
      ]
    },
    {
      "cell_type": "code",
      "execution_count": 92,
      "id": "40339091",
      "metadata": {
        "id": "40339091"
      },
      "outputs": [],
      "source": []
    }
  ],
  "metadata": {
    "kernelspec": {
      "display_name": "Python 3",
      "name": "python3"
    },
    "language_info": {
      "codemirror_mode": {
        "name": "ipython",
        "version": 3
      },
      "file_extension": ".py",
      "mimetype": "text/x-python",
      "name": "python",
      "nbconvert_exporter": "python",
      "pygments_lexer": "ipython3",
      "version": "3.11.5"
    },
    "colab": {
      "provenance": []
    }
  },
  "nbformat": 4,
  "nbformat_minor": 5
}