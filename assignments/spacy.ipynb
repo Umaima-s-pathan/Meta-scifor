{
  "nbformat": 4,
  "nbformat_minor": 0,
  "metadata": {
    "colab": {
      "provenance": []
    },
    "kernelspec": {
      "name": "python3",
      "display_name": "Python 3"
    },
    "language_info": {
      "name": "python"
    }
  },
  "cells": [
    {
      "cell_type": "markdown",
      "source": [
        "##What is spaCy?\n",
        "Spacy is an open-source, free Python module for sophisticated natural language processing (NLP).\n",
        "\n",
        "You'll eventually want to know more about the text you're working with, let's say. For instance, what's the matter? In the context, what do the words mean? What is being done to whom by whom? Which goods and businesses are referenced in the text? Which texts are comparable to one another?\n",
        "\n",
        "Spicy, which was created especially for production use, aids in the development of applications that can handle and \"understand\" vast amounts of text. It can be used to pre-process text for deep learning or to create systems for information extraction or natural language processing.\n",
        "\n",
        "#What isn't spacy?\n",
        "\n",
        "An \"API\" or platform is not what spacy is. Spacy does not offer online applications or software as a service, in contrast to platforms. It is an open-source library, not a service, that is intended to assist you in creating NLP applications.\n",
        "The second is that Spacy is not a novel chatbot engine. Although Spacy can be used to power conversational apps, it is not made especially for chatbots; rather, it merely offers the text processing foundation.\n",
        "\n",
        "Spacey is not research software, to start with. Although it is based on the most recent research, its goal is to accomplish goals. Compared to NLTK or CoreNLP, which were developed as teaching and research platforms, this results in somewhat different architectural choices. The primary distinction is the integration of spacy and\n",
        "\n",
        ".\n",
        "\n",
        "Spacey strives to steer clear of requiring the user to select between several methods that provide comparable functionality. Spacy is able to provide a generally better developer experience and performance by keeping the menu short.\n",
        "Fourth, Spacey is not a business. The library is open-source. Explosion Al is the firm that publishes Spacey and other applications.\n"
      ],
      "metadata": {
        "id": "25RYvR3bHFgD"
      }
    },
    {
      "cell_type": "markdown",
      "source": [
        "\n",
        "\n",
        "#Installation\n",
        "spacy is compatible with 64bit of Cython 2.7/3.5+ and runs on Unix/Linux, macOS/OS X and Windows. The latest version of spacy is available over pip and conda.\n",
        "--> Installation with pip in Linux, Windows and macOS/OS X for both version of Python 2.7/3.5+\n",
        "pip install -U spacy or pip install spacy\n",
        "I\n",
        "--> Installation with conda in Linux, Windows and macOS/OS X for both version of Python 2.7/3.5+\n",
        "conda install -c conda-forge spacy\n",
        "#Features\n",
        "Here, you'll come across mentions of spacy's features and capabilities.\n",
        "##Statistical models\n",
        "In order to anticipate linguistic annotations, such as whether a word is a verb or a noun, some of Spacy's features operate independently, while others need statistical models to be loaded. Currently available as standalone Python modules, spaCy provides statistical models for a number of languages. Size, speed, memory use, accuracy, and the data they contain can all vary among models. Your use cases and the texts you are dealing with will constantly influence the model you select. The tiny and default models are always an excellent place to start for a general use case. Usually, they consist of the following elements:\n",
        "\n",
        "\n",
        "\n",
        "\n",
        "\n",
        "\n",
        "• Binary weights for the part-of-speech tagger, dependency parser\n",
        "and named entity recognizer to predict those annotations in context.\n",
        "\n",
        "⚫ Lexical entries in the vocabulary, i.e. words and their context-independent attributes like the shape or spelling\n",
        "\n",
        "• Data files like lemmatization rules and lookup tables.\n",
        "\n",
        "⚫ Word vectors, i.e. multi-dimensional meaning representations of words that let you determine how similar they are to each other.\n",
        "\n",
        "• Configuration options, like the language and processing pipeline settings, to put spacy in the correct state when you load in the model.\n",
        "\n",
        "#Linguistic annotations\n",
        "A spacy offers a range of linguistic annotations to help you understand the grammatical structure of a text. This covers the many kinds of words, such as the parts of speech, and the relationships between them. if a term is the subject or the object of a phrase, for instance, or if \"google\" is employed as a verb or refers to the website or business in a particular context, all matter greatly when interpreting text.\n",
        "A model can be loaded using spacy.load() after it has been downloaded and installed. This will produce a Language object with all the information and parts required to process text. Typically, we call it nip object on a text string, which yields a processed document:\n",
        "\n",
        "\n"
      ],
      "metadata": {
        "id": "qoXakerdIDT8"
      }
    },
    {
      "cell_type": "code",
      "execution_count": 1,
      "metadata": {
        "colab": {
          "base_uri": "https://localhost:8080/"
        },
        "id": "YXu9XacaTd0R",
        "outputId": "3d3141ce-1117-49be-a3c5-c03d5d34adfc"
      },
      "outputs": [
        {
          "output_type": "stream",
          "name": "stdout",
          "text": [
            "Apple PROPN nsubj\n",
            "is AUX aux\n",
            "looking VERB ROOT\n",
            "at ADP prep\n",
            "buying VERB pcomp\n",
            "U.K. PROPN dobj\n",
            "startup NOUN dep\n",
            "for ADP prep\n",
            "$ SYM quantmod\n",
            "1 NUM compound\n",
            "billion NUM pobj\n"
          ]
        }
      ],
      "source": [
        "import spacy\n",
        "\n",
        "nlp = spacy.load(\"en_core_web_sm\")\n",
        "\n",
        "doc = nlp(\"Apple is looking at buying U.K. startup for $1 billion\")\n",
        "for token in doc:\n",
        "  print(token.text, token.pos_ , token.dep_)"
      ]
    },
    {
      "cell_type": "markdown",
      "source": [
        "A document retains all of its original information, including whitespace characters, even after it has been processed, such as by being divided into individual words and annotated. You can always unite the tokens and their trailing whitespace to reconstruct the original string, or you can always extract the offset of a token within the original string. In this manner, when using Spacy to parse text, you will never lose any information.\n",
        "\n"
      ],
      "metadata": {
        "id": "S15rpjBlKJ7b"
      }
    },
    {
      "cell_type": "markdown",
      "source": [
        "#Tokenization\n",
        "Spicy first tokenizes the text during processing, breaking it up into words, punctuation, and other elements. This is accomplished by using language-specific rules. For instance, punctuation should be broken off at the end of sentences, but \"U.K.\" should stay as a single token. We may iterate over the distinct tokens that make up each Doc:"
      ],
      "metadata": {
        "id": "ucxDUJyCbXH8"
      }
    },
    {
      "cell_type": "code",
      "source": [
        "import spacy\n",
        "nlp = spacy.load(\"en_core_web_sm\")\n",
        "doc = nlp(\"Apple is looking at buying U.K. startup for $1 billion\")\n",
        "for token in doc:\n",
        "  print(token.text)"
      ],
      "metadata": {
        "colab": {
          "base_uri": "https://localhost:8080/"
        },
        "id": "oxPvQ4xxbPzr",
        "outputId": "9311f671-f4cb-4d18-89da-45aa0e491e98"
      },
      "execution_count": 2,
      "outputs": [
        {
          "output_type": "stream",
          "name": "stdout",
          "text": [
            "Apple\n",
            "is\n",
            "looking\n",
            "at\n",
            "buying\n",
            "U.K.\n",
            "startup\n",
            "for\n",
            "$\n",
            "1\n",
            "billion\n"
          ]
        }
      ]
    },
    {
      "cell_type": "markdown",
      "source": [
        "#Part of Speech (POS) tags and dependencies\n",
        "Spacy can parse and tag a given document once it has been tokenized. The statistical model is used in this situation to determine which tag or label is most likely to apply in this situation. A model, which is made up of binary data, is created by providing a system with enough examples to enable it to generate predictions that are applicable to the entire language. For instance, in English, a word that comes after \"the\" is probably a noun.\n",
        "Tokens for linguistic annotations are available.Spacy, like many other NLP libraries, converts all strings to hash values in order to increase efficiency and minimize memory usage. Therefore, we must append an underscore__ to an attribute's name in order to obtain its readable string representation:\n",
        "\n"
      ],
      "metadata": {
        "id": "SuXYvTPnbdCa"
      }
    },
    {
      "cell_type": "code",
      "source": [
        "import spacy\n",
        "nlp = spacy.load(\"en_core_web_sm\")\n",
        "doc = nlp(\"Apple is looking at buying U.K. startup for $1 billion\")\n",
        "for token in doc:\n",
        "  print(token.text, token.pos_, token.dep_, token.lemma_ , token.tag_ , token.shape_ , token.is_alpha , token.is_stop)"
      ],
      "metadata": {
        "colab": {
          "base_uri": "https://localhost:8080/"
        },
        "id": "iZITKitjbbK9",
        "outputId": "96748caa-5064-42f5-a124-4d1d32345f17"
      },
      "execution_count": 3,
      "outputs": [
        {
          "output_type": "stream",
          "name": "stdout",
          "text": [
            "Apple PROPN nsubj Apple NNP Xxxxx True False\n",
            "is AUX aux be VBZ xx True True\n",
            "looking VERB ROOT look VBG xxxx True False\n",
            "at ADP prep at IN xx True True\n",
            "buying VERB pcomp buy VBG xxxx True False\n",
            "U.K. PROPN dobj U.K. NNP X.X. False False\n",
            "startup NOUN dep startup NN xxxx True False\n",
            "for ADP prep for IN xxx True True\n",
            "$ SYM quantmod $ $ $ False False\n",
            "1 NUM compound 1 CD d False False\n",
            "billion NUM pobj billion CD xxxx True False\n"
          ]
        }
      ]
    },
    {
      "cell_type": "code",
      "source": [
        "import spacy\n",
        "from spacy import displacy\n",
        "\n",
        "nlp = spacy.load(\"en_core_web_sm\")\n",
        "doc = nlp(\"Google , Apple crack down on fake coronavirus apps\")\n",
        "displacy.serve(doc, style=\"dep\")"
      ],
      "metadata": {
        "colab": {
          "base_uri": "https://localhost:8080/",
          "height": 678
        },
        "id": "h8FWP1gcb0as",
        "outputId": "4b3f9fc2-933a-41e0-d0df-a0cd48e15ab9"
      },
      "execution_count": 4,
      "outputs": [
        {
          "output_type": "stream",
          "name": "stderr",
          "text": [
            "/usr/local/lib/python3.10/dist-packages/spacy/displacy/__init__.py:106: UserWarning: [W011] It looks like you're calling displacy.serve from within a Jupyter notebook or a similar environment. This likely means you're already running a local web server, so there's no need to make displaCy start another one. Instead, you should be able to replace displacy.serve with displacy.render to show the visualization.\n",
            "  warnings.warn(Warnings.W011)\n"
          ]
        },
        {
          "output_type": "display_data",
          "data": {
            "text/plain": [
              "<IPython.core.display.HTML object>"
            ],
            "text/html": [
              "<span class=\"tex2jax_ignore\"><!DOCTYPE html>\n",
              "<html lang=\"en\">\n",
              "    <head>\n",
              "        <title>displaCy</title>\n",
              "    </head>\n",
              "\n",
              "    <body style=\"font-size: 16px; font-family: -apple-system, BlinkMacSystemFont, 'Segoe UI', Helvetica, Arial, sans-serif, 'Apple Color Emoji', 'Segoe UI Emoji', 'Segoe UI Symbol'; padding: 4rem 2rem; direction: ltr\">\n",
              "<figure style=\"margin-bottom: 6rem\">\n",
              "<svg xmlns=\"http://www.w3.org/2000/svg\" xmlns:xlink=\"http://www.w3.org/1999/xlink\" xml:lang=\"en\" id=\"033bd4850b874f5bbf4644b21334009a-0\" class=\"displacy\" width=\"1450\" height=\"399.5\" direction=\"ltr\" style=\"max-width: none; height: 399.5px; color: #000000; background: #ffffff; font-family: Arial; direction: ltr\">\n",
              "<text class=\"displacy-token\" fill=\"currentColor\" text-anchor=\"middle\" y=\"309.5\">\n",
              "    <tspan class=\"displacy-word\" fill=\"currentColor\" x=\"50\">Google ,</tspan>\n",
              "    <tspan class=\"displacy-tag\" dy=\"2em\" fill=\"currentColor\" x=\"50\">PROPN</tspan>\n",
              "</text>\n",
              "\n",
              "<text class=\"displacy-token\" fill=\"currentColor\" text-anchor=\"middle\" y=\"309.5\">\n",
              "    <tspan class=\"displacy-word\" fill=\"currentColor\" x=\"225\">Apple</tspan>\n",
              "    <tspan class=\"displacy-tag\" dy=\"2em\" fill=\"currentColor\" x=\"225\">PROPN</tspan>\n",
              "</text>\n",
              "\n",
              "<text class=\"displacy-token\" fill=\"currentColor\" text-anchor=\"middle\" y=\"309.5\">\n",
              "    <tspan class=\"displacy-word\" fill=\"currentColor\" x=\"400\">crack</tspan>\n",
              "    <tspan class=\"displacy-tag\" dy=\"2em\" fill=\"currentColor\" x=\"400\">VERB</tspan>\n",
              "</text>\n",
              "\n",
              "<text class=\"displacy-token\" fill=\"currentColor\" text-anchor=\"middle\" y=\"309.5\">\n",
              "    <tspan class=\"displacy-word\" fill=\"currentColor\" x=\"575\">down</tspan>\n",
              "    <tspan class=\"displacy-tag\" dy=\"2em\" fill=\"currentColor\" x=\"575\">ADP</tspan>\n",
              "</text>\n",
              "\n",
              "<text class=\"displacy-token\" fill=\"currentColor\" text-anchor=\"middle\" y=\"309.5\">\n",
              "    <tspan class=\"displacy-word\" fill=\"currentColor\" x=\"750\">on</tspan>\n",
              "    <tspan class=\"displacy-tag\" dy=\"2em\" fill=\"currentColor\" x=\"750\">ADP</tspan>\n",
              "</text>\n",
              "\n",
              "<text class=\"displacy-token\" fill=\"currentColor\" text-anchor=\"middle\" y=\"309.5\">\n",
              "    <tspan class=\"displacy-word\" fill=\"currentColor\" x=\"925\">fake</tspan>\n",
              "    <tspan class=\"displacy-tag\" dy=\"2em\" fill=\"currentColor\" x=\"925\">ADJ</tspan>\n",
              "</text>\n",
              "\n",
              "<text class=\"displacy-token\" fill=\"currentColor\" text-anchor=\"middle\" y=\"309.5\">\n",
              "    <tspan class=\"displacy-word\" fill=\"currentColor\" x=\"1100\">coronavirus</tspan>\n",
              "    <tspan class=\"displacy-tag\" dy=\"2em\" fill=\"currentColor\" x=\"1100\">NOUN</tspan>\n",
              "</text>\n",
              "\n",
              "<text class=\"displacy-token\" fill=\"currentColor\" text-anchor=\"middle\" y=\"309.5\">\n",
              "    <tspan class=\"displacy-word\" fill=\"currentColor\" x=\"1275\">apps</tspan>\n",
              "    <tspan class=\"displacy-tag\" dy=\"2em\" fill=\"currentColor\" x=\"1275\">NOUN</tspan>\n",
              "</text>\n",
              "\n",
              "<g class=\"displacy-arrow\">\n",
              "    <path class=\"displacy-arc\" id=\"arrow-033bd4850b874f5bbf4644b21334009a-0-0\" stroke-width=\"2px\" d=\"M70,264.5 C70,89.5 395.0,89.5 395.0,264.5\" fill=\"none\" stroke=\"currentColor\"/>\n",
              "    <text dy=\"1.25em\" style=\"font-size: 0.8em; letter-spacing: 1px\">\n",
              "        <textPath xlink:href=\"#arrow-033bd4850b874f5bbf4644b21334009a-0-0\" class=\"displacy-label\" startOffset=\"50%\" side=\"left\" fill=\"currentColor\" text-anchor=\"middle\">npadvmod</textPath>\n",
              "    </text>\n",
              "    <path class=\"displacy-arrowhead\" d=\"M70,266.5 L62,254.5 78,254.5\" fill=\"currentColor\"/>\n",
              "</g>\n",
              "\n",
              "<g class=\"displacy-arrow\">\n",
              "    <path class=\"displacy-arc\" id=\"arrow-033bd4850b874f5bbf4644b21334009a-0-1\" stroke-width=\"2px\" d=\"M245,264.5 C245,177.0 390.0,177.0 390.0,264.5\" fill=\"none\" stroke=\"currentColor\"/>\n",
              "    <text dy=\"1.25em\" style=\"font-size: 0.8em; letter-spacing: 1px\">\n",
              "        <textPath xlink:href=\"#arrow-033bd4850b874f5bbf4644b21334009a-0-1\" class=\"displacy-label\" startOffset=\"50%\" side=\"left\" fill=\"currentColor\" text-anchor=\"middle\">nsubj</textPath>\n",
              "    </text>\n",
              "    <path class=\"displacy-arrowhead\" d=\"M245,266.5 L237,254.5 253,254.5\" fill=\"currentColor\"/>\n",
              "</g>\n",
              "\n",
              "<g class=\"displacy-arrow\">\n",
              "    <path class=\"displacy-arc\" id=\"arrow-033bd4850b874f5bbf4644b21334009a-0-2\" stroke-width=\"2px\" d=\"M420,264.5 C420,177.0 565.0,177.0 565.0,264.5\" fill=\"none\" stroke=\"currentColor\"/>\n",
              "    <text dy=\"1.25em\" style=\"font-size: 0.8em; letter-spacing: 1px\">\n",
              "        <textPath xlink:href=\"#arrow-033bd4850b874f5bbf4644b21334009a-0-2\" class=\"displacy-label\" startOffset=\"50%\" side=\"left\" fill=\"currentColor\" text-anchor=\"middle\">prt</textPath>\n",
              "    </text>\n",
              "    <path class=\"displacy-arrowhead\" d=\"M565.0,266.5 L573.0,254.5 557.0,254.5\" fill=\"currentColor\"/>\n",
              "</g>\n",
              "\n",
              "<g class=\"displacy-arrow\">\n",
              "    <path class=\"displacy-arc\" id=\"arrow-033bd4850b874f5bbf4644b21334009a-0-3\" stroke-width=\"2px\" d=\"M420,264.5 C420,89.5 745.0,89.5 745.0,264.5\" fill=\"none\" stroke=\"currentColor\"/>\n",
              "    <text dy=\"1.25em\" style=\"font-size: 0.8em; letter-spacing: 1px\">\n",
              "        <textPath xlink:href=\"#arrow-033bd4850b874f5bbf4644b21334009a-0-3\" class=\"displacy-label\" startOffset=\"50%\" side=\"left\" fill=\"currentColor\" text-anchor=\"middle\">prep</textPath>\n",
              "    </text>\n",
              "    <path class=\"displacy-arrowhead\" d=\"M745.0,266.5 L753.0,254.5 737.0,254.5\" fill=\"currentColor\"/>\n",
              "</g>\n",
              "\n",
              "<g class=\"displacy-arrow\">\n",
              "    <path class=\"displacy-arc\" id=\"arrow-033bd4850b874f5bbf4644b21334009a-0-4\" stroke-width=\"2px\" d=\"M945,264.5 C945,89.5 1270.0,89.5 1270.0,264.5\" fill=\"none\" stroke=\"currentColor\"/>\n",
              "    <text dy=\"1.25em\" style=\"font-size: 0.8em; letter-spacing: 1px\">\n",
              "        <textPath xlink:href=\"#arrow-033bd4850b874f5bbf4644b21334009a-0-4\" class=\"displacy-label\" startOffset=\"50%\" side=\"left\" fill=\"currentColor\" text-anchor=\"middle\">amod</textPath>\n",
              "    </text>\n",
              "    <path class=\"displacy-arrowhead\" d=\"M945,266.5 L937,254.5 953,254.5\" fill=\"currentColor\"/>\n",
              "</g>\n",
              "\n",
              "<g class=\"displacy-arrow\">\n",
              "    <path class=\"displacy-arc\" id=\"arrow-033bd4850b874f5bbf4644b21334009a-0-5\" stroke-width=\"2px\" d=\"M1120,264.5 C1120,177.0 1265.0,177.0 1265.0,264.5\" fill=\"none\" stroke=\"currentColor\"/>\n",
              "    <text dy=\"1.25em\" style=\"font-size: 0.8em; letter-spacing: 1px\">\n",
              "        <textPath xlink:href=\"#arrow-033bd4850b874f5bbf4644b21334009a-0-5\" class=\"displacy-label\" startOffset=\"50%\" side=\"left\" fill=\"currentColor\" text-anchor=\"middle\">compound</textPath>\n",
              "    </text>\n",
              "    <path class=\"displacy-arrowhead\" d=\"M1120,266.5 L1112,254.5 1128,254.5\" fill=\"currentColor\"/>\n",
              "</g>\n",
              "\n",
              "<g class=\"displacy-arrow\">\n",
              "    <path class=\"displacy-arc\" id=\"arrow-033bd4850b874f5bbf4644b21334009a-0-6\" stroke-width=\"2px\" d=\"M770,264.5 C770,2.0 1275.0,2.0 1275.0,264.5\" fill=\"none\" stroke=\"currentColor\"/>\n",
              "    <text dy=\"1.25em\" style=\"font-size: 0.8em; letter-spacing: 1px\">\n",
              "        <textPath xlink:href=\"#arrow-033bd4850b874f5bbf4644b21334009a-0-6\" class=\"displacy-label\" startOffset=\"50%\" side=\"left\" fill=\"currentColor\" text-anchor=\"middle\">pobj</textPath>\n",
              "    </text>\n",
              "    <path class=\"displacy-arrowhead\" d=\"M1275.0,266.5 L1283.0,254.5 1267.0,254.5\" fill=\"currentColor\"/>\n",
              "</g>\n",
              "</svg>\n",
              "</figure>\n",
              "</body>\n",
              "</html></span>"
            ]
          },
          "metadata": {}
        },
        {
          "output_type": "stream",
          "name": "stdout",
          "text": [
            "\n",
            "Using the 'dep' visualizer\n",
            "Serving on http://0.0.0.0:5000 ...\n",
            "\n",
            "Shutting down server on port 5000.\n"
          ]
        }
      ]
    },
    {
      "cell_type": "markdown",
      "source": [
        "#Named Entities\n",
        "A named entity is a \"real-world object\" that has been given a name, such as a person, a nation, a product, or the title of a book. By requesting a prediction from the model, Spicy is able to identify different kinds of named entities in a document. This doesn't always work flawlessly and may require some fine-tuning later, depending on your use case, because models are statistical and heavily rely on the samples they were trained on.\n",
        "Named entities are accessible as a document's ents property:\n"
      ],
      "metadata": {
        "id": "qAUf9JLncOUT"
      }
    },
    {
      "cell_type": "code",
      "source": [
        "import spacy\n",
        "nlp = spacy.load(\"en_core_web_sm\")\n",
        "doc = nlp(\"Coronabirus: Delhi resident tests positive for coronavirus, total 31 people infected in India\")\n",
        "for ent in doc.ents:\n",
        "  print(ent.text, ent.start_char, ent.end_char, ent.label_)"
      ],
      "metadata": {
        "colab": {
          "base_uri": "https://localhost:8080/"
        },
        "id": "ZrNZwZxTcJNw",
        "outputId": "f73ddab3-bcbd-46e1-e721-221696061f38"
      },
      "execution_count": 5,
      "outputs": [
        {
          "output_type": "stream",
          "name": "stdout",
          "text": [
            "Delhi 13 18 GPE\n",
            "31 66 68 CARDINAL\n",
            "India 88 93 GPE\n"
          ]
        }
      ]
    },
    {
      "cell_type": "markdown",
      "source": [
        "Visualizing the Named Entity Recogizer"
      ],
      "metadata": {
        "id": "f3ssOE7Tchhz"
      }
    },
    {
      "cell_type": "code",
      "source": [
        "import spacy\n",
        "from spacy import displacy\n",
        "nlp = spacy.load(\"en_core_web_sm\")\n",
        "text = nlp(\"Coronabirus: Delhi resident tests positive for coronavirus, total 31 people infected in India\")\n",
        "doc = nlp(text)\n",
        "displacy.serve(doc, style=\"ent\")"
      ],
      "metadata": {
        "colab": {
          "base_uri": "https://localhost:8080/",
          "height": 253
        },
        "id": "WXTMPSYZcd23",
        "outputId": "166353da-234e-4120-ec8a-f871f3b4c6ef"
      },
      "execution_count": 6,
      "outputs": [
        {
          "output_type": "display_data",
          "data": {
            "text/plain": [
              "<IPython.core.display.HTML object>"
            ],
            "text/html": [
              "<span class=\"tex2jax_ignore\"><!DOCTYPE html>\n",
              "<html lang=\"en\">\n",
              "    <head>\n",
              "        <title>displaCy</title>\n",
              "    </head>\n",
              "\n",
              "    <body style=\"font-size: 16px; font-family: -apple-system, BlinkMacSystemFont, 'Segoe UI', Helvetica, Arial, sans-serif, 'Apple Color Emoji', 'Segoe UI Emoji', 'Segoe UI Symbol'; padding: 4rem 2rem; direction: ltr\">\n",
              "<figure style=\"margin-bottom: 6rem\">\n",
              "<div class=\"entities\" style=\"line-height: 2.5; direction: ltr\">Coronabirus: \n",
              "<mark class=\"entity\" style=\"background: #feca74; padding: 0.45em 0.6em; margin: 0 0.25em; line-height: 1; border-radius: 0.35em;\">\n",
              "    Delhi\n",
              "    <span style=\"font-size: 0.8em; font-weight: bold; line-height: 1; border-radius: 0.35em; vertical-align: middle; margin-left: 0.5rem\">GPE</span>\n",
              "</mark>\n",
              " resident tests positive for coronavirus, total \n",
              "<mark class=\"entity\" style=\"background: #e4e7d2; padding: 0.45em 0.6em; margin: 0 0.25em; line-height: 1; border-radius: 0.35em;\">\n",
              "    31\n",
              "    <span style=\"font-size: 0.8em; font-weight: bold; line-height: 1; border-radius: 0.35em; vertical-align: middle; margin-left: 0.5rem\">CARDINAL</span>\n",
              "</mark>\n",
              " people infected in \n",
              "<mark class=\"entity\" style=\"background: #feca74; padding: 0.45em 0.6em; margin: 0 0.25em; line-height: 1; border-radius: 0.35em;\">\n",
              "    India\n",
              "    <span style=\"font-size: 0.8em; font-weight: bold; line-height: 1; border-radius: 0.35em; vertical-align: middle; margin-left: 0.5rem\">GPE</span>\n",
              "</mark>\n",
              "</div>\n",
              "</figure>\n",
              "</body>\n",
              "</html></span>"
            ]
          },
          "metadata": {}
        },
        {
          "output_type": "stream",
          "name": "stdout",
          "text": [
            "\n",
            "Using the 'ent' visualizer\n",
            "Serving on http://0.0.0.0:5000 ...\n",
            "\n",
            "Shutting down server on port 5000.\n"
          ]
        }
      ]
    },
    {
      "cell_type": "markdown",
      "source": [
        "#Words Vector and similarity\n",
        "\n",
        "A word's multi-dimensional meaning representations, known as \"word embeddings\" or word vectors, are compared to determine similarity.Word vectors typically look like this and can be created with an algorithm like word2vec:\n",
        "\n",
        "Important_note: Spacy's tiny models (all of the packages end in sm) only feature context-sensitive tensors and do not come with word vectors in order to keep them quick and simple. This implies that although you can still compare documents, tokens, and spans using similarity(), the results will be less satisfactory because each token will not have any assigned vectors. Therefore, you must download a larger model in order to use real word vectors:\n",
        "\n",
        "en_core_web_md is downloaded using Python -m spacy.\n",
        "\n",
        "\n",
        "Word vectors are available via the Token.vector attribute in models that have them built in. By default, the token vectors of Doc.vector and Span.vector will be averaged. Additionally, you can determine whether a token has a vector allocated to it and obtain the L2 norm, which is useful for normalizing vectors.\n",
        "\n"
      ],
      "metadata": {
        "id": "yT1Gwxc7cyAo"
      }
    },
    {
      "cell_type": "code",
      "source": [
        "import spacy.cli\n",
        "spacy.cli.download(\"en_core_web_md\")\n",
        "import en_core_web_md\n",
        "nlp = en_core_web_md.load()"
      ],
      "metadata": {
        "colab": {
          "base_uri": "https://localhost:8080/"
        },
        "id": "_ZfuUukHcxB8",
        "outputId": "8a69581b-b6c5-4849-d56f-2b92dae8a163"
      },
      "execution_count": 7,
      "outputs": [
        {
          "output_type": "stream",
          "name": "stdout",
          "text": [
            "\u001b[38;5;2m✔ Download and installation successful\u001b[0m\n",
            "You can now load the package via spacy.load('en_core_web_md')\n",
            "\u001b[38;5;3m⚠ Restart to reload dependencies\u001b[0m\n",
            "If you are in a Jupyter or Colab notebook, you may need to restart Python in\n",
            "order to load all the package's dependencies. You can do this by selecting the\n",
            "'Restart kernel' or 'Restart runtime' option.\n"
          ]
        }
      ]
    },
    {
      "cell_type": "code",
      "source": [
        "import spacy\n",
        "\n",
        "nlp = spacy.load(\"en_core_web_md\")\n",
        "tokens = nlp(\"lion bear apple banana fadsfdshds\")\n",
        "for token in tokens:\n",
        "  print(token.text, token.has_vector, token.vector_norm, token.is_oov)"
      ],
      "metadata": {
        "colab": {
          "base_uri": "https://localhost:8080/"
        },
        "id": "YaTsklbldC69",
        "outputId": "2a8cae7c-1f79-41e3-dabf-dc01847ffbd2"
      },
      "execution_count": 8,
      "outputs": [
        {
          "output_type": "stream",
          "name": "stdout",
          "text": [
            "lion True 55.145737 False\n",
            "bear True 52.114674 False\n",
            "apple True 43.366478 False\n",
            "banana True 31.620354 False\n",
            "fadsfdshds False 0.0 True\n"
          ]
        }
      ]
    },
    {
      "cell_type": "markdown",
      "source": [
        "Due to their widespread usage in English, the terms \"lion,\" \"bear,\" \"apple,\" and \"banana\" are included in the model's lexicon and have accompanying vectors. The vector representation of the word \"fadsfdshds\" is 300 dimensions of 0, meaning it is almost nonexistent because it is far less common and out of lexicon. Consider using one of the larger models or loading in a whole vector package, such as en_vectors_web_Ig, which has more than a million unique vectors, if your application will benefit from a wider vocabulary with more vectors.\n",
        "\n",
        "The similarity() method included with each Doc, Span, and Token allows you to compare it to another object and calculate how similar they are. Naturally, the degree of similarity between \"dog\" and \"cat\" is always subjective; it truly relies on your point of view. A somewhat universal definition of similarity is typically assumed by spaCy's similarity model."
      ],
      "metadata": {
        "id": "1LBup2WtPm7w"
      }
    },
    {
      "cell_type": "code",
      "source": [
        "import spacy\n",
        "nlp = spacy.load(\"en_core_web_md\")\n",
        "tokens = nlp(\"lion bear cow apple banana\")\n",
        "for token1 in tokens:\n",
        "  for token2 in tokens:\n",
        "    print(token1.text, token2.text, token1.similarity(token2))"
      ],
      "metadata": {
        "colab": {
          "base_uri": "https://localhost:8080/"
        },
        "id": "1uZjVn94ddpk",
        "outputId": "bd77179e-e56c-4e21-f323-38e183e35bb0"
      },
      "execution_count": 9,
      "outputs": [
        {
          "output_type": "stream",
          "name": "stdout",
          "text": [
            "lion lion 1.0\n",
            "lion bear 0.40031397342681885\n",
            "lion cow 0.4524093568325043\n",
            "lion apple 0.06742795556783676\n",
            "lion banana 0.11355724185705185\n",
            "bear lion 0.40031397342681885\n",
            "bear bear 1.0\n",
            "bear cow 0.2781473696231842\n",
            "bear apple 0.18584337830543518\n",
            "bear banana 0.15492628514766693\n",
            "cow lion 0.4524093568325043\n",
            "cow bear 0.2781473696231842\n",
            "cow cow 1.0\n",
            "cow apple 0.2575658857822418\n",
            "cow banana 0.29682525992393494\n",
            "apple lion 0.06742795556783676\n",
            "apple bear 0.18584337830543518\n",
            "apple cow 0.2575658857822418\n",
            "apple apple 1.0\n",
            "apple banana 0.6646699905395508\n",
            "banana lion 0.11355724185705185\n",
            "banana bear 0.15492628514766693\n",
            "banana cow 0.29682525992393494\n",
            "banana apple 0.6646699905395508\n",
            "banana banana 1.0\n"
          ]
        }
      ]
    },
    {
      "cell_type": "markdown",
      "source": [
        "#Pipelines\n",
        "Spacy first tokenizes the text to create a Doc object before calling nip on it. After then, the document is processed through a number of phases; this is also known as the processing pipeline. The default models use a pipeline that includes an entity recognizer, a parser, and a tagger. The processed Doc is returned by each pipeline component and sent to the following one.\n"
      ],
      "metadata": {
        "id": "EkDiyDDwQVP8"
      }
    },
    {
      "cell_type": "markdown",
      "source": [
        "![image.png](data:image/png;base64,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)"
      ],
      "metadata": {
        "id": "AyE4dwhNQ5YX"
      }
    },
    {
      "cell_type": "markdown",
      "source": [
        "The processing pipeline always depends on the statistical model and its capabilities. For example, a pipeline can only include an entity recognizer component if the model includes data to make predictions of entity labels. This is why each model will specify the pipeline to use in its meta data, as a simple list containing the component names:\n",
        "\"pipeline\": [\"tagger\", \"parser\", \"ner\"]"
      ],
      "metadata": {
        "id": "4YHC6fxGRPYX"
      }
    },
    {
      "cell_type": "code",
      "source": [],
      "metadata": {
        "id": "GJrxoaInQ89z"
      },
      "execution_count": null,
      "outputs": []
    }
  ]
}