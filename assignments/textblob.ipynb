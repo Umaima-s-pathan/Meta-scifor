{
  "nbformat": 4,
  "nbformat_minor": 0,
  "metadata": {
    "colab": {
      "provenance": []
    },
    "kernelspec": {
      "name": "python3",
      "display_name": "Python 3"
    },
    "language_info": {
      "name": "python"
    }
  },
  "cells": [
    {
      "cell_type": "code",
      "execution_count": 2,
      "metadata": {
        "colab": {
          "base_uri": "https://localhost:8080/"
        },
        "id": "3damFla6m2ds",
        "outputId": "de8b876c-52c1-461a-d977-55e7e22d6958"
      },
      "outputs": [
        {
          "output_type": "stream",
          "name": "stdout",
          "text": [
            "Requirement already satisfied: textblob in /usr/local/lib/python3.10/dist-packages (0.17.1)\n",
            "Requirement already satisfied: nltk>=3.1 in /usr/local/lib/python3.10/dist-packages (from textblob) (3.8.1)\n",
            "Requirement already satisfied: click in /usr/local/lib/python3.10/dist-packages (from nltk>=3.1->textblob) (8.1.7)\n",
            "Requirement already satisfied: joblib in /usr/local/lib/python3.10/dist-packages (from nltk>=3.1->textblob) (1.4.2)\n",
            "Requirement already satisfied: regex>=2021.8.3 in /usr/local/lib/python3.10/dist-packages (from nltk>=3.1->textblob) (2024.9.11)\n",
            "Requirement already satisfied: tqdm in /usr/local/lib/python3.10/dist-packages (from nltk>=3.1->textblob) (4.66.6)\n"
          ]
        }
      ],
      "source": [
        "!pip install textblob"
      ]
    },
    {
      "cell_type": "code",
      "source": [
        "!python -m textblob.download_corpora"
      ],
      "metadata": {
        "colab": {
          "base_uri": "https://localhost:8080/"
        },
        "id": "pRsTaq8NqDwE",
        "outputId": "7259d417-ea9d-4d30-ac92-a9b4dd6750b9"
      },
      "execution_count": 3,
      "outputs": [
        {
          "output_type": "stream",
          "name": "stdout",
          "text": [
            "[nltk_data] Downloading package brown to /root/nltk_data...\n",
            "[nltk_data]   Unzipping corpora/brown.zip.\n",
            "[nltk_data] Downloading package punkt to /root/nltk_data...\n",
            "[nltk_data]   Unzipping tokenizers/punkt.zip.\n",
            "[nltk_data] Downloading package wordnet to /root/nltk_data...\n",
            "[nltk_data] Downloading package averaged_perceptron_tagger to\n",
            "[nltk_data]     /root/nltk_data...\n",
            "[nltk_data]   Unzipping taggers/averaged_perceptron_tagger.zip.\n",
            "[nltk_data] Downloading package conll2000 to /root/nltk_data...\n",
            "[nltk_data]   Unzipping corpora/conll2000.zip.\n",
            "[nltk_data] Downloading package movie_reviews to /root/nltk_data...\n",
            "[nltk_data]   Unzipping corpora/movie_reviews.zip.\n",
            "Finished.\n"
          ]
        }
      ]
    },
    {
      "cell_type": "code",
      "source": [
        "# import\n",
        "from textblob import TextBlob"
      ],
      "metadata": {
        "id": "WFDzKMaznY5u"
      },
      "execution_count": 4,
      "outputs": []
    },
    {
      "cell_type": "code",
      "source": [
        "#create textblob\n",
        "wiki = TextBlob(\"Python is a high-level, general-purpose programming language.\")"
      ],
      "metadata": {
        "id": "p8jjmkGenZ7_"
      },
      "execution_count": 5,
      "outputs": []
    },
    {
      "cell_type": "code",
      "source": [
        "# accessing POS (parts of speech) with POS tagging\n",
        "wiki.tags"
      ],
      "metadata": {
        "colab": {
          "base_uri": "https://localhost:8080/"
        },
        "id": "bB8GaK58no93",
        "outputId": "f1a1d7d0-ee0c-4601-9ac3-a1d61f4407c1"
      },
      "execution_count": 6,
      "outputs": [
        {
          "output_type": "execute_result",
          "data": {
            "text/plain": [
              "[('Python', 'NNP'),\n",
              " ('is', 'VBZ'),\n",
              " ('a', 'DT'),\n",
              " ('high-level', 'JJ'),\n",
              " ('general-purpose', 'JJ'),\n",
              " ('programming', 'NN'),\n",
              " ('language', 'NN')]"
            ]
          },
          "metadata": {},
          "execution_count": 6
        }
      ]
    },
    {
      "cell_type": "code",
      "source": [
        "# noun phrase extraction\n",
        "wiki.noun_phrases"
      ],
      "metadata": {
        "colab": {
          "base_uri": "https://localhost:8080/"
        },
        "id": "H1IGUlCQo5MA",
        "outputId": "73115218-dc14-49c7-d043-1d74c2c371fd"
      },
      "execution_count": 7,
      "outputs": [
        {
          "output_type": "execute_result",
          "data": {
            "text/plain": [
              "WordList(['python'])"
            ]
          },
          "metadata": {},
          "execution_count": 7
        }
      ]
    },
    {
      "cell_type": "code",
      "source": [
        "# sentiment analysis\n",
        "testimonial=TextBlob(\"Textblob is amazingly simple to use. What great fun!\")\n",
        "testimonial.sentiment\n"
      ],
      "metadata": {
        "colab": {
          "base_uri": "https://localhost:8080/"
        },
        "id": "Qmj4zFnZo9jx",
        "outputId": "c66d1c3e-ffcf-4f57-981b-7cc655e7c44d"
      },
      "execution_count": 8,
      "outputs": [
        {
          "output_type": "execute_result",
          "data": {
            "text/plain": [
              "Sentiment(polarity=0.39166666666666666, subjectivity=0.4357142857142857)"
            ]
          },
          "metadata": {},
          "execution_count": 8
        }
      ]
    },
    {
      "cell_type": "code",
      "source": [
        "testimonial.sentiment.polarity"
      ],
      "metadata": {
        "colab": {
          "base_uri": "https://localhost:8080/"
        },
        "id": "PZ1nXklGquag",
        "outputId": "faa3fb43-8894-4c44-f3af-ca2693fc276c"
      },
      "execution_count": 9,
      "outputs": [
        {
          "output_type": "execute_result",
          "data": {
            "text/plain": [
              "0.39166666666666666"
            ]
          },
          "metadata": {},
          "execution_count": 9
        }
      ]
    },
    {
      "cell_type": "code",
      "source": [
        "zen = TextBlob(\"Beautiful is better than ugly. \"\n",
        "\"Explicit is better than implicit. \"\n",
        "\"Simple is better than complex.\")\n",
        "zen.words"
      ],
      "metadata": {
        "colab": {
          "base_uri": "https://localhost:8080/"
        },
        "id": "p63DIsqcrO4s",
        "outputId": "2c048ed0-cf05-422f-e57c-912fb81a8932"
      },
      "execution_count": 10,
      "outputs": [
        {
          "output_type": "execute_result",
          "data": {
            "text/plain": [
              "WordList(['Beautiful', 'is', 'better', 'than', 'ugly', 'Explicit', 'is', 'better', 'than', 'implicit', 'Simple', 'is', 'better', 'than', 'complex'])"
            ]
          },
          "metadata": {},
          "execution_count": 10
        }
      ]
    },
    {
      "cell_type": "code",
      "source": [
        "zen.sentences"
      ],
      "metadata": {
        "colab": {
          "base_uri": "https://localhost:8080/"
        },
        "id": "dTlsy_ulrPcn",
        "outputId": "4769929f-7b4c-48df-f80e-56be64903e5b"
      },
      "execution_count": 11,
      "outputs": [
        {
          "output_type": "execute_result",
          "data": {
            "text/plain": [
              "[Sentence(\"Beautiful is better than ugly.\"),\n",
              " Sentence(\"Explicit is better than implicit.\"),\n",
              " Sentence(\"Simple is better than complex.\")]"
            ]
          },
          "metadata": {},
          "execution_count": 11
        }
      ]
    },
    {
      "cell_type": "code",
      "source": [
        "for sent in zen.sentences:\n",
        "  print(sent)"
      ],
      "metadata": {
        "colab": {
          "base_uri": "https://localhost:8080/"
        },
        "id": "z6at-aaIrVG_",
        "outputId": "46d906af-e011-4f60-e5aa-f63468efc064"
      },
      "execution_count": 12,
      "outputs": [
        {
          "output_type": "stream",
          "name": "stdout",
          "text": [
            "Beautiful is better than ugly.\n",
            "Explicit is better than implicit.\n",
            "Simple is better than complex.\n"
          ]
        }
      ]
    },
    {
      "cell_type": "code",
      "source": [
        "# word inflection\n",
        "sent = TextBlob('Use 4 spaces per indentation level.')\n",
        "sent.words"
      ],
      "metadata": {
        "colab": {
          "base_uri": "https://localhost:8080/"
        },
        "id": "TCjat39drkif",
        "outputId": "c0c73071-c9d0-46cf-cb04-b9f6f4873fd7"
      },
      "execution_count": 13,
      "outputs": [
        {
          "output_type": "execute_result",
          "data": {
            "text/plain": [
              "WordList(['Use', '4', 'spaces', 'per', 'indentation', 'level'])"
            ]
          },
          "metadata": {},
          "execution_count": 13
        }
      ]
    },
    {
      "cell_type": "code",
      "source": [
        "sent.words[2].singularize()"
      ],
      "metadata": {
        "colab": {
          "base_uri": "https://localhost:8080/",
          "height": 36
        },
        "id": "RzZ8jZffsAYn",
        "outputId": "ba2c6fe0-cd69-4224-d99e-eabd49c0c276"
      },
      "execution_count": 14,
      "outputs": [
        {
          "output_type": "execute_result",
          "data": {
            "text/plain": [
              "'space'"
            ],
            "application/vnd.google.colaboratory.intrinsic+json": {
              "type": "string"
            }
          },
          "metadata": {},
          "execution_count": 14
        }
      ]
    },
    {
      "cell_type": "code",
      "source": [
        "sent.words[4].pluralize()"
      ],
      "metadata": {
        "colab": {
          "base_uri": "https://localhost:8080/",
          "height": 36
        },
        "id": "lGhD5ePzsL8X",
        "outputId": "920f73dd-8dbb-4034-9bff-38a89f457664"
      },
      "execution_count": 15,
      "outputs": [
        {
          "output_type": "execute_result",
          "data": {
            "text/plain": [
              "'indentations'"
            ],
            "application/vnd.google.colaboratory.intrinsic+json": {
              "type": "string"
            }
          },
          "metadata": {},
          "execution_count": 15
        }
      ]
    },
    {
      "cell_type": "code",
      "source": [
        "# word lemmatization\n",
        "from textblob import Word\n",
        "w = Word('running')\n",
        "w.lemmatize()"
      ],
      "metadata": {
        "colab": {
          "base_uri": "https://localhost:8080/",
          "height": 36
        },
        "id": "3_Vm52zBsOZP",
        "outputId": "fad3946f-c5c0-44ab-cb02-0f2956d1d468"
      },
      "execution_count": 16,
      "outputs": [
        {
          "output_type": "execute_result",
          "data": {
            "text/plain": [
              "'running'"
            ],
            "application/vnd.google.colaboratory.intrinsic+json": {
              "type": "string"
            }
          },
          "metadata": {},
          "execution_count": 16
        }
      ]
    },
    {
      "cell_type": "code",
      "source": [
        "w = Word('went')\n",
        "w.lemmatize('v')"
      ],
      "metadata": {
        "colab": {
          "base_uri": "https://localhost:8080/",
          "height": 36
        },
        "id": "2KoqLay7sg34",
        "outputId": "ec35cfeb-8041-4ca3-9658-3c5066acb28a"
      },
      "execution_count": 17,
      "outputs": [
        {
          "output_type": "execute_result",
          "data": {
            "text/plain": [
              "'go'"
            ],
            "application/vnd.google.colaboratory.intrinsic+json": {
              "type": "string"
            }
          },
          "metadata": {},
          "execution_count": 17
        }
      ]
    },
    {
      "cell_type": "code",
      "source": [
        "# wordnet ingeretion"
      ],
      "metadata": {
        "id": "azAo0Q1NsuM7"
      },
      "execution_count": 18,
      "outputs": []
    },
    {
      "cell_type": "code",
      "source": [
        "Word('length').definitions"
      ],
      "metadata": {
        "id": "miNqUtaSs20n",
        "colab": {
          "base_uri": "https://localhost:8080/"
        },
        "outputId": "68bd099c-4c01-4d67-8703-62128bac4483"
      },
      "execution_count": 19,
      "outputs": [
        {
          "output_type": "execute_result",
          "data": {
            "text/plain": [
              "['the linear extent in space from one end to the other; the longest dimension of something that is fixed in place',\n",
              " 'continuance in time',\n",
              " 'the property of being the extent of something from beginning to end',\n",
              " 'size of the gap between two places',\n",
              " 'a section of something that is long and narrow']"
            ]
          },
          "metadata": {},
          "execution_count": 19
        }
      ]
    },
    {
      "cell_type": "code",
      "source": [
        "from textblob.wordnet import Synset\n",
        "octopus = Synset('octopus.n.02')\n",
        "shrimp = Synset('shrimp.n.03')\n",
        "octopus.path_similarity(shrimp)\n"
      ],
      "metadata": {
        "colab": {
          "base_uri": "https://localhost:8080/"
        },
        "id": "mA8iK8HUL9u9",
        "outputId": "526e086d-b65c-42ab-c9ce-8b1b4c9a3614"
      },
      "execution_count": 20,
      "outputs": [
        {
          "output_type": "execute_result",
          "data": {
            "text/plain": [
              "0.1111111111111111"
            ]
          },
          "metadata": {},
          "execution_count": 20
        }
      ]
    },
    {
      "cell_type": "code",
      "source": [
        "# word list\n",
        "animals = TextBlob(\"cat dog octopus\")\n",
        "animals.words\n"
      ],
      "metadata": {
        "colab": {
          "base_uri": "https://localhost:8080/"
        },
        "id": "BLcm8kjdMWjj",
        "outputId": "6ef89261-2cfe-4752-c37e-0e1773008ce3"
      },
      "execution_count": 21,
      "outputs": [
        {
          "output_type": "execute_result",
          "data": {
            "text/plain": [
              "WordList(['cat', 'dog', 'octopus'])"
            ]
          },
          "metadata": {},
          "execution_count": 21
        }
      ]
    },
    {
      "cell_type": "code",
      "source": [
        "animals.words.pluralize()"
      ],
      "metadata": {
        "colab": {
          "base_uri": "https://localhost:8080/"
        },
        "id": "MO_lgudDMkfa",
        "outputId": "15cfdff1-9c49-4ba3-f1db-fde6f7e13c81"
      },
      "execution_count": 22,
      "outputs": [
        {
          "output_type": "execute_result",
          "data": {
            "text/plain": [
              "WordList(['cats', 'dogs', 'octopodes'])"
            ]
          },
          "metadata": {},
          "execution_count": 22
        }
      ]
    },
    {
      "cell_type": "code",
      "source": [
        "#spelling correction\n",
        "g= TextBlob('Can you pronounce czechuslovakia?')\n",
        "g.correct()"
      ],
      "metadata": {
        "colab": {
          "base_uri": "https://localhost:8080/"
        },
        "id": "LjuwFA2MNf1b",
        "outputId": "331ac70d-2338-455a-9c64-154995fdfa9a"
      },
      "execution_count": 23,
      "outputs": [
        {
          "output_type": "execute_result",
          "data": {
            "text/plain": [
              "TextBlob(\"An you pronounce czechoslovakia?\")"
            ]
          },
          "metadata": {},
          "execution_count": 23
        }
      ]
    },
    {
      "cell_type": "code",
      "source": [
        "from textblob import Word\n",
        "w = Word('longitoude')\n",
        "w.spellcheck()"
      ],
      "metadata": {
        "colab": {
          "base_uri": "https://localhost:8080/"
        },
        "id": "GydTgtagaBAE",
        "outputId": "598dbbd1-12bb-4d47-a47c-3590a03e4019"
      },
      "execution_count": 24,
      "outputs": [
        {
          "output_type": "execute_result",
          "data": {
            "text/plain": [
              "[('longitude', 1.0)]"
            ]
          },
          "metadata": {},
          "execution_count": 24
        }
      ]
    },
    {
      "cell_type": "code",
      "source": [
        "sent = TextBlob('She sells sea shells at the sea shore.')\n",
        "sent.word_counts['sea']\n"
      ],
      "metadata": {
        "colab": {
          "base_uri": "https://localhost:8080/"
        },
        "id": "gaqdXaG_bzbJ",
        "outputId": "7f90b32b-191b-4fb2-b904-5db2739a4642"
      },
      "execution_count": 25,
      "outputs": [
        {
          "output_type": "execute_result",
          "data": {
            "text/plain": [
              "2"
            ]
          },
          "metadata": {},
          "execution_count": 25
        }
      ]
    },
    {
      "cell_type": "code",
      "source": [
        "sent.words.count('sea')"
      ],
      "metadata": {
        "colab": {
          "base_uri": "https://localhost:8080/"
        },
        "id": "6M8Eh4pgb7Qa",
        "outputId": "bf7f6669-760c-4bec-87c2-9316ab14a6a6"
      },
      "execution_count": 26,
      "outputs": [
        {
          "output_type": "execute_result",
          "data": {
            "text/plain": [
              "2"
            ]
          },
          "metadata": {},
          "execution_count": 26
        }
      ]
    },
    {
      "cell_type": "code",
      "source": [
        "#Translation and Language Detection\n",
        "\n",
        "blob = TextBlob(\"hello\")\n",
        "blob.translate(from_lang='en', to='fr')"
      ],
      "metadata": {
        "id": "r2iaAPErb-Hc",
        "colab": {
          "base_uri": "https://localhost:8080/"
        },
        "outputId": "b0862bf0-6646-441f-c80c-5c6db62b21a6"
      },
      "execution_count": 27,
      "outputs": [
        {
          "output_type": "execute_result",
          "data": {
            "text/plain": [
              "TextBlob(\"Bonjour\")"
            ]
          },
          "metadata": {},
          "execution_count": 27
        }
      ]
    },
    {
      "cell_type": "code",
      "source": [
        "d = TextBlob(\"Bonjour\")\n",
        "d.detect_language"
      ],
      "metadata": {
        "colab": {
          "base_uri": "https://localhost:8080/",
          "height": 186
        },
        "id": "7T4sXXAdhTDF",
        "outputId": "0b00d024-b986-401b-e1e6-21669a62b8bb"
      },
      "execution_count": 28,
      "outputs": [
        {
          "output_type": "execute_result",
          "data": {
            "text/plain": [
              "<bound method BaseBlob.detect_language of TextBlob(\"Bonjour\")>"
            ],
            "text/html": [
              "<div style=\"max-width:800px; border: 1px solid var(--colab-border-color);\"><style>\n",
              "      pre.function-repr-contents {\n",
              "        overflow-x: auto;\n",
              "        padding: 8px 12px;\n",
              "        max-height: 500px;\n",
              "      }\n",
              "\n",
              "      pre.function-repr-contents.function-repr-contents-collapsed {\n",
              "        cursor: pointer;\n",
              "        max-height: 100px;\n",
              "      }\n",
              "    </style>\n",
              "    <pre style=\"white-space: initial; background:\n",
              "         var(--colab-secondary-surface-color); padding: 8px 12px;\n",
              "         border-bottom: 1px solid var(--colab-border-color);\"><b>textblob.blob.BaseBlob.detect_language</b><br/>def detect_language()</pre><pre class=\"function-repr-contents function-repr-contents-collapsed\" style=\"\"><a class=\"filepath\" style=\"display:none\" href=\"#\">/usr/local/lib/python3.10/dist-packages/textblob/blob.py</a>Detect the blob&#x27;s language using the Google Translate API.\n",
              "\n",
              "Requires an internet connection.\n",
              "\n",
              "Usage:\n",
              "::\n",
              "\n",
              "    &gt;&gt;&gt; b = TextBlob(&quot;bonjour&quot;)\n",
              "    &gt;&gt;&gt; b.detect_language()\n",
              "    u&#x27;fr&#x27;\n",
              "\n",
              "Language code reference:\n",
              "    https://developers.google.com/translate/v2/using_rest#language-params\n",
              "\n",
              ".. deprecated:: 0.16.0\n",
              "    Use the official Google Translate API instead.\n",
              ".. versionadded:: 0.5.0\n",
              "\n",
              ":rtype: str</pre>\n",
              "      <script>\n",
              "      if (google.colab.kernel.accessAllowed && google.colab.files && google.colab.files.view) {\n",
              "        for (const element of document.querySelectorAll('.filepath')) {\n",
              "          element.style.display = 'block'\n",
              "          element.onclick = (event) => {\n",
              "            event.preventDefault();\n",
              "            event.stopPropagation();\n",
              "            google.colab.files.view(element.textContent, 571);\n",
              "          };\n",
              "        }\n",
              "      }\n",
              "      for (const element of document.querySelectorAll('.function-repr-contents')) {\n",
              "        element.onclick = (event) => {\n",
              "          event.preventDefault();\n",
              "          event.stopPropagation();\n",
              "          element.classList.toggle('function-repr-contents-collapsed');\n",
              "        };\n",
              "      }\n",
              "      </script>\n",
              "      </div>"
            ]
          },
          "metadata": {},
          "execution_count": 28
        }
      ]
    },
    {
      "cell_type": "code",
      "source": [
        "# n-grams\n",
        "# The TextBlob.ngrams() method returns a list of tuples of n successive words.\n",
        "\n",
        "\n",
        "blob = TextBlob(\"Now is better than never.\")\n",
        "blob.ngrams(n=3)"
      ],
      "metadata": {
        "colab": {
          "base_uri": "https://localhost:8080/"
        },
        "id": "Bw8fbX02hZTC",
        "outputId": "9cc4d91d-7d18-416c-a243-e57086484d9d"
      },
      "execution_count": 29,
      "outputs": [
        {
          "output_type": "execute_result",
          "data": {
            "text/plain": [
              "[WordList(['Now', 'is', 'better']),\n",
              " WordList(['is', 'better', 'than']),\n",
              " WordList(['better', 'than', 'never'])]"
            ]
          },
          "metadata": {},
          "execution_count": 29
        }
      ]
    },
    {
      "cell_type": "code",
      "source": [
        "# Get Start and End Indices of Sentences\n",
        "# Use sentence.start and sentence.end to get the indices where a sentence starts and ends within a TextBlob\n",
        "\n",
        "zen = TextBlob(\"Beautiful is better than ugly. \"\n",
        "\"Explicit is better than implicit. \"\n",
        "\"Simple is better than complex.\")\n",
        "for k in zen.sentences:\n",
        "    print(k)\n",
        "    print(\"---- Starts at index {}, Ends at index {}\".format(k.start, k.end))"
      ],
      "metadata": {
        "colab": {
          "base_uri": "https://localhost:8080/"
        },
        "id": "r8zla0DWhZWK",
        "outputId": "df5ac501-6ceb-4dd4-86a8-f46006347e87"
      },
      "execution_count": 30,
      "outputs": [
        {
          "output_type": "stream",
          "name": "stdout",
          "text": [
            "Beautiful is better than ugly.\n",
            "---- Starts at index 0, Ends at index 30\n",
            "Explicit is better than implicit.\n",
            "---- Starts at index 31, Ends at index 64\n",
            "Simple is better than complex.\n",
            "---- Starts at index 65, Ends at index 95\n"
          ]
        }
      ]
    },
    {
      "cell_type": "code",
      "source": [
        "# Text Classification system\n",
        "# The textblob.classifiers module makes it simple to create custom classifiers.\n",
        "\n",
        "train = [\n",
        "       ('I love this sandwich.', 'pos'),\n",
        "       ('this is an amazing place!', 'pos'),\n",
        "       ('I feel very good about these beers.', 'pos'),\n",
        "       ('this is my best work.', 'pos'),\n",
        "       (\"what an awesome view\", 'pos'),\n",
        "       ('I do not like this restaurant', 'neg'),\n",
        "       ('I am tired of this stuff.', 'neg'),\n",
        "       (\"I can't deal with this\", 'neg'),\n",
        "       ('he is my sworn enemy!', 'neg'),\n",
        "]\n",
        "test = [\n",
        "       ('the beer was good.', 'pos'),\n",
        "       ('I do not enjoy my job', 'neg'),\n",
        "       (\"I ain't feeling dandy today.\", 'neg'),\n",
        "       (\"I feel amazing!\", 'pos'),\n",
        "       ('Gary is a friend of mine.', 'pos'),\n",
        "       (\"I can't believe I'm doing this.\", 'neg')]"
      ],
      "metadata": {
        "id": "a_v3ckqMhZZC"
      },
      "execution_count": 32,
      "outputs": []
    },
    {
      "cell_type": "code",
      "source": [
        "from textblob.classifiers import NaiveBayesClassifier\n",
        "cl = NaiveBayesClassifier(train)\n",
        ""
      ],
      "metadata": {
        "id": "IV0LXg7vhZcE"
      },
      "execution_count": 33,
      "outputs": []
    },
    {
      "cell_type": "code",
      "source": [
        "cl.classify(\"This is an amazing library!\")"
      ],
      "metadata": {
        "colab": {
          "base_uri": "https://localhost:8080/",
          "height": 36
        },
        "id": "AFaNvDoDh2bx",
        "outputId": "c1497c3b-aa83-4713-8ead-4dac11c9c90b"
      },
      "execution_count": 34,
      "outputs": [
        {
          "output_type": "execute_result",
          "data": {
            "text/plain": [
              "'pos'"
            ],
            "application/vnd.google.colaboratory.intrinsic+json": {
              "type": "string"
            }
          },
          "metadata": {},
          "execution_count": 34
        }
      ]
    },
    {
      "cell_type": "code",
      "source": [
        "prob_dist = cl.prob_classify(\"This one's a doozy.\")\n",
        "prob_dist.max()"
      ],
      "metadata": {
        "colab": {
          "base_uri": "https://localhost:8080/",
          "height": 36
        },
        "id": "R_f6WZvth-Tf",
        "outputId": "28263c2e-9a0f-4355-f7d6-e9bc9dd9af1a"
      },
      "execution_count": 35,
      "outputs": [
        {
          "output_type": "execute_result",
          "data": {
            "text/plain": [
              "'pos'"
            ],
            "application/vnd.google.colaboratory.intrinsic+json": {
              "type": "string"
            }
          },
          "metadata": {},
          "execution_count": 35
        }
      ]
    },
    {
      "cell_type": "code",
      "source": [
        "prob_dist = cl.prob_classify(\"I am suffering from cold\")\n",
        "prob_dist.max()\n",
        "\n",
        "round(prob_dist.prob(\"pos\"), 2)\n",
        "\n",
        "round(prob_dist.prob(\"neg\"), 2)"
      ],
      "metadata": {
        "colab": {
          "base_uri": "https://localhost:8080/"
        },
        "id": "gOkirO8kh__p",
        "outputId": "c90fb527-8f96-49b4-a723-c0ce9ac7c8d7"
      },
      "execution_count": 36,
      "outputs": [
        {
          "output_type": "execute_result",
          "data": {
            "text/plain": [
              "0.69"
            ]
          },
          "metadata": {},
          "execution_count": 36
        }
      ]
    },
    {
      "cell_type": "code",
      "source": [
        "# Classifying TextBlobs\n",
        "# Another way to classify text is to pass a classifier into the constructor of TextBlob and call its classify() method.\n",
        "\n",
        "from textblob import TextBlob\n",
        "blob = TextBlob(\"Alcohal is good. But the hangover is horrible.\", classifier=cl)\n",
        "blob.classify()\n",
        "\n",
        "for s in blob.sentences:\n",
        "    print(s)\n",
        "    print(s.classify())"
      ],
      "metadata": {
        "colab": {
          "base_uri": "https://localhost:8080/"
        },
        "id": "9Sop5v_UiDSG",
        "outputId": "6506fe24-ea41-4e5b-836d-834debf7fa2f"
      },
      "execution_count": 37,
      "outputs": [
        {
          "output_type": "stream",
          "name": "stdout",
          "text": [
            "Alcohal is good.\n",
            "pos\n",
            "But the hangover is horrible.\n",
            "pos\n"
          ]
        }
      ]
    },
    {
      "cell_type": "code",
      "source": [
        "# Evaluating Classifiers\n",
        "# To compute the accuracy on our test set, use the accuracy(test_data) method.\n",
        "\n",
        "cl.accuracy(test)"
      ],
      "metadata": {
        "colab": {
          "base_uri": "https://localhost:8080/"
        },
        "id": "MWHdOQ3WiG0v",
        "outputId": "806e1df1-bed7-42a3-ccbe-54a24e69647a"
      },
      "execution_count": 38,
      "outputs": [
        {
          "output_type": "execute_result",
          "data": {
            "text/plain": [
              "1.0"
            ]
          },
          "metadata": {},
          "execution_count": 38
        }
      ]
    },
    {
      "cell_type": "code",
      "source": [],
      "metadata": {
        "id": "6rPhxtyxiMl_"
      },
      "execution_count": null,
      "outputs": []
    }
  ]
}