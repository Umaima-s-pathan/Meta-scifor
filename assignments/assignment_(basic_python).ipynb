{
  "nbformat": 4,
  "nbformat_minor": 0,
  "metadata": {
    "colab": {
      "provenance": []
    },
    "kernelspec": {
      "name": "python3",
      "display_name": "Python 3"
    },
    "language_info": {
      "name": "python"
    }
  },
  "cells": [
    {
      "cell_type": "code",
      "execution_count": null,
      "metadata": {
        "id": "u4xU4WTv-3cz"
      },
      "outputs": [],
      "source": [
        "\n",
        "## Q.1 . Write a Python program to print 'Hello, World!'."
      ]
    },
    {
      "cell_type": "code",
      "source": [
        "print('Hello , World!') # here we are directly printing using print method"
      ],
      "metadata": {
        "colab": {
          "base_uri": "https://localhost:8080/"
        },
        "id": "M1slI9Xh_HjK",
        "outputId": "78522961-aab8-419b-e836-02b4f6adb791"
      },
      "execution_count": null,
      "outputs": [
        {
          "output_type": "stream",
          "name": "stdout",
          "text": [
            "Hello , World!\n"
          ]
        }
      ]
    },
    {
      "cell_type": "code",
      "source": [
        "x=\"Hello , World!\" # here we are variable x  to store hello world\n",
        "print(x)  # printing the value stored in x"
      ],
      "metadata": {
        "colab": {
          "base_uri": "https://localhost:8080/"
        },
        "id": "BzJ8_zQi_c4L",
        "outputId": "c32bbf4e-b0d2-42f0-c575-d16216929419"
      },
      "execution_count": null,
      "outputs": [
        {
          "output_type": "stream",
          "name": "stdout",
          "text": [
            "Hello , World!\n"
          ]
        }
      ]
    },
    {
      "cell_type": "code",
      "source": [
        "x # if we  have to print the values stored in any variable we also print it directly without using print"
      ],
      "metadata": {
        "colab": {
          "base_uri": "https://localhost:8080/",
          "height": 35
        },
        "id": "EMruxRMp_9fF",
        "outputId": "b2275b0a-03de-45c7-fcdf-7898a37b4116"
      },
      "execution_count": null,
      "outputs": [
        {
          "output_type": "execute_result",
          "data": {
            "text/plain": [
              "'Hello , World!'"
            ],
            "application/vnd.google.colaboratory.intrinsic+json": {
              "type": "string"
            }
          },
          "metadata": {},
          "execution_count": 3
        }
      ]
    },
    {
      "cell_type": "code",
      "source": [
        "# Q.2 Write a Python program to add two numbers."
      ],
      "metadata": {
        "id": "4a1NeEo__-7f"
      },
      "execution_count": null,
      "outputs": []
    },
    {
      "cell_type": "code",
      "source": [
        "a= 15      #storing numbers in variables\n",
        "b=3\n",
        "print (\"sum is :\",a+b) #adding the numbers directly in print method"
      ],
      "metadata": {
        "colab": {
          "base_uri": "https://localhost:8080/"
        },
        "id": "3tCrMSwyAfIw",
        "outputId": "2931211e-aa1b-4acf-8f33-1f3d4490d6d7"
      },
      "execution_count": null,
      "outputs": [
        {
          "output_type": "stream",
          "name": "stdout",
          "text": [
            "sum is : 18\n"
          ]
        }
      ]
    },
    {
      "cell_type": "code",
      "source": [
        "a = 15\n",
        "b =3\n",
        "c =a+b # adding the numbers and storing it in a variable\n",
        "c   # calling the varible to print the sum"
      ],
      "metadata": {
        "colab": {
          "base_uri": "https://localhost:8080/"
        },
        "id": "B-KsdhO3AfLV",
        "outputId": "37c68837-2b54-4a55-a6bc-0f0db12157db"
      },
      "execution_count": null,
      "outputs": [
        {
          "output_type": "execute_result",
          "data": {
            "text/plain": [
              "18"
            ]
          },
          "metadata": {},
          "execution_count": 11
        }
      ]
    },
    {
      "cell_type": "code",
      "source": [
        "# Q3 Write a Python program to find the square root of a number.\n",
        "\n",
        "a= 2\n",
        "a_sqrt=a**0.5 # using exponential operator to find the square root\n",
        "a_sqrt"
      ],
      "metadata": {
        "colab": {
          "base_uri": "https://localhost:8080/"
        },
        "id": "LygN3N5eAfQv",
        "outputId": "23dd9631-3f81-4a7b-cdf0-9c5848b706fc"
      },
      "execution_count": null,
      "outputs": [
        {
          "output_type": "execute_result",
          "data": {
            "text/plain": [
              "1.4142135623730951"
            ]
          },
          "metadata": {},
          "execution_count": 22
        }
      ]
    },
    {
      "cell_type": "code",
      "source": [
        "# Q4  Write a Python program to calculate the area of a triangle.\n",
        "\n",
        "#taking values from users\n",
        "\n",
        "a = int(input('Enter first side: '))\n",
        "b = int(input('Enter second side: '))\n",
        "c = int(input('Enter third side: '))\n",
        "\n",
        "s = (a + b + c) / 2   # calculating the semi-perimeter\n",
        "\n",
        "area = (s*(s-a)*(s-b)*(s-c)) ** 0.5  # calculating the area\n",
        "print('The area of the triangle is : ', area)"
      ],
      "metadata": {
        "id": "m_oI7T-ADLr_",
        "colab": {
          "base_uri": "https://localhost:8080/"
        },
        "outputId": "3bd13217-78f5-4a46-c018-242e01d1408e"
      },
      "execution_count": null,
      "outputs": [
        {
          "output_type": "stream",
          "name": "stdout",
          "text": [
            "Enter first side: 5\n",
            "Enter second side: 6\n",
            "Enter third side: 7\n",
            "The area of the triangle is :  14.696938456699069\n"
          ]
        }
      ]
    },
    {
      "cell_type": "code",
      "source": [
        " # Q5. Write a Python program to swap two variables.\n",
        "\n",
        "P =  43\n",
        "Q =  96\n",
        "print (\"The Value of P before swapping: \", P)\n",
        "print (\"The Value of Q before swapping: \", Q)\n",
        "\n",
        "P, Q = Q, P  # To Swap the values of two variables\n",
        "\n",
        "print (\"The Value of P after swapping: \", P)\n",
        "print (\"The Value of Q after swapping: \", Q)"
      ],
      "metadata": {
        "id": "mIBlahsvAfWc",
        "colab": {
          "base_uri": "https://localhost:8080/"
        },
        "outputId": "462e3c3d-6fab-409d-a573-20e3ddcf9e20"
      },
      "execution_count": null,
      "outputs": [
        {
          "output_type": "stream",
          "name": "stdout",
          "text": [
            "The Value of P before swapping:  43\n",
            "The Value of Q before swapping:  96\n",
            "The Value of P after swapping:  96\n",
            "The Value of Q after swapping:  43\n"
          ]
        }
      ]
    },
    {
      "cell_type": "code",
      "source": [
        "# Q6 Write a Python program to generate a random number.\n",
        "\n",
        "import random #importing random library to gnerate ranom numbers\n",
        "a=[]  # creating empty list to store the numbers\n",
        "n=int(input(\"Enter number of elements:\"))\n",
        "for j in range(n):\n",
        "    a.append(random.randint(10,20))  #inserting the numbers in the empty list\n",
        "print('Randomised list is: ',a)"
      ],
      "metadata": {
        "id": "q1xRiqzAAfY_",
        "colab": {
          "base_uri": "https://localhost:8080/"
        },
        "outputId": "2615c2b1-5686-4f5e-83a5-9afc61bf7bb8"
      },
      "execution_count": null,
      "outputs": [
        {
          "output_type": "stream",
          "name": "stdout",
          "text": [
            "Enter number of elements:5\n",
            "Randomised list is:  [19, 12, 20, 11, 14]\n"
          ]
        }
      ]
    },
    {
      "cell_type": "code",
      "source": [
        "# Q7 Write a Python program to convert kilometers to miles.\n",
        "\n",
        "km = float(input(\"Enter distance in kilometers: \"))\n",
        "m = km * 0.621371  # formula for converting kilometer to miles\n",
        "print(\"Distance in miles:\", m)"
      ],
      "metadata": {
        "colab": {
          "base_uri": "https://localhost:8080/"
        },
        "id": "DlRqbU5VHsyQ",
        "outputId": "fed1b830-0b67-47c2-a78c-725e5d281b06"
      },
      "execution_count": null,
      "outputs": [
        {
          "output_type": "stream",
          "name": "stdout",
          "text": [
            "Enter distance in kilometers: 537\n",
            "Distance in miles: 333.676227\n"
          ]
        }
      ]
    },
    {
      "cell_type": "code",
      "source": [
        "# 8. Write a Python program to check if a number is positive, negative or zero.\n",
        "\n",
        "a= int(input(\" Enter the number : \"))\n",
        " # using if elif loop for checking the number\n",
        "if a==0:\n",
        "  print(\" the given number is zero\")\n",
        "elif a<0:\n",
        "  print(\" the given number is negative\")\n",
        "else:\n",
        " print(\" the given number is positive\")"
      ],
      "metadata": {
        "colab": {
          "base_uri": "https://localhost:8080/"
        },
        "id": "yF5cv7gqJboY",
        "outputId": "b37c7d23-4f30-4a3a-bf14-d51c32d7ed5b"
      },
      "execution_count": null,
      "outputs": [
        {
          "output_type": "stream",
          "name": "stdout",
          "text": [
            " Enter the number : -3\n",
            " the given number is negative\n"
          ]
        }
      ]
    },
    {
      "cell_type": "code",
      "source": [
        "# Q9. Write a Python program to check if a number is odd or even.\n",
        "\n",
        "a=5\n",
        "if a%2 == 0:\n",
        "  print (\" the number is even\")\n",
        "else:\n",
        "  print (\"the number is odd\")"
      ],
      "metadata": {
        "colab": {
          "base_uri": "https://localhost:8080/"
        },
        "id": "udVe_gp2KTGw",
        "outputId": "4c750bb9-1a01-4fcb-af30-660e26c5340e"
      },
      "execution_count": null,
      "outputs": [
        {
          "output_type": "stream",
          "name": "stdout",
          "text": [
            "the number is odd\n"
          ]
        }
      ]
    },
    {
      "cell_type": "code",
      "source": [
        "# Q10. Write a Python program to check if a year is a leap year.\n",
        "\n",
        "y =2000\n",
        "if y % 400 == 0:    # if the year is divisible by 400 or 4 it is said to be a leap year and if the year is divisible by 100 then the year is not a leap year\n",
        "  print( \" it's a leap year\")\n",
        "else:\n",
        "  print(\"it's not a leap year\")"
      ],
      "metadata": {
        "colab": {
          "base_uri": "https://localhost:8080/"
        },
        "id": "sJmAigAuK_eJ",
        "outputId": "178492bb-4271-48e0-a06a-2cd44564ae04"
      },
      "execution_count": null,
      "outputs": [
        {
          "output_type": "stream",
          "name": "stdout",
          "text": [
            " it's a leap year\n"
          ]
        }
      ]
    },
    {
      "cell_type": "code",
      "source": [
        "# Q11. Write a Python program to find the largest of three numbers.\n",
        "\n",
        "a=2\n",
        "b=5\n",
        "c=8\n",
        "if a>b and a<c:\n",
        "  print(\"The largest number amoung the three is a :\",a)\n",
        "elif b>a and b>c:\n",
        "  print (\"the largest number amoung the three is b :\",b)\n",
        "else:\n",
        "  print (\"the largest number amoung the three is c :\",c)"
      ],
      "metadata": {
        "colab": {
          "base_uri": "https://localhost:8080/"
        },
        "id": "pnH17REkNV67",
        "outputId": "88c485e9-96dd-4d2e-c203-7e072722056b"
      },
      "execution_count": null,
      "outputs": [
        {
          "output_type": "stream",
          "name": "stdout",
          "text": [
            "the largest number amoung the three is c : 8\n"
          ]
        }
      ]
    },
    {
      "cell_type": "code",
      "source": [
        "# Q 12. Write a Python program to find the factorial of a number.\n",
        "\n",
        "import math\n",
        "def factorial(x):   # created a function to find the fact of the given number\n",
        "  return(math.factorial(x))  # used inbuild factorial function from math library\n",
        "a=5\n",
        "b = factorial(a) # recalling the function\n",
        "print(\" factorial of \",a, \"is \",b)"
      ],
      "metadata": {
        "colab": {
          "base_uri": "https://localhost:8080/"
        },
        "id": "jUorrzu-UDSi",
        "outputId": "67bb49dc-1423-4a90-dd0e-5bd65ba3bbb2"
      },
      "execution_count": null,
      "outputs": [
        {
          "output_type": "stream",
          "name": "stdout",
          "text": [
            " factorial of  5 is  120\n"
          ]
        }
      ]
    },
    {
      "cell_type": "code",
      "source": [
        " #Q 13. Write a Python program to display the multiplication table.\n",
        "\n",
        "a=10\n",
        "for i in range(0,11):\n",
        "  print (a ,\"*\", i, \"= \",a*i)"
      ],
      "metadata": {
        "colab": {
          "base_uri": "https://localhost:8080/"
        },
        "id": "TKXmiHbBWHCg",
        "outputId": "4d309915-86a7-434b-8707-ae8d0fa22b8e"
      },
      "execution_count": null,
      "outputs": [
        {
          "output_type": "stream",
          "name": "stdout",
          "text": [
            "10 * 0 =  0\n",
            "10 * 1 =  10\n",
            "10 * 2 =  20\n",
            "10 * 3 =  30\n",
            "10 * 4 =  40\n",
            "10 * 5 =  50\n",
            "10 * 6 =  60\n",
            "10 * 7 =  70\n",
            "10 * 8 =  80\n",
            "10 * 9 =  90\n",
            "10 * 10 =  100\n"
          ]
        }
      ]
    },
    {
      "cell_type": "code",
      "source": [
        "# Q 14. Write a Python program to print the Fibonacci sequence.\n",
        "\n",
        "n = int(input (\"Enter the number you want to print: \"))\n",
        "# Take input from user that how many numbers you want to print\n",
        "a = 0\n",
        "b = 1\n",
        "for i in range(0,n):\n",
        "    print(a,\"\\n\", end = \" \")             # a:0;    a:1;       a:2\n",
        "    c = a+b                     #c=0+1=1; c= 1+1=2;  c=1+2=3\n",
        "    a = b               #a=1    ; a=1;       a=2\n",
        "    b = c               #b=1    ; b=2;       b=3"
      ],
      "metadata": {
        "colab": {
          "base_uri": "https://localhost:8080/"
        },
        "id": "4Mj1PkXTW8k8",
        "outputId": "12fbcb01-74ab-4480-ebdc-b8bc53c1aa11"
      },
      "execution_count": null,
      "outputs": [
        {
          "output_type": "stream",
          "name": "stdout",
          "text": [
            "Enter the number you want to print: 6\n",
            "0 \n",
            " 1 \n",
            " 1 \n",
            " 2 \n",
            " 3 \n",
            " 5 \n",
            " "
          ]
        }
      ]
    },
    {
      "cell_type": "code",
      "source": [
        "# Q 15. Write a Python program to check if a number is an Armstrong number.\n",
        "\n",
        "num = int(input(\"Enter a number: \")) # take input from the user\n",
        "sum = 0\n",
        "# find the sum of the cube of each digit\n",
        "temp = num\n",
        "while temp > 0:\n",
        "   digit = temp % 10\n",
        "   sum += digit ** 3\n",
        "   temp //= 10\n",
        "if num == sum: # checking whether the number is armstrong or not\n",
        "   print(num,\"is an Armstrong number\")\n",
        "else:\n",
        "   print(num,\"is not an Armstrong number\")\n"
      ],
      "metadata": {
        "colab": {
          "base_uri": "https://localhost:8080/"
        },
        "id": "by5cvH-DW8nB",
        "outputId": "ba75e9b8-8dfd-4fc2-8217-ff1884f58307"
      },
      "execution_count": null,
      "outputs": [
        {
          "output_type": "stream",
          "name": "stdout",
          "text": [
            "Enter a number: 370\n",
            "370 is an Armstrong number\n"
          ]
        }
      ]
    },
    {
      "cell_type": "code",
      "source": [
        "# Q 16. Write a Python program to find the sum of natural numbers\n",
        "\n",
        "a =int(input(\"enter the number :\"))\n",
        "if a < 0:\n",
        "   print(\"Enter a positive number\")\n",
        "else:\n",
        "   sum = 0\n",
        "   # use while loop to iterate until zero\n",
        "   while(a > 0):\n",
        "       sum += a\n",
        "       a -= 1\n",
        "   print(\"The sum is\", sum)"
      ],
      "metadata": {
        "colab": {
          "base_uri": "https://localhost:8080/"
        },
        "id": "pgeVQqUrW8qR",
        "outputId": "26b45a24-da35-48ec-a2fd-acf3be02c747"
      },
      "execution_count": null,
      "outputs": [
        {
          "output_type": "stream",
          "name": "stdout",
          "text": [
            "enter the number :5\n",
            "The sum is 15\n"
          ]
        }
      ]
    },
    {
      "cell_type": "code",
      "source": [
        " # Q 17. Write a Python program to find the sum of digits of a number.\n",
        "\n",
        "def Sum(n):\n",
        "\tstr1 = str(n) #converting the number into string\n",
        "\tlist1 = list(map(int, str1.strip())) #converting the string into list using strip and map method\n",
        "\treturn sum(list1)\n",
        "n = 12345\n",
        "print(Sum(n))"
      ],
      "metadata": {
        "colab": {
          "base_uri": "https://localhost:8080/"
        },
        "id": "pMBHRXqDW8sw",
        "outputId": "3e2e46d8-9298-4b2f-ef6c-923153de3bc7"
      },
      "execution_count": null,
      "outputs": [
        {
          "output_type": "stream",
          "name": "stdout",
          "text": [
            "15\n"
          ]
        }
      ]
    },
    {
      "cell_type": "code",
      "source": [
        "# Q 18. Write a Python program to reverse a number.\n",
        "a = 123456\n",
        "print(str(a)[::-1])  #converting the number into string and then printing the number in the reverse order"
      ],
      "metadata": {
        "colab": {
          "base_uri": "https://localhost:8080/"
        },
        "id": "uQ6eFwKbW85z",
        "outputId": "559098df-5ab9-4d73-a2a7-81da3de77dd2"
      },
      "execution_count": null,
      "outputs": [
        {
          "output_type": "stream",
          "name": "stdout",
          "text": [
            "654321\n"
          ]
        }
      ]
    },
    {
      "cell_type": "code",
      "source": [
        "# Q 19. Write a Python program to convert decimal to binary, octal and hexadecimal.\n",
        "\n",
        "deci=int(input(\" enther the decimal number\"))\n",
        "print(\"the binary of \",deci,\"is : \",bin(deci))\n",
        "print(\"the octal of \",deci,\"is : \",oct(deci))\n",
        "print(\"the hexadecimal of \",deci,\"is : \",hex(deci))"
      ],
      "metadata": {
        "colab": {
          "base_uri": "https://localhost:8080/"
        },
        "id": "n6rJ5w3BW9Aw",
        "outputId": "8d59843d-1bd9-4eea-ef68-67d82586ba8b"
      },
      "execution_count": null,
      "outputs": [
        {
          "output_type": "stream",
          "name": "stdout",
          "text": [
            " enther the decimal number12\n",
            "the binary of  12 is :  0b1100\n",
            "the octal of  12 is :  0o14\n",
            "the hexadecimal of  12 is :  0xc\n"
          ]
        }
      ]
    },
    {
      "cell_type": "code",
      "source": [
        "# Q 20. Write a Python program to find HCF or GCD of two numbers.\n",
        "\n",
        "# Using Euclidian algorithm to find hcf\n",
        "def compute_hcf(x, y):\n",
        "   while(y):\n",
        "       x, y = y, x % y\n",
        "   return x\n",
        "\n",
        "hcf = compute_hcf(300, 400)\n",
        "print(\"The HCF is\", hcf)"
      ],
      "metadata": {
        "colab": {
          "base_uri": "https://localhost:8080/"
        },
        "id": "w0njLs7oW9DM",
        "outputId": "89b4751f-2be7-470f-ff43-984b87a755b9"
      },
      "execution_count": null,
      "outputs": [
        {
          "output_type": "stream",
          "name": "stdout",
          "text": [
            "The HCF is 100\n"
          ]
        }
      ]
    },
    {
      "cell_type": "code",
      "source": [
        " # Q 21. Write a Python program to find LCM of two numbers.\n",
        "\n",
        "def compute_lcm(x, y):\n",
        "   if x > y:   # choose the greater number\n",
        "       greater = x\n",
        "   else:\n",
        "       greater = y\n",
        "   while(True):\n",
        "       if((greater % x == 0) and (greater % y == 0)):\n",
        "           lcm = greater\n",
        "           break\n",
        "       greater += 1\n",
        "   return lcm\n",
        "num1 = 54\n",
        "num2 = 24\n",
        "print(\"The L.C.M. is\", compute_lcm(num1, num2))"
      ],
      "metadata": {
        "colab": {
          "base_uri": "https://localhost:8080/"
        },
        "id": "4po9vXGluJTo",
        "outputId": "9b04fa8b-99a0-4a80-cce0-8fc7b60b0ed1"
      },
      "execution_count": null,
      "outputs": [
        {
          "output_type": "stream",
          "name": "stdout",
          "text": [
            "The L.C.M. is 216\n"
          ]
        }
      ]
    },
    {
      "cell_type": "code",
      "source": [
        " # Q 22. Write a Python program to count the number of each vowel in a string\n",
        "\n",
        "string=input(\"Enter string:\")\n",
        "vowels=0\n",
        "for i in string:\n",
        "      if(i=='a' or i=='e' or i=='i' or i=='o' or i=='u' or i=='A' or i=='E' or i=='I' or i=='O' or i=='U'):\n",
        "            vowels=vowels+1\n",
        "print(\"Number of vowels are:\")\n",
        "print(vowels)\n"
      ],
      "metadata": {
        "colab": {
          "base_uri": "https://localhost:8080/"
        },
        "id": "0LpB4Er4vWCH",
        "outputId": "8fff84bd-ba52-4493-a3ab-921260dc6654"
      },
      "execution_count": null,
      "outputs": [
        {
          "output_type": "stream",
          "name": "stdout",
          "text": [
            "Enter string:umaima\n",
            "Number of vowels are:\n",
            "4\n"
          ]
        }
      ]
    },
    {
      "cell_type": "code",
      "source": [
        "# Q 23. Write a Python program to remove punctuation from a string\n",
        "\n",
        "import string\n",
        "def punct(x): # Define a function to remove punctuation characters from a given string\n",
        "    for i in string.punctuation:   # Iterate through each punctuation character and replace it with an empty string\n",
        "        x = x.replace(i, \"\")\n",
        "    return x\n",
        "x = \"hello,world!!\"\n",
        "print(\"Original text:\")\n",
        "print(x)\n",
        "result = punct(x) # Call the function to remove punctuation characters and print the result\n",
        "print(\"After removing Punctuations from the said string:\")\n",
        "print(result)"
      ],
      "metadata": {
        "colab": {
          "base_uri": "https://localhost:8080/"
        },
        "id": "miz-QbCZv5Gh",
        "outputId": "d5d145e0-3f57-4779-e2b4-057b18cb721a"
      },
      "execution_count": null,
      "outputs": [
        {
          "output_type": "stream",
          "name": "stdout",
          "text": [
            "Original text:\n",
            "hello,world!!\n",
            "After removing Punctuations from the said string:\n",
            "helloworld\n"
          ]
        }
      ]
    },
    {
      "cell_type": "code",
      "source": [
        " # Q 24. Write a Python program to sort a list of numbers in ascending order.\n",
        "\n",
        " list1=[5,6,8,3,0,7,4]\n",
        " print(\"the given list is : \",list1)\n",
        "list1.sort()  # using sort method which has default value as ascending\n",
        "print(\"after sorting the list in ascending order : \",list1)\n"
      ],
      "metadata": {
        "colab": {
          "base_uri": "https://localhost:8080/"
        },
        "id": "32Qnq30Ux1Yb",
        "outputId": "9468cae7-69b9-4136-c17a-eaca99bc22db"
      },
      "execution_count": null,
      "outputs": [
        {
          "output_type": "stream",
          "name": "stdout",
          "text": [
            "the given list is :  [5, 6, 8, 3, 0, 7, 4]\n",
            "after sorting the list in ascending order :  [0, 3, 4, 5, 6, 7, 8]\n"
          ]
        }
      ]
    },
    {
      "cell_type": "code",
      "source": [
        "# Q 25. Write a Python program to merge two lists and sort it.\n",
        "\n",
        "l1=[3,5,7]\n",
        "l2=[6,4,9]\n",
        "l3=l1+l2\n",
        "print (\" sum of the above 2 list is : \",l3)\n",
        "l3.sort()\n",
        "print(l3) # printing the sorted list"
      ],
      "metadata": {
        "colab": {
          "base_uri": "https://localhost:8080/"
        },
        "id": "2OCH_B7z06_K",
        "outputId": "12cf9cf2-b7f4-4083-856f-644315fd696a"
      },
      "execution_count": null,
      "outputs": [
        {
          "output_type": "stream",
          "name": "stdout",
          "text": [
            " sum of the above 2 list is :  [3, 5, 7, 6, 4, 9]\n",
            "[3, 4, 5, 6, 7, 9]\n"
          ]
        }
      ]
    },
    {
      "cell_type": "code",
      "source": [],
      "metadata": {
        "id": "NVtonRdY2yxK"
      },
      "execution_count": null,
      "outputs": []
    }
  ]
}