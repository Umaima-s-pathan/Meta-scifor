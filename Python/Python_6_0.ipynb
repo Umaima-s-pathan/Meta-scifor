{
  "cells": [
    {
      "cell_type": "code",
      "execution_count": 35,
      "id": "99948d87",
      "metadata": {
        "id": "99948d87"
      },
      "outputs": [],
      "source": [
        "### basic python continued ###"
      ]
    },
    {
      "cell_type": "code",
      "execution_count": 36,
      "id": "750ebe5c",
      "metadata": {
        "id": "750ebe5c"
      },
      "outputs": [],
      "source": [
        "# 1 -Global and  local variables\n",
        "# 2 -Input Keyword/User\n",
        "# 3 -Error and Exception Handling\n",
        "# 4 -Finally:"
      ]
    },
    {
      "cell_type": "code",
      "execution_count": 37,
      "id": "68a0830b",
      "metadata": {
        "id": "68a0830b"
      },
      "outputs": [],
      "source": [
        "# 1- Global and Local Variables\n",
        "# Global varibale.\n",
        "# What is global variable ? Global varibale means which variable we can use outside the fucntion as well as inside the fucntion."
      ]
    },
    {
      "cell_type": "code",
      "execution_count": 38,
      "id": "478423fc",
      "metadata": {
        "id": "478423fc"
      },
      "outputs": [],
      "source": [
        "extra_marks=10   #Its an global variable"
      ]
    },
    {
      "cell_type": "code",
      "execution_count": 39,
      "id": "e76c6c72",
      "metadata": {
        "id": "e76c6c72"
      },
      "outputs": [],
      "source": [
        "# Local variable\n",
        "# what is local variable ? local varibale means which varible we can only use inside the fucntion.\n"
      ]
    },
    {
      "cell_type": "code",
      "execution_count": 40,
      "id": "e5b36f3d",
      "metadata": {
        "id": "e5b36f3d"
      },
      "outputs": [],
      "source": [
        "def total_marks():\n",
        "    some_marks=50   #its a local variable, and its not work outside the fucntion\n",
        "    print(\"printing inside the fucntion and the total is \",50+some_marks+total_marks)"
      ]
    },
    {
      "cell_type": "code",
      "execution_count": 41,
      "id": "c8fc19b0",
      "metadata": {
        "id": "c8fc19b0"
      },
      "outputs": [],
      "source": [
        "#How to use local varibale outside the fucntion"
      ]
    },
    {
      "cell_type": "code",
      "execution_count": 42,
      "id": "74db7824",
      "metadata": {
        "id": "74db7824"
      },
      "outputs": [],
      "source": [
        "def local_global():\n",
        "    global var12\n",
        "    var12=\"This is fantastic\"\n",
        "    print(var12)"
      ]
    },
    {
      "cell_type": "code",
      "execution_count": 43,
      "id": "baf67c0b",
      "metadata": {
        "colab": {
          "base_uri": "https://localhost:8080/"
        },
        "id": "baf67c0b",
        "outputId": "b4170d75-216b-408f-f077-925eb54f4826"
      },
      "outputs": [
        {
          "output_type": "stream",
          "name": "stdout",
          "text": [
            "This is fantastic\n"
          ]
        }
      ],
      "source": [
        "local_global()"
      ]
    },
    {
      "cell_type": "code",
      "execution_count": 44,
      "id": "667ebe16",
      "metadata": {
        "colab": {
          "base_uri": "https://localhost:8080/",
          "height": 35
        },
        "id": "667ebe16",
        "outputId": "af48e693-751f-4dfb-805e-abcf15f8900e"
      },
      "outputs": [
        {
          "output_type": "execute_result",
          "data": {
            "text/plain": [
              "'This is fantastic'"
            ],
            "application/vnd.google.colaboratory.intrinsic+json": {
              "type": "string"
            }
          },
          "metadata": {},
          "execution_count": 44
        }
      ],
      "source": [
        "var12  #see that we are using local varaible to outside the fucntion because we covert local variable to global varibale"
      ]
    },
    {
      "cell_type": "code",
      "execution_count": 45,
      "id": "b9345b76",
      "metadata": {
        "colab": {
          "base_uri": "https://localhost:8080/"
        },
        "id": "b9345b76",
        "outputId": "d0ceecd8-5574-4cbc-ee13-ed25ee2f51d8"
      },
      "outputs": [
        {
          "output_type": "stream",
          "name": "stdout",
          "text": [
            "Enter Your Name \n",
            "umaima\n",
            "User Enter umaima\n"
          ]
        }
      ],
      "source": [
        "name=input(\"Enter Your Name \\n\")  #program to take the input string from the user\n",
        "print(\"User Enter\",name)"
      ]
    },
    {
      "cell_type": "code",
      "execution_count": 46,
      "id": "8adbd8fe",
      "metadata": {
        "id": "8adbd8fe"
      },
      "outputs": [],
      "source": [
        "#Lets understand how to make user enter only integer."
      ]
    },
    {
      "cell_type": "code",
      "execution_count": 47,
      "id": "1a7b1d10",
      "metadata": {
        "colab": {
          "base_uri": "https://localhost:8080/"
        },
        "id": "1a7b1d10",
        "outputId": "d71d3e9b-5931-403f-9a81-fea5064e6eb8"
      },
      "outputs": [
        {
          "output_type": "stream",
          "name": "stdout",
          "text": [
            "Enter Your Marks87\n",
            "Enter Your Marks98\n",
            "185  Out of 200\n"
          ]
        }
      ],
      "source": [
        "maths=int(input(\"Enter Your Marks\"))  #(int) use for integer\n",
        "science=int(input(\"Enter Your Marks\"))\n",
        "total_marks=maths + science\n",
        "print(total_marks,\" Out of 200\")"
      ]
    },
    {
      "cell_type": "code",
      "execution_count": 48,
      "id": "309fd8fc",
      "metadata": {
        "colab": {
          "base_uri": "https://localhost:8080/"
        },
        "id": "309fd8fc",
        "outputId": "5ef52cc5-7925-4445-db68-7d3bd5adf972"
      },
      "outputs": [
        {
          "output_type": "stream",
          "name": "stdout",
          "text": [
            "Enter Your name umaima\n",
            "You Entered  umaima\n"
          ]
        }
      ],
      "source": [
        "#How to check only letters\n",
        "name=input(\"Enter Your name \")\n",
        "if name.isalpha():\n",
        "    print(\"You Entered \",name)\n",
        "else:\n",
        "    print(\"Look like You Did not enter alpha charater\")"
      ]
    },
    {
      "cell_type": "code",
      "execution_count": 49,
      "id": "9528bd62",
      "metadata": {
        "id": "9528bd62"
      },
      "outputs": [],
      "source": [
        "def phone_price(phone_make,phone_age,phone_model_gb):\n",
        "    if phone_make==\"iphone13\":\n",
        "        if 0<phone_age<=6:\n",
        "            if phone_model_gb==128:\n",
        "                print(\"Rs 65000 - Rs 75000\")\n",
        "            elif phone_model_gb==256:\n",
        "                print(\"Rs 80000\")\n",
        "        if 6<phone_age<=12:\n",
        "            if phone_model_gb==128:\n",
        "                print(\"Rs 60000 - Rs 65000\")\n",
        "            elif phone_model_gb==256:\n",
        "                print(\"Rs70000\")\n",
        "    elif phone_make==\"iphone11\":\n",
        "        if 0<phone_age<=6:\n",
        "            if phone_model_gb==64:\n",
        "                print(\"Rs 44000 - Rs 48000\")\n",
        "            elif phone_model_gb==128:\n",
        "                print(\"RS 50000 - Rs 550000\")\n",
        "        if 6<phone_age<=12:\n",
        "            if phone_model_gb==64:\n",
        "                print(\"Rs 39000 - Rs 42000\")\n",
        "            elif phone_model_gb:\n",
        "                print(\"Rs 45000 - 48000\")\n",
        "    else:\n",
        "        print(\"No Stock Right Now, Please check after few days\")"
      ]
    },
    {
      "cell_type": "code",
      "execution_count": 50,
      "id": "19caf092",
      "metadata": {
        "colab": {
          "base_uri": "https://localhost:8080/"
        },
        "id": "19caf092",
        "outputId": "aeb654fe-48e6-4e42-98b4-9c21f9dca359"
      },
      "outputs": [
        {
          "name": "stdout",
          "output_type": "stream",
          "text": [
            " Enter Your Required Phone  iphone11\n",
            " Enter how old phone you need  5\n",
            " Enter how much space do you want in you phone  5\n"
          ]
        }
      ],
      "source": [
        "phone=input(\" Enter Your Required Phone  \")\n",
        "months_old=int(input(\" Enter how old phone you need  \"))\n",
        "capacity=int(input(\" Enter how much space do you want in you phone  \"))\n",
        "phone_price(phone,months_old,capacity)"
      ]
    },
    {
      "cell_type": "code",
      "execution_count": 51,
      "id": "8014c092",
      "metadata": {
        "id": "8014c092"
      },
      "outputs": [],
      "source": [
        "#Error and Exception Handling - As we know that when we are coding , we get different different types of\n",
        "# error , this reason python use a error and exception handling.understanding of variouss types of error\n",
        "# will help you to debug your code much faster.\n",
        "\n",
        "#Now se how to handle error and exception hadling .\n",
        "#  try and except\n",
        "#what is try and except ? Try and Except statement is used to handle these errors within our code\n",
        "#in Python. The try block is used to check some code for errors i.e the code inside the try block\n",
        "#will execute when there is no error in the program. Whereas the code inside the except block will\n",
        "#execute whenever the program encounters some error in the preceding try block."
      ]
    },
    {
      "cell_type": "code",
      "execution_count": 52,
      "id": "3642cffb",
      "metadata": {
        "id": "3642cffb"
      },
      "outputs": [],
      "source": [
        "#Using just except ,we can check for any exception to understand better."
      ]
    },
    {
      "cell_type": "code",
      "execution_count": 53,
      "id": "117b0116",
      "metadata": {
        "id": "117b0116"
      },
      "outputs": [],
      "source": [
        "marks_1=88\n",
        "subject=\"datascience\"\n",
        "marks_2=33"
      ]
    },
    {
      "cell_type": "code",
      "execution_count": 54,
      "id": "20b657cd",
      "metadata": {
        "colab": {
          "base_uri": "https://localhost:8080/"
        },
        "id": "20b657cd",
        "outputId": "fa10d0b1-c125-4374-8149-76be59a19d3c"
      },
      "outputs": [
        {
          "output_type": "stream",
          "name": "stdout",
          "text": [
            "You are only add integer + integer ,not with integer + string\n"
          ]
        }
      ],
      "source": [
        "try:\n",
        "    total= marks_1 + subject\n",
        "except:\n",
        "    print(\"You are only add integer + integer ,not with integer + string\")\n",
        "else:\n",
        "    (total)\n",
        "\n",
        ""
      ]
    },
    {
      "cell_type": "code",
      "execution_count": 55,
      "id": "a7b7ba09",
      "metadata": {
        "colab": {
          "base_uri": "https://localhost:8080/"
        },
        "id": "a7b7ba09",
        "outputId": "2bd0d6f9-679c-4380-fe54-ef241ad5a8d2"
      },
      "outputs": [
        {
          "output_type": "stream",
          "name": "stdout",
          "text": [
            "Your Total marks is \n",
            "\t\t 121\n"
          ]
        }
      ],
      "source": [
        "try:\n",
        "    total=marks_1 + marks_2\n",
        "except:\n",
        "    print(\"plese dont add integer with string\")\n",
        "else:\n",
        "    print(\"Your Total marks is \\n\\t\\t\",total)"
      ]
    },
    {
      "cell_type": "code",
      "execution_count": 56,
      "id": "068f3bc4",
      "metadata": {
        "id": "068f3bc4"
      },
      "outputs": [],
      "source": [
        "#web site:  https://www.insurancedekho.com/\n",
        "# write a program to insure car number  or new car insurence ,program to accept car numbers,customer name\n",
        "# and mobile number, if user dont provide the detail , the system needs to raise exception saying\n",
        "# its mandatory field?required field."
      ]
    },
    {
      "cell_type": "code",
      "execution_count": 57,
      "id": "3c39375e",
      "metadata": {
        "colab": {
          "base_uri": "https://localhost:8080/"
        },
        "id": "3c39375e",
        "outputId": "c6cc6e30-2fdb-48c7-b457-3b44add5429c"
      },
      "outputs": [
        {
          "name": "stdout",
          "output_type": "stream",
          "text": [
            "Enter Your Car number 1997\n",
            "Enter Your Name Baby umaima\n",
            "Enter Your Number Baby 3215524975\n"
          ]
        }
      ],
      "source": [
        "try:\n",
        "    car_number=input(\"Enter Your Car number \")\n",
        "    name=input(\"Enter Your Name Baby \")\n",
        "    mobile_number=input(\"Enter Your Number Baby \")\n",
        "    if car_number ==\" \":\n",
        "        raise Exception()\n",
        "    elif name ==\" \":\n",
        "        raise Exception()\n",
        "    elif mobie_number ==\" \":\n",
        "        raise Exception()\n",
        "    else:\n",
        "        pass\n",
        "except:\n",
        "    if car_number ==\" \":\n",
        "        print(\"\\n The Registration Field Required\")\n",
        "    if name ==\" \":\n",
        "        print(\"\\n The Name Field is required\")\n",
        "    if mobile_number ==\" \":\n",
        "        print(\"\\n The Mobile Number Field is required\")\n",
        "\n",
        "else:\n",
        "    print(\"Thanks for registration\")"
      ]
    },
    {
      "cell_type": "code",
      "execution_count": 58,
      "id": "1760b732",
      "metadata": {
        "id": "1760b732"
      },
      "outputs": [],
      "source": [
        "#Finally Block. We dont actually need to memorize the list of exception types.\n",
        "# Because fianlly blocks use when try and except both getting error , then finally will print.\n",
        "# and finally will execute all times . if there are any error or not."
      ]
    },
    {
      "cell_type": "code",
      "execution_count": 59,
      "id": "989fb515",
      "metadata": {
        "colab": {
          "base_uri": "https://localhost:8080/"
        },
        "id": "989fb515",
        "outputId": "4b5b4685-64bb-4715-8b75-b443323709b3"
      },
      "outputs": [
        {
          "output_type": "stream",
          "name": "stdout",
          "text": [
            "Enter Your Car number 1997\n",
            "Enter Your Name  umaima\n",
            "Enter Your Number  3854299645\n",
            "Thanks for registration\n"
          ]
        }
      ],
      "source": [
        "try:\n",
        "    car_number=input(\"Enter Your Car number \")\n",
        "    name=input(\"Enter Your Name  \")\n",
        "    mobile_number=input(\"Enter Your Number  \")\n",
        "    if car_number ==\" \":\n",
        "        raise Exception()\n",
        "    elif name ==\" \":\n",
        "        raise Exception()\n",
        "    elif mobie_number ==\" \":\n",
        "        raise Exception()\n",
        "    else:\n",
        "        pass\n",
        "except:\n",
        "    if car_number ==\" \":\n",
        "        print(\"\\n The Registration Field Required\")\n",
        "    if name ==\" \":\n",
        "        print(\"\\n The Name Field is required\")\n",
        "    if mobile_number ==\" \":\n",
        "        print(\"\\n The Mobile Number Field is required\")\n",
        "\n",
        "finally:\n",
        "    print(\"Thanks for registration\")"
      ]
    },
    {
      "cell_type": "code",
      "execution_count": 60,
      "id": "8597b86e",
      "metadata": {
        "id": "8597b86e"
      },
      "outputs": [],
      "source": [
        "# We can use this in conjuction will execute , lets see a new example that will take into account\n",
        "# a user putting in the wrong input:-"
      ]
    },
    {
      "cell_type": "code",
      "execution_count": 61,
      "id": "92693c7b",
      "metadata": {
        "id": "92693c7b"
      },
      "outputs": [],
      "source": [
        "def mobile_num():\n",
        "    try:\n",
        "        val=int(input(\"Enter Your Number \"))\n",
        "    except:\n",
        "        print(\"Look Like You did not enter an integer\")\n",
        "    print(val)"
      ]
    },
    {
      "cell_type": "code",
      "execution_count": 62,
      "id": "603a2601",
      "metadata": {
        "colab": {
          "base_uri": "https://localhost:8080/"
        },
        "id": "603a2601",
        "outputId": "71c7787d-8b68-45b2-c634-31c1dde7c389"
      },
      "outputs": [
        {
          "output_type": "stream",
          "name": "stdout",
          "text": [
            "Enter Your Number 2466985467\n",
            "2466985467\n"
          ]
        }
      ],
      "source": [
        "mobile_num()"
      ]
    },
    {
      "cell_type": "code",
      "execution_count": 63,
      "id": "91b17a08",
      "metadata": {
        "id": "91b17a08"
      },
      "outputs": [],
      "source": [
        "#Lets see if we enter a wrong number it will takes as a right number.\n",
        "# what if we do one thing . we set the code  like only enter 10 digit mobile number."
      ]
    },
    {
      "cell_type": "code",
      "execution_count": 64,
      "id": "dcc9fc42",
      "metadata": {
        "id": "dcc9fc42"
      },
      "outputs": [],
      "source": [
        "def mobile_numer():\n",
        "    while True:\n",
        "        try:\n",
        "            val=int(input(\"Enter Your Mobile Number\"))\n",
        "            if len(str(val))!=10:\n",
        "                print(\"You did not enter a Right Mobile Number\")\n",
        "            else:\n",
        "                print(\"Thankyou\")\n",
        "                break\n",
        "        except:\n",
        "            print(\"Look Like You Did Not Enter An Integer\")\n",
        "            continue\n",
        "\n",
        ""
      ]
    },
    {
      "cell_type": "code",
      "execution_count": 65,
      "id": "9b639eff",
      "metadata": {
        "colab": {
          "base_uri": "https://localhost:8080/"
        },
        "id": "9b639eff",
        "outputId": "eecf96e9-2aa7-4e53-e8e6-b7dd25eafba8"
      },
      "outputs": [
        {
          "output_type": "stream",
          "name": "stdout",
          "text": [
            "Enter Your Mobile Number3641525564\n",
            "Thankyou\n"
          ]
        }
      ],
      "source": [
        "mobile_numer()"
      ]
    }
  ],
  "metadata": {
    "kernelspec": {
      "display_name": "Python 3 (ipykernel)",
      "language": "python",
      "name": "python3"
    },
    "language_info": {
      "codemirror_mode": {
        "name": "ipython",
        "version": 3
      },
      "file_extension": ".py",
      "mimetype": "text/x-python",
      "name": "python",
      "nbconvert_exporter": "python",
      "pygments_lexer": "ipython3",
      "version": "3.10.12"
    },
    "colab": {
      "provenance": []
    }
  },
  "nbformat": 4,
  "nbformat_minor": 5
}