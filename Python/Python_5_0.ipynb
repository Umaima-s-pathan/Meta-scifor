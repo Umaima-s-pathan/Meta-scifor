{
  "cells": [
    {
      "cell_type": "code",
      "execution_count": 1,
      "id": "d215f6f4",
      "metadata": {
        "id": "d215f6f4"
      },
      "outputs": [],
      "source": [
        "### python  continued ###\n",
        "\n",
        "\n",
        "#Study about Function ,*args,*kwargs,map and filter\n",
        "\n",
        "#  So what is funtion ? Function is a group of statement performing a specific task. When a program gets bigger in size and its complexity\n",
        "#  grows, it get difficult for programmer to keep track on which piece of code is doing what.\n",
        "#  A fucntion can be reused by the programming is a given program any number of times.\n",
        "\n",
        "\n",
        "# Function Syntax:-\n",
        "#                  def function_name(argument1,argument2):\n",
        "#                               do stuff here"
      ]
    },
    {
      "cell_type": "code",
      "execution_count": 2,
      "id": "ab21423d",
      "metadata": {
        "id": "ab21423d"
      },
      "outputs": [],
      "source": [
        "def say_hello():\n",
        "    print(\"This is the basic one\")"
      ]
    },
    {
      "cell_type": "code",
      "execution_count": 3,
      "id": "9d99e064",
      "metadata": {
        "colab": {
          "base_uri": "https://localhost:8080/"
        },
        "id": "9d99e064",
        "outputId": "3fe6d2ca-aca7-48f9-90f4-2ed3bb0dfc43"
      },
      "outputs": [
        {
          "output_type": "stream",
          "name": "stdout",
          "text": [
            "This is the basic one\n"
          ]
        }
      ],
      "source": [
        "say_hello()"
      ]
    },
    {
      "cell_type": "code",
      "execution_count": 4,
      "id": "7e28197f",
      "metadata": {
        "id": "7e28197f"
      },
      "outputs": [],
      "source": [
        "def greetings(name): # A Simple greeting function .\n",
        "    print(\"Hello Miss \\n\\t\",name)"
      ]
    },
    {
      "cell_type": "code",
      "execution_count": 5,
      "id": "8af62941",
      "metadata": {
        "colab": {
          "base_uri": "https://localhost:8080/"
        },
        "id": "8af62941",
        "outputId": "e999a9f5-08ad-4032-839e-b140ba4fb3db"
      },
      "outputs": [
        {
          "output_type": "stream",
          "name": "stdout",
          "text": [
            "Hello Miss \n",
            "\t Amisha\n"
          ]
        }
      ],
      "source": [
        "greetings(\"Amisha\")"
      ]
    },
    {
      "cell_type": "code",
      "execution_count": 6,
      "id": "e0491d02",
      "metadata": {
        "id": "e0491d02"
      },
      "outputs": [],
      "source": [
        "#Using return\n",
        "#what is return? use of return statement return allow a function to \"return\" a result that can then be stored"
      ]
    },
    {
      "cell_type": "code",
      "execution_count": 7,
      "id": "c0f3fcff",
      "metadata": {
        "id": "c0f3fcff"
      },
      "outputs": [],
      "source": [
        "def salary_incr(salary):  #   Salary update example.\n",
        "                             #   without return method.\n",
        "    if salary<=9000:\n",
        "        (salary + 1000)\n",
        "    else:\n",
        "        (salary)"
      ]
    },
    {
      "cell_type": "code",
      "execution_count": 8,
      "id": "e86911ae",
      "metadata": {
        "colab": {
          "base_uri": "https://localhost:8080/"
        },
        "id": "e86911ae",
        "outputId": "2d87d524-436f-428b-9cd7-5182e126554f"
      },
      "outputs": [
        {
          "output_type": "stream",
          "name": "stdout",
          "text": [
            "Your new salary None\n"
          ]
        }
      ],
      "source": [
        "print(\"Your new salary\",salary_incr(5000))"
      ]
    },
    {
      "cell_type": "code",
      "execution_count": 9,
      "id": "02c670cc",
      "metadata": {
        "id": "02c670cc"
      },
      "outputs": [],
      "source": [
        "#   why it was showing none . because we dont give a command to return .you think why we did not given a\n",
        "#   print command because print is used by a user and we are coder we check only by using return."
      ]
    },
    {
      "cell_type": "code",
      "execution_count": 10,
      "id": "75915a67",
      "metadata": {
        "id": "75915a67"
      },
      "outputs": [],
      "source": [
        "def incr_salary(salary):\n",
        "    if salary<=8000:\n",
        "        return (salary+1000)\n",
        "    else:\n",
        "        return(salary)"
      ]
    },
    {
      "cell_type": "code",
      "execution_count": 11,
      "id": "ba59a04d",
      "metadata": {
        "colab": {
          "base_uri": "https://localhost:8080/"
        },
        "id": "ba59a04d",
        "outputId": "b8fc89fc-fa4a-40e1-a5fd-466b8f9fb7a3"
      },
      "outputs": [
        {
          "output_type": "execute_result",
          "data": {
            "text/plain": [
              "8000"
            ]
          },
          "metadata": {},
          "execution_count": 11
        }
      ],
      "source": [
        "incr_salary(7000)"
      ]
    },
    {
      "cell_type": "code",
      "execution_count": 12,
      "id": "b38238e0",
      "metadata": {
        "id": "b38238e0"
      },
      "outputs": [],
      "source": [
        "def my_marks(science,maths,english): #use with multiple arguments.\n",
        "    return (science + maths + english)"
      ]
    },
    {
      "cell_type": "code",
      "execution_count": 13,
      "id": "277a405d",
      "metadata": {
        "colab": {
          "base_uri": "https://localhost:8080/"
        },
        "id": "277a405d",
        "outputId": "8d80ec2f-7523-496f-974a-1e5be86dc7b7"
      },
      "outputs": [
        {
          "output_type": "stream",
          "name": "stdout",
          "text": [
            "228 You Have Got\n"
          ]
        }
      ],
      "source": [
        "print(my_marks(85,69,74),\"You Have Got\")"
      ]
    },
    {
      "cell_type": "code",
      "execution_count": 14,
      "id": "2a186cbb",
      "metadata": {
        "id": "2a186cbb"
      },
      "outputs": [],
      "source": [
        "total_marks=my_marks(85,69,74)"
      ]
    },
    {
      "cell_type": "code",
      "execution_count": 15,
      "id": "8fccfa13",
      "metadata": {
        "colab": {
          "base_uri": "https://localhost:8080/"
        },
        "id": "8fccfa13",
        "outputId": "714703a8-1166-42f3-fd9b-89315ca7a37f"
      },
      "outputs": [
        {
          "output_type": "execute_result",
          "data": {
            "text/plain": [
              "228"
            ]
          },
          "metadata": {},
          "execution_count": 15
        }
      ],
      "source": [
        "total_marks"
      ]
    },
    {
      "cell_type": "code",
      "execution_count": 16,
      "id": "cd2ea5b3",
      "metadata": {
        "colab": {
          "base_uri": "https://localhost:8080/"
        },
        "id": "cd2ea5b3",
        "outputId": "f9080da8-e914-4f3c-ea2b-da9353622e75"
      },
      "outputs": [
        {
          "output_type": "stream",
          "name": "stdout",
          "text": [
            "228  Distinction and you got a scholor\n"
          ]
        }
      ],
      "source": [
        "if total_marks >85:\n",
        "    print(total_marks,\" Distinction and you got a scholor\")\n",
        "elif total_marks>70 and total_marks<=85:\n",
        "    print(total_marks,\"You are good\")\n",
        "elif total_marks>60 and total_marks<=75:\n",
        "    print(total_marks,\"First division\")\n",
        "elif total_marks>45 and total_marks<=60:\n",
        "    print(total_marks,\"second division\")\n",
        "elif total_marks>35 and total_marks<=45:\n",
        "    print(total_marks,\"you are just pass, but you are also good\")\n",
        "else:\n",
        "    print(total_marks,\"You are Fail , but you are best\")"
      ]
    },
    {
      "cell_type": "code",
      "execution_count": 17,
      "id": "8dc8d916",
      "metadata": {
        "id": "8dc8d916"
      },
      "outputs": [],
      "source": [
        "#Lets see how its work in real time.\n",
        "#    http://orangebookvalue>com/used-mobiles\n",
        "\n",
        "\n",
        "#   someone wants to buy used mobile online and vendor needs to display the price of mobile based on make\n",
        "#   ,monts old and gb(if applicable)"
      ]
    },
    {
      "cell_type": "code",
      "execution_count": 18,
      "id": "46c96425",
      "metadata": {
        "id": "46c96425"
      },
      "outputs": [],
      "source": [
        "def phone_price(phone_make,phone_age,phone_model_gb):\n",
        "    if phone_make== \"i phone 13\":\n",
        "        if 0<phone_age<=6:\n",
        "            if phone_model_gb==128:\n",
        "                print(\"Rs 60000 - Rs 70000 \")\n",
        "            elif phone_model_gb==256:\n",
        "                print(\"70000 - 80000\")\n",
        "    if phone_make==\"i phone 12\":\n",
        "        if 0<phone_age<=6:\n",
        "            if phone_model_gb==64:\n",
        "                print(\"Rs 50000 - RS 60000\")\n",
        "            elif phone_model_gb==128:\n",
        "                    print(\"Rs 55000 - 65000\")\n",
        "    elif phone_make==\"Nokia Lumia\":\n",
        "        if 0<phone_age<6:\n",
        "            if phone_model_gb==8:\n",
        "                print(\"Rs 15000 - RS 22000\")\n",
        "            elif phone_model_gb==32:\n",
        "                print(\"Rs 22000 , Rs28000\")\n",
        "    else:\n",
        "        print(\"No stock right now. please come back in few days\")"
      ]
    },
    {
      "cell_type": "code",
      "execution_count": 19,
      "id": "8730bf82",
      "metadata": {
        "colab": {
          "base_uri": "https://localhost:8080/"
        },
        "id": "8730bf82",
        "outputId": "d6469120-61d8-494c-d542-f9e8f1ca7c56"
      },
      "outputs": [
        {
          "output_type": "stream",
          "name": "stdout",
          "text": [
            "Rs 22000 , Rs28000\n"
          ]
        }
      ],
      "source": [
        "phone_price('Nokia Lumia',5,32)"
      ]
    },
    {
      "cell_type": "code",
      "execution_count": 20,
      "id": "dc2a00e5",
      "metadata": {
        "id": "dc2a00e5"
      },
      "outputs": [],
      "source": [
        "#  Lambda Function\n",
        "#  What is lamdba fucntion ? lambda function is used for quick calculation and for one time.\n",
        "#How to add in lambda\n",
        "\n"
      ]
    },
    {
      "cell_type": "code",
      "execution_count": 21,
      "id": "1f13e853",
      "metadata": {
        "id": "1f13e853"
      },
      "outputs": [],
      "source": [
        "add_num=lambda y:y+30"
      ]
    },
    {
      "cell_type": "code",
      "execution_count": 22,
      "id": "4d4c01c1",
      "metadata": {
        "colab": {
          "base_uri": "https://localhost:8080/"
        },
        "id": "4d4c01c1",
        "outputId": "dd60da50-fcba-44c5-c8b8-60fb13102a0c"
      },
      "outputs": [
        {
          "output_type": "execute_result",
          "data": {
            "text/plain": [
              "70"
            ]
          },
          "metadata": {},
          "execution_count": 22
        }
      ],
      "source": [
        "add_num(40)"
      ]
    },
    {
      "cell_type": "code",
      "execution_count": 23,
      "id": "89dfba52",
      "metadata": {
        "id": "89dfba52"
      },
      "outputs": [],
      "source": [
        "#Multiple arguments-"
      ]
    },
    {
      "cell_type": "code",
      "execution_count": 24,
      "id": "da0021ec",
      "metadata": {
        "id": "da0021ec"
      },
      "outputs": [],
      "source": [
        "multi_num=lambda x,y:x*y"
      ]
    },
    {
      "cell_type": "code",
      "execution_count": 25,
      "id": "a56d5ed1",
      "metadata": {
        "colab": {
          "base_uri": "https://localhost:8080/"
        },
        "id": "a56d5ed1",
        "outputId": "ad7d8ebd-f4df-4d8d-a53f-9c4397334da7"
      },
      "outputs": [
        {
          "output_type": "execute_result",
          "data": {
            "text/plain": [
              "8"
            ]
          },
          "metadata": {},
          "execution_count": 25
        }
      ],
      "source": [
        "multi_num(4,2)"
      ]
    },
    {
      "cell_type": "code",
      "execution_count": 26,
      "id": "dd6ae9aa",
      "metadata": {
        "id": "dd6ae9aa"
      },
      "outputs": [],
      "source": [
        "#lets study about *args and *kwargs.\n",
        "#first we study about args , so what  is args ? args take multiple input in the place of function arguments.\n",
        "#Syntax def(*args)"
      ]
    },
    {
      "cell_type": "code",
      "execution_count": 27,
      "id": "b45428f8",
      "metadata": {
        "id": "b45428f8"
      },
      "outputs": [],
      "source": [
        "def my_func(*args):\n",
        "    for i in args:\n",
        "        print(\"my Args \",i)"
      ]
    },
    {
      "cell_type": "code",
      "execution_count": 28,
      "id": "681e9f96",
      "metadata": {
        "colab": {
          "base_uri": "https://localhost:8080/"
        },
        "id": "681e9f96",
        "outputId": "3523004b-ae69-4f58-fc7c-d9a49334ed5c"
      },
      "outputs": [
        {
          "output_type": "stream",
          "name": "stdout",
          "text": [
            "my Args  Ramesh\n",
            "my Args  Suresh\n",
            "my Args  Korba\n",
            "my Args  78\n"
          ]
        }
      ],
      "source": [
        "my_func(\"Ramesh\",\"Suresh\",\"Korba\",78)  #its mean we put the arguments after the function created,this reason we use *args method"
      ]
    },
    {
      "cell_type": "code",
      "execution_count": 29,
      "id": "3e3ec729",
      "metadata": {
        "id": "3e3ec729"
      },
      "outputs": [],
      "source": [
        "#   **kwargs.\n",
        "#what is kwargs ? kwargs means Key word arguments, it meaning is result giving same as dictionary."
      ]
    },
    {
      "cell_type": "code",
      "execution_count": 30,
      "id": "e8314337",
      "metadata": {
        "id": "e8314337"
      },
      "outputs": [],
      "source": [
        "def my_func(**kwargs):\n",
        "    for key,value in kwargs.items():\n",
        "        print(key,value)\n",
        ""
      ]
    },
    {
      "cell_type": "code",
      "execution_count": 31,
      "id": "a00d06d3",
      "metadata": {
        "colab": {
          "base_uri": "https://localhost:8080/"
        },
        "id": "a00d06d3",
        "outputId": "d89b05b7-306e-4f09-ca8f-7411c7810543"
      },
      "outputs": [
        {
          "output_type": "stream",
          "name": "stdout",
          "text": [
            "student ['Ram', 'Shiva']\n",
            "marks [84, 59]\n"
          ]
        }
      ],
      "source": [
        "my_func(student=[\"Ram\",\"Shiva\"],marks=[84,59])"
      ]
    },
    {
      "cell_type": "code",
      "execution_count": 32,
      "id": "38c97ff2",
      "metadata": {
        "id": "38c97ff2"
      },
      "outputs": [],
      "source": [
        "#String Indexing.\n",
        "#what is string indexing ? string indexing is method of slice the the string where from we want.\n",
        "#its almost like list indexing but here we use [] square brackets for slicing and indexing.\n",
        "#Create a string."
      ]
    },
    {
      "cell_type": "code",
      "execution_count": 33,
      "id": "de3b1134",
      "metadata": {
        "id": "de3b1134"
      },
      "outputs": [],
      "source": [
        "a=\"I Support Nupur Sharma\""
      ]
    },
    {
      "cell_type": "code",
      "execution_count": 34,
      "id": "71b137f4",
      "metadata": {
        "colab": {
          "base_uri": "https://localhost:8080/",
          "height": 35
        },
        "id": "71b137f4",
        "outputId": "371b9998-cd9a-4fe5-e6fd-06b21426eb26"
      },
      "outputs": [
        {
          "output_type": "execute_result",
          "data": {
            "text/plain": [
              "'I Support Nupur Sharma'"
            ],
            "application/vnd.google.colaboratory.intrinsic+json": {
              "type": "string"
            }
          },
          "metadata": {},
          "execution_count": 34
        }
      ],
      "source": [
        "a"
      ]
    },
    {
      "cell_type": "code",
      "execution_count": 35,
      "id": "f3877af2",
      "metadata": {
        "colab": {
          "base_uri": "https://localhost:8080/",
          "height": 35
        },
        "id": "f3877af2",
        "outputId": "1d9f5bd6-be9f-4b91-d9bd-6265c6435d73"
      },
      "outputs": [
        {
          "output_type": "execute_result",
          "data": {
            "text/plain": [
              "'I'"
            ],
            "application/vnd.google.colaboratory.intrinsic+json": {
              "type": "string"
            }
          },
          "metadata": {},
          "execution_count": 35
        }
      ],
      "source": [
        "a[0]"
      ]
    },
    {
      "cell_type": "code",
      "execution_count": 36,
      "id": "85fdf10c",
      "metadata": {
        "colab": {
          "base_uri": "https://localhost:8080/",
          "height": 35
        },
        "id": "85fdf10c",
        "outputId": "674593b5-0ee7-4916-a8e5-11bf2a387f58"
      },
      "outputs": [
        {
          "output_type": "execute_result",
          "data": {
            "text/plain": [
              "'S'"
            ],
            "application/vnd.google.colaboratory.intrinsic+json": {
              "type": "string"
            }
          },
          "metadata": {},
          "execution_count": 36
        }
      ],
      "source": [
        "a[2]"
      ]
    },
    {
      "cell_type": "code",
      "execution_count": 37,
      "id": "dad910e2",
      "metadata": {
        "colab": {
          "base_uri": "https://localhost:8080/",
          "height": 35
        },
        "id": "dad910e2",
        "outputId": "f75c37ed-00f7-43bd-ef70-71460225e0a2"
      },
      "outputs": [
        {
          "output_type": "execute_result",
          "data": {
            "text/plain": [
              "' Suppor'"
            ],
            "application/vnd.google.colaboratory.intrinsic+json": {
              "type": "string"
            }
          },
          "metadata": {},
          "execution_count": 37
        }
      ],
      "source": [
        "a[1:8]   # [1:8] its meaning is 1 is starting index which are included and 8 are stop index which are excluded."
      ]
    },
    {
      "cell_type": "code",
      "execution_count": 38,
      "id": "c6c3533d",
      "metadata": {
        "id": "c6c3533d"
      },
      "outputs": [],
      "source": [
        "#Grab last letter from a string"
      ]
    },
    {
      "cell_type": "code",
      "execution_count": 39,
      "id": "cd812b4c",
      "metadata": {
        "colab": {
          "base_uri": "https://localhost:8080/",
          "height": 35
        },
        "id": "cd812b4c",
        "outputId": "14852a77-ccdc-49ad-9a15-5e38e48cb4ad"
      },
      "outputs": [
        {
          "output_type": "execute_result",
          "data": {
            "text/plain": [
              "'I Support Nupur Sharma'"
            ],
            "application/vnd.google.colaboratory.intrinsic+json": {
              "type": "string"
            }
          },
          "metadata": {},
          "execution_count": 39
        }
      ],
      "source": [
        "a"
      ]
    },
    {
      "cell_type": "code",
      "execution_count": 40,
      "id": "b72e033f",
      "metadata": {
        "colab": {
          "base_uri": "https://localhost:8080/",
          "height": 35
        },
        "id": "b72e033f",
        "outputId": "70937a53-8cd5-4500-e143-602235ab7a03"
      },
      "outputs": [
        {
          "output_type": "execute_result",
          "data": {
            "text/plain": [
              "'a'"
            ],
            "application/vnd.google.colaboratory.intrinsic+json": {
              "type": "string"
            }
          },
          "metadata": {},
          "execution_count": 40
        }
      ],
      "source": [
        "a[-1]"
      ]
    },
    {
      "cell_type": "code",
      "execution_count": 41,
      "id": "183ec95a",
      "metadata": {
        "id": "183ec95a"
      },
      "outputs": [],
      "source": [
        "#Grab everything, but go in stepsize of 1."
      ]
    },
    {
      "cell_type": "code",
      "execution_count": 42,
      "id": "0140f783",
      "metadata": {
        "colab": {
          "base_uri": "https://localhost:8080/",
          "height": 35
        },
        "id": "0140f783",
        "outputId": "51b4805f-878f-41bf-e304-403c7af2a187"
      },
      "outputs": [
        {
          "output_type": "execute_result",
          "data": {
            "text/plain": [
              "'Iuo p aa'"
            ],
            "application/vnd.google.colaboratory.intrinsic+json": {
              "type": "string"
            }
          },
          "metadata": {},
          "execution_count": 42
        }
      ],
      "source": [
        "a[::3]"
      ]
    },
    {
      "cell_type": "code",
      "execution_count": 43,
      "id": "a2314abf",
      "metadata": {
        "id": "a2314abf"
      },
      "outputs": [],
      "source": [
        "#So what is map fucntion ? Map is a function , map () is a built-in function in Python that\n",
        "# allows you to process and transform  all the items in an iterable without using a loop."
      ]
    },
    {
      "cell_type": "code",
      "execution_count": 44,
      "id": "9a164f18",
      "metadata": {
        "id": "9a164f18"
      },
      "outputs": [],
      "source": [
        "def grace_marks(marks):\n",
        "    if marks==33:\n",
        "        return marks+2\n",
        "    elif marks==34:\n",
        "        return marks+1\n",
        "    else:\n",
        "        return(marks)"
      ]
    },
    {
      "cell_type": "code",
      "execution_count": 45,
      "id": "14755295",
      "metadata": {
        "id": "14755295"
      },
      "outputs": [],
      "source": [
        "score=[47,58,69,14,25,33,34,33,33,34,33]"
      ]
    },
    {
      "cell_type": "code",
      "execution_count": 46,
      "id": "eea0ebc5",
      "metadata": {
        "id": "eea0ebc5"
      },
      "outputs": [],
      "source": [
        "total=list(map(grace_marks,score))"
      ]
    },
    {
      "cell_type": "code",
      "execution_count": 47,
      "id": "c55e4b79",
      "metadata": {
        "colab": {
          "base_uri": "https://localhost:8080/"
        },
        "id": "c55e4b79",
        "outputId": "c35406b9-89bc-4471-8def-1d6d1d7f70b5"
      },
      "outputs": [
        {
          "output_type": "execute_result",
          "data": {
            "text/plain": [
              "[47, 58, 69, 14, 25, 35, 35, 35, 35, 35, 35]"
            ]
          },
          "metadata": {},
          "execution_count": 47
        }
      ],
      "source": [
        "total"
      ]
    },
    {
      "cell_type": "code",
      "execution_count": 48,
      "id": "d224625f",
      "metadata": {
        "colab": {
          "base_uri": "https://localhost:8080/"
        },
        "id": "d224625f",
        "outputId": "98362bd2-22d2-469d-96fc-46ed24d86e3a"
      },
      "outputs": [
        {
          "output_type": "execute_result",
          "data": {
            "text/plain": [
              "6"
            ]
          },
          "metadata": {},
          "execution_count": 48
        }
      ],
      "source": [
        "total.count(35)"
      ]
    },
    {
      "cell_type": "code",
      "execution_count": 49,
      "id": "2745d4e7",
      "metadata": {
        "id": "2745d4e7"
      },
      "outputs": [],
      "source": [
        "#What is Filter Function ?The filter () function returns an iterator were the items are filtered\n",
        "#through a function to test if the item is accepted or not."
      ]
    },
    {
      "cell_type": "code",
      "execution_count": 50,
      "id": "0183aa9f",
      "metadata": {
        "id": "0183aa9f"
      },
      "outputs": [],
      "source": [
        "def filter_marks(marks):\n",
        "    if marks<35:\n",
        "        return (marks)"
      ]
    },
    {
      "cell_type": "code",
      "execution_count": 51,
      "id": "96a861ae",
      "metadata": {
        "id": "96a861ae"
      },
      "outputs": [],
      "source": [
        "score=[47,58,69,14,25,33,34,33,33,34,33]"
      ]
    },
    {
      "cell_type": "code",
      "execution_count": 52,
      "id": "bb6396e6",
      "metadata": {
        "id": "bb6396e6"
      },
      "outputs": [],
      "source": [
        "failed=list(filter(filter_marks,score))"
      ]
    },
    {
      "cell_type": "code",
      "execution_count": 53,
      "id": "2ea2ee99",
      "metadata": {
        "colab": {
          "base_uri": "https://localhost:8080/"
        },
        "id": "2ea2ee99",
        "outputId": "2ab87a31-d51e-4d64-b94a-e3bc8b8ed3c7"
      },
      "outputs": [
        {
          "output_type": "execute_result",
          "data": {
            "text/plain": [
              "[14, 25, 33, 34, 33, 33, 34, 33]"
            ]
          },
          "metadata": {},
          "execution_count": 53
        }
      ],
      "source": [
        "failed"
      ]
    },
    {
      "cell_type": "code",
      "execution_count": 54,
      "id": "47d07941",
      "metadata": {
        "id": "47d07941"
      },
      "outputs": [],
      "source": [
        "# What is the difference between Map and Filter Fucntion.\n",
        "# Map Fucntion - map accepts all element in a given list and function can be applied to it.\n",
        "\n",
        "#Filter Function-Filter accept all data in a list and runs that through a fucntion to create a new list\n",
        "# with all elements that returs True in that Function."
      ]
    },
    {
      "cell_type": "code",
      "execution_count": 55,
      "id": "aa978182",
      "metadata": {
        "colab": {
          "base_uri": "https://localhost:8080/"
        },
        "id": "aa978182",
        "outputId": "0c69ac0e-a38c-413b-cd39-68040b6f36c6"
      },
      "outputs": [
        {
          "output_type": "execute_result",
          "data": {
            "text/plain": [
              "[False, True, False]"
            ]
          },
          "metadata": {},
          "execution_count": 55
        }
      ],
      "source": [
        "list(map(lambda var:var%2==0,[1,2,3]))"
      ]
    },
    {
      "cell_type": "code",
      "execution_count": 56,
      "id": "ca4c3b69",
      "metadata": {
        "colab": {
          "base_uri": "https://localhost:8080/"
        },
        "id": "ca4c3b69",
        "outputId": "2385aba6-5974-4d79-873d-3f4a7f5464b9"
      },
      "outputs": [
        {
          "output_type": "execute_result",
          "data": {
            "text/plain": [
              "[2]"
            ]
          },
          "metadata": {},
          "execution_count": 56
        }
      ],
      "source": [
        "list(filter(lambda var:var%2==0,[1,2,3]))"
      ]
    }
  ],
  "metadata": {
    "kernelspec": {
      "display_name": "Python 3 (ipykernel)",
      "language": "python",
      "name": "python3"
    },
    "language_info": {
      "codemirror_mode": {
        "name": "ipython",
        "version": 3
      },
      "file_extension": ".py",
      "mimetype": "text/x-python",
      "name": "python",
      "nbconvert_exporter": "python",
      "pygments_lexer": "ipython3",
      "version": "3.10.12"
    },
    "colab": {
      "provenance": []
    }
  },
  "nbformat": 4,
  "nbformat_minor": 5
}