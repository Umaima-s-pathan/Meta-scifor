{
  "cells": [
    {
      "cell_type": "markdown",
      "id": "6a2d36db-e5ae-4aa2-8943-2d7c9e8a720a",
      "metadata": {
        "id": "6a2d36db-e5ae-4aa2-8943-2d7c9e8a720a"
      },
      "source": [
        "# Python\n",
        "\n",
        "Python is a high-level, interpreted programming language known for its readability, simplicity, and versatility. It was created by Guido van Rossum and first released in 1991. Python emphasizes code readability and allows programmers to express concepts in fewer lines of code compared to languages such as C++ or Java.\n",
        "\n",
        "\n",
        "\n",
        "#### High-Level Language:\n",
        "\n",
        "Python is easy to read and write because it handles many complex details for you. You can focus on solving problems rather than managing the computer's inner workings.\n",
        "\n",
        "####  Interpreted Language:\n",
        "\n",
        "Python code is run by an interpreter line-by-line, which makes it easy to test and debug. This can make it slower than some other languages that are compiled all at once.\n",
        "\n",
        "####  Dynamically Typed:\n",
        "\n",
        "You don’t need to specify the type of data (like number or text) when you create a variable. Python figures it out automatically when the program runs.\n",
        "\n",
        "#### Versatile and General-Purpose:\n",
        "\n",
        "Python is useful for many different tasks, such as building websites, analyzing data, automating tasks, and developing games.\n",
        "\n",
        "####  Readable and Maintainable Code:\n",
        "\n",
        "Python’s syntax is clear and straightforward, making it easy to read and understand. This helps programmers write clean and organized code that others can easily maintain.\n",
        "####  Extensive Standard Library:\n",
        "\n",
        "Python includes many built-in tools and modules that help you perform common tasks without needing to write a lot of code from scratch.\n",
        "\n",
        "#### Supports Multiple Programming Styles:\n",
        "\n",
        "You can write Python code in different styles, such as procedural (step-by-step), object-oriented (using classes and objects), or functional (using functions as first-class citizens).\n",
        "\n",
        "\n",
        "#### Strong Community and Ecosystem:\n",
        "\n",
        "Python has a large community of users and developers who contribute to a wide range of libraries and tools. This means plenty of resources, support, and pre-built solutions are available.\n",
        "\n",
        "\n",
        "####  Platform Independent:\n",
        "\n",
        "Python works on many operating systems like Windows, macOS, and Linux. You can run the same Python code on any of these systems without making changes.\n",
        "\n",
        "####  Popular for Data Science and AI:\n",
        "\n",
        "Python is widely used in data science and artificial intelligence because it has powerful libraries for data analysis and machine learning. This makes it a top choice for researchers and data analysts.\n"
      ]
    },
    {
      "cell_type": "code",
      "execution_count": 1,
      "id": "6ee1365e-ff28-42c4-b790-337285cdf82a",
      "metadata": {
        "id": "6ee1365e-ff28-42c4-b790-337285cdf82a"
      },
      "outputs": [],
      "source": [
        "###Basics Python ###\n",
        "# Simple Expression"
      ]
    },
    {
      "cell_type": "code",
      "execution_count": 2,
      "id": "8a8bcd3b",
      "metadata": {
        "id": "8a8bcd3b"
      },
      "outputs": [],
      "source": [
        "import keyword # importing keywords. What is Keyword- Keyword is are special or reserved word the are recognised by python with some meaning\n"
      ]
    },
    {
      "cell_type": "code",
      "execution_count": 3,
      "id": "ed1b975e",
      "metadata": {
        "colab": {
          "base_uri": "https://localhost:8080/"
        },
        "id": "ed1b975e",
        "outputId": "1bed4d44-345b-4b0f-a4a6-c45cc5c2d420"
      },
      "outputs": [
        {
          "output_type": "stream",
          "name": "stdout",
          "text": [
            "['False', 'None', 'True', 'and', 'as', 'assert', 'async', 'await', 'break', 'class', 'continue', 'def', 'del', 'elif', 'else', 'except', 'finally', 'for', 'from', 'global', 'if', 'import', 'in', 'is', 'lambda', 'nonlocal', 'not', 'or', 'pass', 'raise', 'return', 'try', 'while', 'with', 'yield']\n"
          ]
        }
      ],
      "source": [
        "print(keyword.kwlist)"
      ]
    },
    {
      "cell_type": "code",
      "execution_count": 4,
      "id": "74c232ff",
      "metadata": {
        "id": "74c232ff"
      },
      "outputs": [],
      "source": [
        "#  Boolean expression\n",
        "#what is boolean expression-Boolean express created with keywords like- and,or,not,True,False\n"
      ]
    },
    {
      "cell_type": "code",
      "execution_count": 5,
      "id": "62518e81",
      "metadata": {
        "colab": {
          "base_uri": "https://localhost:8080/"
        },
        "id": "62518e81",
        "outputId": "25f5d9de-7baf-4bbd-b2cc-9925cde2d203"
      },
      "outputs": [
        {
          "output_type": "execute_result",
          "data": {
            "text/plain": [
              "False"
            ]
          },
          "metadata": {},
          "execution_count": 5
        }
      ],
      "source": [
        "True and False"
      ]
    },
    {
      "cell_type": "code",
      "execution_count": 6,
      "id": "a00f72cc",
      "metadata": {
        "colab": {
          "base_uri": "https://localhost:8080/"
        },
        "id": "a00f72cc",
        "outputId": "253f00a5-b60d-45b1-e27b-83dcead127a6"
      },
      "outputs": [
        {
          "output_type": "execute_result",
          "data": {
            "text/plain": [
              "True"
            ]
          },
          "metadata": {},
          "execution_count": 6
        }
      ],
      "source": [
        "True and True"
      ]
    },
    {
      "cell_type": "code",
      "execution_count": 7,
      "id": "81b1d17e",
      "metadata": {
        "colab": {
          "base_uri": "https://localhost:8080/"
        },
        "id": "81b1d17e",
        "outputId": "67dcc9bf-f70a-4a37-8100-e746a1d2330f"
      },
      "outputs": [
        {
          "output_type": "execute_result",
          "data": {
            "text/plain": [
              "True"
            ]
          },
          "metadata": {},
          "execution_count": 7
        }
      ],
      "source": [
        "True or False"
      ]
    },
    {
      "cell_type": "code",
      "execution_count": 8,
      "id": "66fd4a87",
      "metadata": {
        "id": "66fd4a87"
      },
      "outputs": [],
      "source": [
        "#lets see the diffrence between and/or"
      ]
    },
    {
      "cell_type": "code",
      "execution_count": 9,
      "id": "abc7c538",
      "metadata": {
        "colab": {
          "base_uri": "https://localhost:8080/"
        },
        "id": "abc7c538",
        "outputId": "372adec3-e386-4818-ff4b-d5376c933853"
      },
      "outputs": [
        {
          "output_type": "execute_result",
          "data": {
            "text/plain": [
              "False"
            ]
          },
          "metadata": {},
          "execution_count": 9
        }
      ],
      "source": [
        "not True"
      ]
    },
    {
      "cell_type": "code",
      "execution_count": 10,
      "id": "7560e2c6",
      "metadata": {
        "colab": {
          "base_uri": "https://localhost:8080/"
        },
        "id": "7560e2c6",
        "outputId": "1036d496-7649-41e7-d901-4246827a0db1"
      },
      "outputs": [
        {
          "output_type": "execute_result",
          "data": {
            "text/plain": [
              "True"
            ]
          },
          "metadata": {},
          "execution_count": 10
        }
      ],
      "source": [
        "not False"
      ]
    },
    {
      "cell_type": "code",
      "execution_count": 11,
      "id": "c42e4a6e",
      "metadata": {
        "colab": {
          "base_uri": "https://localhost:8080/"
        },
        "id": "c42e4a6e",
        "outputId": "ee7f9813-595b-447f-be9b-a19ef4c75f6e"
      },
      "outputs": [
        {
          "output_type": "execute_result",
          "data": {
            "text/plain": [
              "True"
            ]
          },
          "metadata": {},
          "execution_count": 11
        }
      ],
      "source": [
        "True is True"
      ]
    },
    {
      "cell_type": "code",
      "execution_count": 12,
      "id": "22b888a5",
      "metadata": {
        "colab": {
          "base_uri": "https://localhost:8080/"
        },
        "id": "22b888a5",
        "outputId": "1c0f461d-ccc3-4d12-ac23-3a92e9fac6b6"
      },
      "outputs": [
        {
          "output_type": "execute_result",
          "data": {
            "text/plain": [
              "False"
            ]
          },
          "metadata": {},
          "execution_count": 12
        }
      ],
      "source": [
        "True is False"
      ]
    },
    {
      "cell_type": "code",
      "execution_count": 13,
      "id": "cde83b88",
      "metadata": {
        "colab": {
          "base_uri": "https://localhost:8080/"
        },
        "id": "cde83b88",
        "outputId": "8f193aa8-b8af-475b-874d-ac19cd7f314a"
      },
      "outputs": [
        {
          "output_type": "stream",
          "name": "stderr",
          "text": [
            "<>:1: SyntaxWarning: \"is\" with a literal. Did you mean \"==\"?\n",
            "<>:1: SyntaxWarning: \"is\" with a literal. Did you mean \"==\"?\n",
            "<ipython-input-13-3f3b4e0cb6ec>:1: SyntaxWarning: \"is\" with a literal. Did you mean \"==\"?\n",
            "  'a' is 'b'\n"
          ]
        },
        {
          "output_type": "execute_result",
          "data": {
            "text/plain": [
              "False"
            ]
          },
          "metadata": {},
          "execution_count": 13
        }
      ],
      "source": [
        "'a' is 'b'"
      ]
    },
    {
      "cell_type": "code",
      "execution_count": 14,
      "id": "2461adde",
      "metadata": {
        "colab": {
          "base_uri": "https://localhost:8080/"
        },
        "id": "2461adde",
        "outputId": "c1b2c74d-f117-423e-ceda-a73c9c244e1f"
      },
      "outputs": [
        {
          "output_type": "execute_result",
          "data": {
            "text/plain": [
              "2"
            ]
          },
          "metadata": {},
          "execution_count": 14
        }
      ],
      "source": [
        "True + True #True=1  ,False=0"
      ]
    },
    {
      "cell_type": "code",
      "execution_count": 15,
      "id": "dcc81b7b",
      "metadata": {
        "colab": {
          "base_uri": "https://localhost:8080/"
        },
        "id": "dcc81b7b",
        "outputId": "87f133c1-7aea-4690-96d1-e094b534772a"
      },
      "outputs": [
        {
          "output_type": "execute_result",
          "data": {
            "text/plain": [
              "1"
            ]
          },
          "metadata": {},
          "execution_count": 15
        }
      ],
      "source": [
        "True + False"
      ]
    },
    {
      "cell_type": "code",
      "execution_count": 16,
      "id": "f24a9410",
      "metadata": {
        "colab": {
          "base_uri": "https://localhost:8080/"
        },
        "id": "f24a9410",
        "outputId": "08a871fa-97b0-4ccf-828e-bd18d0d83607"
      },
      "outputs": [
        {
          "output_type": "execute_result",
          "data": {
            "text/plain": [
              "0"
            ]
          },
          "metadata": {},
          "execution_count": 16
        }
      ],
      "source": [
        "False + False"
      ]
    },
    {
      "cell_type": "code",
      "execution_count": 17,
      "id": "8bf1d325",
      "metadata": {
        "colab": {
          "base_uri": "https://localhost:8080/"
        },
        "id": "8bf1d325",
        "outputId": "7c202be1-ac3b-457a-9a12-f9121ebc26a8"
      },
      "outputs": [
        {
          "output_type": "execute_result",
          "data": {
            "text/plain": [
              "0"
            ]
          },
          "metadata": {},
          "execution_count": 17
        }
      ],
      "source": [
        "False - False"
      ]
    },
    {
      "cell_type": "code",
      "execution_count": 18,
      "id": "7c168da5",
      "metadata": {
        "colab": {
          "base_uri": "https://localhost:8080/"
        },
        "id": "7c168da5",
        "outputId": "19a8b4fc-2cad-404a-b624-4f006ce7669f"
      },
      "outputs": [
        {
          "output_type": "execute_result",
          "data": {
            "text/plain": [
              "-1"
            ]
          },
          "metadata": {},
          "execution_count": 18
        }
      ],
      "source": [
        "False-True"
      ]
    },
    {
      "cell_type": "code",
      "execution_count": 19,
      "id": "6c08e884",
      "metadata": {
        "colab": {
          "base_uri": "https://localhost:8080/"
        },
        "id": "6c08e884",
        "outputId": "adb3e9b5-43db-486e-8cce-765156e18a9e"
      },
      "outputs": [
        {
          "output_type": "execute_result",
          "data": {
            "text/plain": [
              "True"
            ]
          },
          "metadata": {},
          "execution_count": 19
        }
      ],
      "source": [
        "10<=10  # (is)  and  (==) is same"
      ]
    },
    {
      "cell_type": "code",
      "execution_count": 20,
      "id": "01ba3785",
      "metadata": {
        "colab": {
          "base_uri": "https://localhost:8080/"
        },
        "id": "01ba3785",
        "outputId": "5a383bea-75c4-402a-d6ae-b6ee78c900cb"
      },
      "outputs": [
        {
          "output_type": "execute_result",
          "data": {
            "text/plain": [
              "True"
            ]
          },
          "metadata": {},
          "execution_count": 20
        }
      ],
      "source": [
        "10==10  # == Means eqaul to"
      ]
    },
    {
      "cell_type": "code",
      "execution_count": 21,
      "id": "00e64b00",
      "metadata": {
        "colab": {
          "base_uri": "https://localhost:8080/"
        },
        "id": "00e64b00",
        "outputId": "56fb8da7-2961-42f4-b393-0c51ae03bb7e"
      },
      "outputs": [
        {
          "output_type": "execute_result",
          "data": {
            "text/plain": [
              "True"
            ]
          },
          "metadata": {},
          "execution_count": 21
        }
      ],
      "source": [
        "True and False or True"
      ]
    },
    {
      "cell_type": "code",
      "execution_count": 22,
      "id": "d5db0333",
      "metadata": {
        "id": "d5db0333"
      },
      "outputs": [],
      "source": [
        "#Data Types\n",
        "# 1- Numbers/Integer\n",
        "# 2-String\n",
        "# 3-List\n",
        "# 4-Tuple\n",
        "# 5-Set\n",
        "# 6-Dictionary"
      ]
    },
    {
      "cell_type": "code",
      "execution_count": 23,
      "id": "66c07d11",
      "metadata": {
        "id": "66c07d11"
      },
      "outputs": [],
      "source": [
        "x=20 # x is variable in which 20 as data is stored"
      ]
    },
    {
      "cell_type": "code",
      "execution_count": 24,
      "id": "de9380c0",
      "metadata": {
        "colab": {
          "base_uri": "https://localhost:8080/"
        },
        "id": "de9380c0",
        "outputId": "605e677f-5d66-455b-e485-1184741fc9e6"
      },
      "outputs": [
        {
          "output_type": "execute_result",
          "data": {
            "text/plain": [
              "int"
            ]
          },
          "metadata": {},
          "execution_count": 24
        }
      ],
      "source": [
        "type(x) # checking the datatype"
      ]
    },
    {
      "cell_type": "code",
      "execution_count": 25,
      "id": "0cf8dc4b",
      "metadata": {
        "id": "0cf8dc4b"
      },
      "outputs": [],
      "source": [
        "x=20.2"
      ]
    },
    {
      "cell_type": "code",
      "execution_count": 26,
      "id": "c7f9eab2",
      "metadata": {
        "colab": {
          "base_uri": "https://localhost:8080/"
        },
        "id": "c7f9eab2",
        "outputId": "02011048-d433-4d97-9716-e809797fdf82"
      },
      "outputs": [
        {
          "output_type": "execute_result",
          "data": {
            "text/plain": [
              "20.2"
            ]
          },
          "metadata": {},
          "execution_count": 26
        }
      ],
      "source": [
        "x"
      ]
    },
    {
      "cell_type": "code",
      "execution_count": 27,
      "id": "dccb86ea",
      "metadata": {
        "colab": {
          "base_uri": "https://localhost:8080/"
        },
        "id": "dccb86ea",
        "outputId": "7db63b13-8f46-44d3-ca0b-c4627705000d"
      },
      "outputs": [
        {
          "output_type": "execute_result",
          "data": {
            "text/plain": [
              "float"
            ]
          },
          "metadata": {},
          "execution_count": 27
        }
      ],
      "source": [
        "type(x)"
      ]
    },
    {
      "cell_type": "code",
      "execution_count": 28,
      "id": "5968fee9",
      "metadata": {
        "id": "5968fee9"
      },
      "outputs": [],
      "source": [
        "x=2+2  #lets do small mathematical operation."
      ]
    },
    {
      "cell_type": "code",
      "execution_count": 29,
      "id": "c1de383a",
      "metadata": {
        "colab": {
          "base_uri": "https://localhost:8080/"
        },
        "id": "c1de383a",
        "outputId": "68bade78-6bd5-4aef-a1b6-d0fcf9357631"
      },
      "outputs": [
        {
          "output_type": "execute_result",
          "data": {
            "text/plain": [
              "4"
            ]
          },
          "metadata": {},
          "execution_count": 29
        }
      ],
      "source": [
        "x"
      ]
    },
    {
      "cell_type": "code",
      "execution_count": 30,
      "id": "99aba707",
      "metadata": {
        "id": "99aba707"
      },
      "outputs": [],
      "source": [
        "a=44\n",
        "b=22"
      ]
    },
    {
      "cell_type": "code",
      "execution_count": 31,
      "id": "502ba468",
      "metadata": {
        "id": "502ba468"
      },
      "outputs": [],
      "source": [
        "c=a+b"
      ]
    },
    {
      "cell_type": "code",
      "execution_count": 32,
      "id": "8b5c970a",
      "metadata": {
        "colab": {
          "base_uri": "https://localhost:8080/"
        },
        "id": "8b5c970a",
        "outputId": "d48a3d0f-8c28-4d4c-e75c-f1d3fbfaa0c4"
      },
      "outputs": [
        {
          "output_type": "execute_result",
          "data": {
            "text/plain": [
              "66"
            ]
          },
          "metadata": {},
          "execution_count": 32
        }
      ],
      "source": [
        "c"
      ]
    },
    {
      "cell_type": "code",
      "execution_count": 33,
      "id": "2311bfaf",
      "metadata": {
        "colab": {
          "base_uri": "https://localhost:8080/"
        },
        "id": "2311bfaf",
        "outputId": "1d562caa-b6b5-44e7-b557-83f8216ff78b"
      },
      "outputs": [
        {
          "output_type": "stream",
          "name": "stdout",
          "text": [
            "132\n"
          ]
        }
      ],
      "source": [
        "print(c*2)"
      ]
    }
  ],
  "metadata": {
    "kernelspec": {
      "display_name": "Python 3 (ipykernel)",
      "language": "python",
      "name": "python3"
    },
    "language_info": {
      "codemirror_mode": {
        "name": "ipython",
        "version": 3
      },
      "file_extension": ".py",
      "mimetype": "text/x-python",
      "name": "python",
      "nbconvert_exporter": "python",
      "pygments_lexer": "ipython3",
      "version": "3.10.12"
    },
    "colab": {
      "provenance": []
    }
  },
  "nbformat": 4,
  "nbformat_minor": 5
}