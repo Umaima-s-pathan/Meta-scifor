{
  "cells": [
    {
      "cell_type": "code",
      "execution_count": 46,
      "id": "bcc1e323",
      "metadata": {
        "id": "bcc1e323"
      },
      "outputs": [],
      "source": [
        "\n",
        "### Basics Python continued ###"
      ]
    },
    {
      "cell_type": "code",
      "execution_count": 47,
      "id": "720a88e3",
      "metadata": {
        "id": "720a88e3"
      },
      "outputs": [],
      "source": [
        "#lets start with complex number\n",
        "#Complex Number ? A complex number which can we studied in ou school. its abot real number and imaginary number ,\n",
        "#which can be denote as i,\n",
        "#example of complex number - 2+5i, But in pyhton i is denoted with j"
      ]
    },
    {
      "cell_type": "code",
      "execution_count": 48,
      "id": "75aae4a2",
      "metadata": {
        "id": "75aae4a2"
      },
      "outputs": [],
      "source": [
        "a= 3+5j # declaring the variable a and storing the data 3+5i in it"
      ]
    },
    {
      "cell_type": "code",
      "execution_count": 49,
      "id": "aedad326",
      "metadata": {
        "id": "aedad326",
        "outputId": "406a251f-cd88-4cad-bf77-bd9215cf7807",
        "colab": {
          "base_uri": "https://localhost:8080/"
        }
      },
      "outputs": [
        {
          "output_type": "execute_result",
          "data": {
            "text/plain": [
              "complex"
            ]
          },
          "metadata": {},
          "execution_count": 49
        }
      ],
      "source": [
        "type(a) # checking the data type"
      ]
    },
    {
      "cell_type": "code",
      "execution_count": 50,
      "id": "88df7559",
      "metadata": {
        "id": "88df7559"
      },
      "outputs": [],
      "source": [
        "#String. What is string - String when we use alphabet in single,double and tripple quotes\n"
      ]
    },
    {
      "cell_type": "code",
      "execution_count": 51,
      "id": "9a62686c",
      "metadata": {
        "id": "9a62686c"
      },
      "outputs": [],
      "source": [
        "a='hi , I am umaima'"
      ]
    },
    {
      "cell_type": "code",
      "execution_count": 52,
      "id": "fcf965cb",
      "metadata": {
        "id": "fcf965cb",
        "outputId": "42192461-b8e7-436c-923d-ae16234bb40d",
        "colab": {
          "base_uri": "https://localhost:8080/",
          "height": 35
        }
      },
      "outputs": [
        {
          "output_type": "execute_result",
          "data": {
            "text/plain": [
              "'hi , I am umaima'"
            ],
            "application/vnd.google.colaboratory.intrinsic+json": {
              "type": "string"
            }
          },
          "metadata": {},
          "execution_count": 52
        }
      ],
      "source": [
        "a"
      ]
    },
    {
      "cell_type": "code",
      "execution_count": 53,
      "id": "2b5fcf2a",
      "metadata": {
        "id": "2b5fcf2a",
        "outputId": "54c42dd8-9f94-45bf-d6f2-5cd0496ba766",
        "colab": {
          "base_uri": "https://localhost:8080/"
        }
      },
      "outputs": [
        {
          "output_type": "execute_result",
          "data": {
            "text/plain": [
              "str"
            ]
          },
          "metadata": {},
          "execution_count": 53
        }
      ],
      "source": [
        "type(a) # datatype"
      ]
    },
    {
      "cell_type": "code",
      "execution_count": 54,
      "id": "186ec409",
      "metadata": {
        "id": "186ec409"
      },
      "outputs": [],
      "source": [
        "str1='moon '\n",
        "str2=' is shining'\n",
        "str3=' bright'"
      ]
    },
    {
      "cell_type": "code",
      "execution_count": 55,
      "id": "3853bfe6",
      "metadata": {
        "id": "3853bfe6",
        "outputId": "71b6b64e-5ab4-45b0-b1cb-6c60d04fef42",
        "colab": {
          "base_uri": "https://localhost:8080/"
        }
      },
      "outputs": [
        {
          "output_type": "stream",
          "name": "stdout",
          "text": [
            "moon  is shining bright\n"
          ]
        }
      ],
      "source": [
        "print(str1+str2+str3)  # adding str1,str2 and str2"
      ]
    },
    {
      "cell_type": "code",
      "execution_count": 56,
      "id": "dff35c98",
      "metadata": {
        "id": "dff35c98",
        "outputId": "ab5aad29-fe25-4682-e4e6-4b84a1c60629",
        "colab": {
          "base_uri": "https://localhost:8080/"
        }
      },
      "outputs": [
        {
          "output_type": "stream",
          "name": "stdout",
          "text": [
            "saurav is ex  mining engineer\n"
          ]
        }
      ],
      "source": [
        "print(\"saurav\"+\" is ex\",\" mining engineer\")  #we can add directly without ececuting codes"
      ]
    },
    {
      "cell_type": "code",
      "execution_count": 57,
      "id": "6183c0de",
      "metadata": {
        "id": "6183c0de",
        "outputId": "9d000c08-8279-4570-9d07-8b3aa952c7ea",
        "colab": {
          "base_uri": "https://localhost:8080/"
        }
      },
      "outputs": [
        {
          "output_type": "stream",
          "name": "stdout",
          "text": [
            "  Day  Day  Day  Day  Day\n"
          ]
        }
      ],
      "source": [
        "#other operation on string\n",
        "\n",
        "print('  Day' *  5)  #  * use for multiplication"
      ]
    },
    {
      "cell_type": "code",
      "execution_count": 58,
      "id": "84622d26",
      "metadata": {
        "id": "84622d26",
        "outputId": "4f30ac3b-b5b0-457c-b0de-349ff6cad1d1",
        "colab": {
          "base_uri": "https://localhost:8080/"
        }
      },
      "outputs": [
        {
          "output_type": "stream",
          "name": "stdout",
          "text": [
            " = = = = = = = = = = = = = = = = = = = = = = = = = = = = = = = = = = = = = = = = = = = = = = = = = = = = = = = = = = = = = = = = = = = = = = = = = = = = = = = = = = = = = = = = = = = = = = = = = = = =\n"
          ]
        }
      ],
      "source": [
        "print(' =' * 100)"
      ]
    },
    {
      "cell_type": "code",
      "execution_count": 59,
      "id": "33b1afbe",
      "metadata": {
        "id": "33b1afbe"
      },
      "outputs": [],
      "source": [
        "#lets add string + integer"
      ]
    },
    {
      "cell_type": "code",
      "execution_count": 60,
      "id": "f1058940",
      "metadata": {
        "id": "f1058940",
        "outputId": "e9bbc28a-27b1-4486-ba65-a2f2cb037ae0",
        "colab": {
          "base_uri": "https://localhost:8080/",
          "height": 141
        }
      },
      "outputs": [
        {
          "output_type": "error",
          "ename": "TypeError",
          "evalue": "can only concatenate str (not \"int\") to str",
          "traceback": [
            "\u001b[0;31m---------------------------------------------------------------------------\u001b[0m",
            "\u001b[0;31mTypeError\u001b[0m                                 Traceback (most recent call last)",
            "\u001b[0;32m<ipython-input-60-97167d3b3196>\u001b[0m in \u001b[0;36m<cell line: 1>\u001b[0;34m()\u001b[0m\n\u001b[0;32m----> 1\u001b[0;31m \u001b[0mprint\u001b[0m\u001b[0;34m(\u001b[0m\u001b[0;34m'Day'\u001b[0m \u001b[0;34m+\u001b[0m \u001b[0;36m5\u001b[0m\u001b[0;34m)\u001b[0m  \u001b[0;31m# here u can see string and integer cannot be added together since it has different datatype\u001b[0m\u001b[0;34m\u001b[0m\u001b[0;34m\u001b[0m\u001b[0m\n\u001b[0m",
            "\u001b[0;31mTypeError\u001b[0m: can only concatenate str (not \"int\") to str"
          ]
        }
      ],
      "source": [
        "print('Day' + 5)  # here u can see string and integer cannot be added together since it has different datatype"
      ]
    },
    {
      "cell_type": "code",
      "execution_count": 86,
      "id": "6ce2aab1",
      "metadata": {
        "id": "6ce2aab1",
        "outputId": "7873b79e-1a4d-4765-b41d-2a4e988daf0d",
        "colab": {
          "base_uri": "https://localhost:8080/"
        }
      },
      "outputs": [
        {
          "output_type": "stream",
          "name": "stdout",
          "text": [
            "Day5\n"
          ]
        }
      ],
      "source": [
        "print('Day' + str(5))  # for that we have to cinvert int into str datatype"
      ]
    },
    {
      "cell_type": "code",
      "execution_count": 87,
      "id": "1380ef6e",
      "metadata": {
        "id": "1380ef6e"
      },
      "outputs": [],
      "source": [
        "#what is data structure ? Data structure which can hold,store and save out data\n",
        "#there are different different typre data structure\n",
        "#1- List\n",
        "#2- Tuple\n",
        "#3- Set\n",
        "#4- Dictionary\n"
      ]
    },
    {
      "cell_type": "code",
      "execution_count": 88,
      "id": "3190dc1f",
      "metadata": {
        "id": "3190dc1f"
      },
      "outputs": [],
      "source": [
        "#Lets Start with list\n",
        "#So, What is list?, List is like a container which can hold our data ., and list is always in square brackets [].\n",
        "#Accommodate all types of data.\n",
        "#list are mutable.\n",
        "#what is mutable ? mutalbe means where we can edit(update,insert,add,count)our data.\n",
        "\n",
        "\n",
        "#Create empty  list"
      ]
    },
    {
      "cell_type": "code",
      "execution_count": 89,
      "id": "3e834648",
      "metadata": {
        "id": "3e834648"
      },
      "outputs": [],
      "source": [
        "lst=[]"
      ]
    },
    {
      "cell_type": "code",
      "execution_count": 90,
      "id": "61a727ef",
      "metadata": {
        "id": "61a727ef",
        "outputId": "50c6e35d-9920-4908-c08e-06454ff269db",
        "colab": {
          "base_uri": "https://localhost:8080/"
        }
      },
      "outputs": [
        {
          "output_type": "execute_result",
          "data": {
            "text/plain": [
              "[]"
            ]
          },
          "metadata": {},
          "execution_count": 90
        }
      ],
      "source": [
        "lst"
      ]
    },
    {
      "cell_type": "code",
      "execution_count": 91,
      "id": "c9fd8cbc",
      "metadata": {
        "id": "c9fd8cbc",
        "outputId": "85b3676a-294c-403f-87ce-02171c32d78f",
        "colab": {
          "base_uri": "https://localhost:8080/"
        }
      },
      "outputs": [
        {
          "output_type": "execute_result",
          "data": {
            "text/plain": [
              "list"
            ]
          },
          "metadata": {},
          "execution_count": 91
        }
      ],
      "source": [
        "type(lst)"
      ]
    },
    {
      "cell_type": "code",
      "execution_count": 92,
      "id": "66af9183",
      "metadata": {
        "id": "66af9183"
      },
      "outputs": [],
      "source": [
        "lst=['a','b','c','d'] #creating proper list"
      ]
    },
    {
      "cell_type": "code",
      "execution_count": 93,
      "id": "f4e20203",
      "metadata": {
        "id": "f4e20203",
        "outputId": "3d00da67-0018-46bf-e651-ecf1ad1a9a0f",
        "colab": {
          "base_uri": "https://localhost:8080/"
        }
      },
      "outputs": [
        {
          "output_type": "execute_result",
          "data": {
            "text/plain": [
              "['a', 'b', 'c', 'd']"
            ]
          },
          "metadata": {},
          "execution_count": 93
        }
      ],
      "source": [
        "lst"
      ]
    },
    {
      "cell_type": "code",
      "execution_count": 94,
      "id": "7d3ce149",
      "metadata": {
        "id": "7d3ce149"
      },
      "outputs": [],
      "source": [
        "l2=list(lst) # copying the given list into another list"
      ]
    },
    {
      "cell_type": "code",
      "execution_count": 95,
      "id": "c8bb3a1e",
      "metadata": {
        "id": "c8bb3a1e",
        "outputId": "a40c3c7f-f67c-4767-ccdc-034628158122",
        "colab": {
          "base_uri": "https://localhost:8080/"
        }
      },
      "outputs": [
        {
          "output_type": "execute_result",
          "data": {
            "text/plain": [
              "['a', 'b', 'c', 'd']"
            ]
          },
          "metadata": {},
          "execution_count": 95
        }
      ],
      "source": [
        "l2"
      ]
    },
    {
      "cell_type": "code",
      "execution_count": 96,
      "id": "36e61f55",
      "metadata": {
        "id": "36e61f55"
      },
      "outputs": [],
      "source": [
        "marks=[30,40,50,60]"
      ]
    },
    {
      "cell_type": "code",
      "execution_count": 97,
      "id": "82e44359",
      "metadata": {
        "id": "82e44359"
      },
      "outputs": [],
      "source": [
        "copy_marks=marks.copy()  #Differnt way to copy a list is Copy() Method\n"
      ]
    },
    {
      "cell_type": "code",
      "execution_count": 98,
      "id": "3456d27a",
      "metadata": {
        "id": "3456d27a",
        "outputId": "a547a184-5122-4d8f-985a-0ec06a0a1274",
        "colab": {
          "base_uri": "https://localhost:8080/"
        }
      },
      "outputs": [
        {
          "output_type": "execute_result",
          "data": {
            "text/plain": [
              "[30, 40, 50, 60]"
            ]
          },
          "metadata": {},
          "execution_count": 98
        }
      ],
      "source": [
        "copy_marks"
      ]
    },
    {
      "cell_type": "code",
      "execution_count": 99,
      "id": "881941dc",
      "metadata": {
        "id": "881941dc",
        "outputId": "d1d671dd-a6d1-45b1-d0ed-a1630c4f98ed",
        "colab": {
          "base_uri": "https://localhost:8080/"
        }
      },
      "outputs": [
        {
          "output_type": "execute_result",
          "data": {
            "text/plain": [
              "['u', 'm', 'a', 'i', 'm', 'a']"
            ]
          },
          "metadata": {},
          "execution_count": 99
        }
      ],
      "source": [
        "#Another way to make list\n",
        "\n",
        "list('umaima') #this method can separate all the elemnts."
      ]
    },
    {
      "cell_type": "code",
      "execution_count": 100,
      "id": "e370470f",
      "metadata": {
        "id": "e370470f",
        "outputId": "fad7e34d-65fd-4f35-a119-c6b7c503c35f",
        "colab": {
          "base_uri": "https://localhost:8080/",
          "height": 176
        }
      },
      "outputs": [
        {
          "output_type": "error",
          "ename": "TypeError",
          "evalue": "'int' object is not iterable",
          "traceback": [
            "\u001b[0;31m---------------------------------------------------------------------------\u001b[0m",
            "\u001b[0;31mTypeError\u001b[0m                                 Traceback (most recent call last)",
            "\u001b[0;32m<ipython-input-100-c2bc36cc2e61>\u001b[0m in \u001b[0;36m<cell line: 3>\u001b[0;34m()\u001b[0m\n\u001b[1;32m      1\u001b[0m \u001b[0;31m# trying with integer\u001b[0m\u001b[0;34m\u001b[0m\u001b[0;34m\u001b[0m\u001b[0m\n\u001b[1;32m      2\u001b[0m \u001b[0;34m\u001b[0m\u001b[0m\n\u001b[0;32m----> 3\u001b[0;31m \u001b[0mlist\u001b[0m\u001b[0;34m(\u001b[0m\u001b[0;36m8885\u001b[0m\u001b[0;34m)\u001b[0m \u001b[0;31m#not possible cause integer object is not iterable\u001b[0m\u001b[0;34m\u001b[0m\u001b[0;34m\u001b[0m\u001b[0m\n\u001b[0m",
            "\u001b[0;31mTypeError\u001b[0m: 'int' object is not iterable"
          ]
        }
      ],
      "source": [
        "# trying with integer\n",
        "\n",
        "list(8885) #not possible cause integer object is not iterable\n"
      ]
    },
    {
      "cell_type": "code",
      "execution_count": 101,
      "id": "b72a3022",
      "metadata": {
        "id": "b72a3022"
      },
      "outputs": [],
      "source": [
        "l1=[] # creating empty list"
      ]
    },
    {
      "cell_type": "code",
      "execution_count": 102,
      "id": "a2038b32",
      "metadata": {
        "id": "a2038b32"
      },
      "outputs": [],
      "source": [
        "l1.append('umaima')  # lets try append method to add element in list"
      ]
    },
    {
      "cell_type": "code",
      "execution_count": 103,
      "id": "866cb838",
      "metadata": {
        "id": "866cb838",
        "outputId": "2b78d786-722a-4ecd-a5d9-eec622be83fb",
        "colab": {
          "base_uri": "https://localhost:8080/"
        }
      },
      "outputs": [
        {
          "output_type": "execute_result",
          "data": {
            "text/plain": [
              "['umaima']"
            ]
          },
          "metadata": {},
          "execution_count": 103
        }
      ],
      "source": [
        "l1"
      ]
    },
    {
      "cell_type": "code",
      "execution_count": 104,
      "id": "4a84e467",
      "metadata": {
        "id": "4a84e467"
      },
      "outputs": [],
      "source": [
        "\n",
        "l1.append('vicky')  #add one more thing"
      ]
    },
    {
      "cell_type": "code",
      "execution_count": 105,
      "id": "4a55e25e",
      "metadata": {
        "id": "4a55e25e",
        "outputId": "5bca52f5-cd93-453d-cff0-4c5ff6098a33",
        "colab": {
          "base_uri": "https://localhost:8080/"
        }
      },
      "outputs": [
        {
          "output_type": "execute_result",
          "data": {
            "text/plain": [
              "['umaima', 'vicky']"
            ]
          },
          "metadata": {},
          "execution_count": 105
        }
      ],
      "source": [
        "l1"
      ]
    },
    {
      "cell_type": "code",
      "execution_count": 106,
      "id": "1abf4ddc",
      "metadata": {
        "id": "1abf4ddc"
      },
      "outputs": [],
      "source": [
        "#add two item\n",
        "l1.append('yashu')\n",
        "l1.append('shivangi')"
      ]
    },
    {
      "cell_type": "code",
      "execution_count": 107,
      "id": "dc799445",
      "metadata": {
        "id": "dc799445",
        "outputId": "7eea0e0f-51fa-4712-b653-8dc1e39d47b1",
        "colab": {
          "base_uri": "https://localhost:8080/"
        }
      },
      "outputs": [
        {
          "output_type": "execute_result",
          "data": {
            "text/plain": [
              "['umaima', 'vicky', 'yashu', 'shivangi']"
            ]
          },
          "metadata": {},
          "execution_count": 107
        }
      ],
      "source": [
        "l1"
      ]
    },
    {
      "cell_type": "code",
      "execution_count": 108,
      "id": "0c9e4252",
      "metadata": {
        "id": "0c9e4252"
      },
      "outputs": [],
      "source": [
        "#index and insert-Two arguments can be paced in insert method\n",
        "#insert(index,insert) meaning of index is where we have to add objects and  meaning of insert is what object we have to store.\n",
        "#see with  example\n",
        "#lets make new list"
      ]
    },
    {
      "cell_type": "code",
      "execution_count": 109,
      "id": "b57c1179",
      "metadata": {
        "id": "b57c1179"
      },
      "outputs": [],
      "source": [
        "l1=['saurav','vicky','minakshi','Donald Trump','Imran khan']"
      ]
    },
    {
      "cell_type": "code",
      "execution_count": 110,
      "id": "26996428",
      "metadata": {
        "id": "26996428",
        "outputId": "497246a9-add3-43e9-c42e-a26b4e5c1b59",
        "colab": {
          "base_uri": "https://localhost:8080/"
        }
      },
      "outputs": [
        {
          "output_type": "execute_result",
          "data": {
            "text/plain": [
              "['saurav', 'vicky', 'minakshi', 'Donald Trump', 'Imran khan']"
            ]
          },
          "metadata": {},
          "execution_count": 110
        }
      ],
      "source": [
        "l1"
      ]
    },
    {
      "cell_type": "code",
      "execution_count": 111,
      "id": "daf75bc6",
      "metadata": {
        "id": "daf75bc6"
      },
      "outputs": [],
      "source": [
        "#now we inserting a data in the place of imran khan\n",
        "#lets see how we can add"
      ]
    },
    {
      "cell_type": "code",
      "execution_count": 112,
      "id": "3af5c569",
      "metadata": {
        "id": "3af5c569"
      },
      "outputs": [],
      "source": [
        "l1.insert(4,'putin') # 4 is the indx value where we to insert the data and putin is the data we have to insert"
      ]
    },
    {
      "cell_type": "code",
      "execution_count": 113,
      "id": "e8573d73",
      "metadata": {
        "id": "e8573d73",
        "outputId": "39d85ddf-214f-4bcd-da60-31e16053eea0",
        "colab": {
          "base_uri": "https://localhost:8080/"
        }
      },
      "outputs": [
        {
          "output_type": "execute_result",
          "data": {
            "text/plain": [
              "['saurav', 'vicky', 'minakshi', 'Donald Trump', 'putin', 'Imran khan']"
            ]
          },
          "metadata": {},
          "execution_count": 113
        }
      ],
      "source": [
        "l1"
      ]
    },
    {
      "cell_type": "code",
      "execution_count": 114,
      "id": "cbbdf815",
      "metadata": {
        "id": "cbbdf815"
      },
      "outputs": [],
      "source": [
        "#one more example with numbers"
      ]
    },
    {
      "cell_type": "code",
      "execution_count": 115,
      "id": "ba50ac6f",
      "metadata": {
        "id": "ba50ac6f"
      },
      "outputs": [],
      "source": [
        "l1=[11,22,33,44,55,66]"
      ]
    },
    {
      "cell_type": "code",
      "execution_count": 116,
      "id": "2933d087",
      "metadata": {
        "id": "2933d087"
      },
      "outputs": [],
      "source": [
        "l1.insert(2,88)  # here 2 is the indx value where we to insert the data and 88 is the data we have to insert"
      ]
    },
    {
      "cell_type": "code",
      "execution_count": 117,
      "id": "4a1fc83f",
      "metadata": {
        "id": "4a1fc83f",
        "outputId": "03774a55-176c-4360-e1bb-60ddeafa8714",
        "colab": {
          "base_uri": "https://localhost:8080/"
        }
      },
      "outputs": [
        {
          "output_type": "execute_result",
          "data": {
            "text/plain": [
              "[11, 22, 88, 33, 44, 55, 66]"
            ]
          },
          "metadata": {},
          "execution_count": 117
        }
      ],
      "source": [
        "l1"
      ]
    },
    {
      "cell_type": "code",
      "execution_count": 118,
      "id": "c981cd5e",
      "metadata": {
        "id": "c981cd5e"
      },
      "outputs": [],
      "source": [
        "#list Extended Method\n",
        "#How to check total element in the list."
      ]
    },
    {
      "cell_type": "code",
      "execution_count": 119,
      "id": "8cae174d",
      "metadata": {
        "id": "8cae174d"
      },
      "outputs": [],
      "source": [
        "l1=[44,55,66,99,77,88]"
      ]
    },
    {
      "cell_type": "code",
      "execution_count": 120,
      "id": "c18c92a6",
      "metadata": {
        "id": "c18c92a6",
        "outputId": "281692f6-ee00-4a01-961b-4b78cbea54e6",
        "colab": {
          "base_uri": "https://localhost:8080/"
        }
      },
      "outputs": [
        {
          "output_type": "execute_result",
          "data": {
            "text/plain": [
              "6"
            ]
          },
          "metadata": {},
          "execution_count": 120
        }
      ],
      "source": [
        "len(l1)  # checking the length of the list"
      ]
    },
    {
      "cell_type": "code",
      "execution_count": 121,
      "id": "cebdfa99",
      "metadata": {
        "id": "cebdfa99"
      },
      "outputs": [],
      "source": [
        "#Indexing and Slicing. are always in square brackets[]"
      ]
    },
    {
      "cell_type": "code",
      "execution_count": 122,
      "id": "67bbd8a9",
      "metadata": {
        "id": "67bbd8a9"
      },
      "outputs": [],
      "source": [
        "l1=['saurav','gaurav','lovely','advit']"
      ]
    },
    {
      "cell_type": "code",
      "execution_count": 123,
      "id": "6a547a97",
      "metadata": {
        "id": "6a547a97",
        "outputId": "90316962-470d-4ab6-f31f-8411a5a7fe59",
        "colab": {
          "base_uri": "https://localhost:8080/",
          "height": 35
        }
      },
      "outputs": [
        {
          "output_type": "execute_result",
          "data": {
            "text/plain": [
              "'saurav'"
            ],
            "application/vnd.google.colaboratory.intrinsic+json": {
              "type": "string"
            }
          },
          "metadata": {},
          "execution_count": 123
        }
      ],
      "source": [
        "l1[0] # it display the data present in the given index"
      ]
    },
    {
      "cell_type": "code",
      "execution_count": 124,
      "id": "123ac6bb",
      "metadata": {
        "id": "123ac6bb",
        "outputId": "471516c8-7913-47f7-b089-37b9bcab14cb",
        "colab": {
          "base_uri": "https://localhost:8080/",
          "height": 35
        }
      },
      "outputs": [
        {
          "output_type": "execute_result",
          "data": {
            "text/plain": [
              "'gaurav'"
            ],
            "application/vnd.google.colaboratory.intrinsic+json": {
              "type": "string"
            }
          },
          "metadata": {},
          "execution_count": 124
        }
      ],
      "source": [
        "l1[1]"
      ]
    },
    {
      "cell_type": "code",
      "execution_count": 125,
      "id": "1db15d47",
      "metadata": {
        "id": "1db15d47",
        "outputId": "19dd2ebb-2055-4837-80f4-628770967ebd",
        "colab": {
          "base_uri": "https://localhost:8080/",
          "height": 35
        }
      },
      "outputs": [
        {
          "output_type": "execute_result",
          "data": {
            "text/plain": [
              "'lovely'"
            ],
            "application/vnd.google.colaboratory.intrinsic+json": {
              "type": "string"
            }
          },
          "metadata": {},
          "execution_count": 125
        }
      ],
      "source": [
        "l1[2]"
      ]
    },
    {
      "cell_type": "code",
      "execution_count": 126,
      "id": "29fdaeec",
      "metadata": {
        "id": "29fdaeec",
        "outputId": "c439fde3-9d94-45e1-e6f8-6a7353c29341",
        "colab": {
          "base_uri": "https://localhost:8080/",
          "height": 35
        }
      },
      "outputs": [
        {
          "output_type": "execute_result",
          "data": {
            "text/plain": [
              "'advit'"
            ],
            "application/vnd.google.colaboratory.intrinsic+json": {
              "type": "string"
            }
          },
          "metadata": {},
          "execution_count": 126
        }
      ],
      "source": [
        "l1[3]"
      ]
    },
    {
      "cell_type": "code",
      "execution_count": 127,
      "id": "ddf49864",
      "metadata": {
        "id": "ddf49864"
      },
      "outputs": [],
      "source": [
        "#How to replace object in list\n",
        "#we have to replace advit by babu"
      ]
    },
    {
      "cell_type": "code",
      "execution_count": 128,
      "id": "cc3bb803",
      "metadata": {
        "id": "cc3bb803"
      },
      "outputs": [],
      "source": [
        "l1[3]='Babu'"
      ]
    },
    {
      "cell_type": "code",
      "execution_count": 129,
      "id": "d275d48a",
      "metadata": {
        "id": "d275d48a",
        "outputId": "e1b41530-f214-46a8-b738-60ecce6ebfc9",
        "colab": {
          "base_uri": "https://localhost:8080/"
        }
      },
      "outputs": [
        {
          "output_type": "execute_result",
          "data": {
            "text/plain": [
              "['saurav', 'gaurav', 'lovely', 'Babu']"
            ]
          },
          "metadata": {},
          "execution_count": 129
        }
      ],
      "source": [
        "l1"
      ]
    },
    {
      "cell_type": "code",
      "execution_count": 130,
      "id": "543478ff",
      "metadata": {
        "id": "543478ff"
      },
      "outputs": [],
      "source": [
        "#Replace with Integer\n",
        "#lets create a list with numbers"
      ]
    },
    {
      "cell_type": "code",
      "execution_count": 131,
      "id": "08064661",
      "metadata": {
        "id": "08064661"
      },
      "outputs": [],
      "source": [
        "l1=[11,22,33,66,44,88,99,44]"
      ]
    },
    {
      "cell_type": "code",
      "execution_count": 132,
      "id": "5a4f2dc7",
      "metadata": {
        "id": "5a4f2dc7"
      },
      "outputs": [],
      "source": [
        "l1[3]=1607  #in l1 66 replace with 1607"
      ]
    },
    {
      "cell_type": "code",
      "execution_count": 133,
      "id": "8467a325",
      "metadata": {
        "id": "8467a325",
        "outputId": "7968ff0a-8364-4b6a-8fdc-739d41985140",
        "colab": {
          "base_uri": "https://localhost:8080/"
        }
      },
      "outputs": [
        {
          "output_type": "execute_result",
          "data": {
            "text/plain": [
              "[11, 22, 33, 1607, 44, 88, 99, 44]"
            ]
          },
          "metadata": {},
          "execution_count": 133
        }
      ],
      "source": [
        "l1"
      ]
    },
    {
      "cell_type": "code",
      "execution_count": 134,
      "id": "e7147adf",
      "metadata": {
        "id": "e7147adf"
      },
      "outputs": [],
      "source": [
        "#ran index 1 from l1 and exerything from past\n",
        "#lets see"
      ]
    },
    {
      "cell_type": "code",
      "execution_count": 135,
      "id": "12b31b91",
      "metadata": {
        "id": "12b31b91",
        "outputId": "1f1812d9-a912-4d34-b005-732990cf5b10",
        "colab": {
          "base_uri": "https://localhost:8080/"
        }
      },
      "outputs": [
        {
          "output_type": "execute_result",
          "data": {
            "text/plain": [
              "[11, 22, 33, 1607, 44, 88, 99, 44]"
            ]
          },
          "metadata": {},
          "execution_count": 135
        }
      ],
      "source": [
        "l1"
      ]
    },
    {
      "cell_type": "code",
      "execution_count": 136,
      "id": "f7bf04e4",
      "metadata": {
        "id": "f7bf04e4",
        "outputId": "3a646160-2d70-4990-b839-1e2149c98b31",
        "colab": {
          "base_uri": "https://localhost:8080/"
        }
      },
      "outputs": [
        {
          "output_type": "execute_result",
          "data": {
            "text/plain": [
              "[22, 33, 1607, 44, 88, 99, 44]"
            ]
          },
          "metadata": {},
          "execution_count": 136
        }
      ],
      "source": [
        "l1[1:]  # it will display the the list items from index 1 to the end"
      ]
    },
    {
      "cell_type": "code",
      "execution_count": 137,
      "id": "4c448043",
      "metadata": {
        "id": "4c448043",
        "outputId": "3bbd9e9b-23d5-431d-c875-fc11adf95741",
        "colab": {
          "base_uri": "https://localhost:8080/"
        }
      },
      "outputs": [
        {
          "output_type": "execute_result",
          "data": {
            "text/plain": [
              "[33, 1607, 44, 88, 99, 44]"
            ]
          },
          "metadata": {},
          "execution_count": 137
        }
      ],
      "source": [
        "l1[2:] # it will display the the list items from index 2 to the end"
      ]
    },
    {
      "cell_type": "code",
      "execution_count": 138,
      "id": "d111d20d",
      "metadata": {
        "id": "d111d20d",
        "outputId": "1b954024-c472-4b42-e4e5-8f704434d614",
        "colab": {
          "base_uri": "https://localhost:8080/"
        }
      },
      "outputs": [
        {
          "output_type": "execute_result",
          "data": {
            "text/plain": [
              "[11, 22, 33, 1607, 44, 88, 99, 44]"
            ]
          },
          "metadata": {},
          "execution_count": 138
        }
      ],
      "source": [
        "l1"
      ]
    },
    {
      "cell_type": "code",
      "execution_count": 139,
      "id": "bdfc39d2",
      "metadata": {
        "id": "bdfc39d2",
        "outputId": "d311d54d-9b89-40b4-8aca-d3e2fb4e8635",
        "colab": {
          "base_uri": "https://localhost:8080/"
        }
      },
      "outputs": [
        {
          "output_type": "execute_result",
          "data": {
            "text/plain": [
              "[22, 33, 1607, 44, 88, 99]"
            ]
          },
          "metadata": {},
          "execution_count": 139
        }
      ],
      "source": [
        "l1[1:7] # it will display the the list items from index 1 to index 6"
      ]
    },
    {
      "cell_type": "code",
      "execution_count": 140,
      "id": "46bf00b8",
      "metadata": {
        "id": "46bf00b8",
        "outputId": "6ac0de47-0832-4e81-f1f2-c47078f58864",
        "colab": {
          "base_uri": "https://localhost:8080/"
        }
      },
      "outputs": [
        {
          "output_type": "execute_result",
          "data": {
            "text/plain": [
              "[11, 22, 33]"
            ]
          },
          "metadata": {},
          "execution_count": 140
        }
      ],
      "source": [
        "l1[:3]  # display from the start to index 2"
      ]
    },
    {
      "cell_type": "code",
      "execution_count": 141,
      "id": "c9b79da0",
      "metadata": {
        "id": "c9b79da0",
        "outputId": "1cad2096-2c70-408a-84c2-0cd5add29805",
        "colab": {
          "base_uri": "https://localhost:8080/"
        }
      },
      "outputs": [
        {
          "output_type": "execute_result",
          "data": {
            "text/plain": [
              "[11, 22, 33, 1607, 44, 88, 99, 44]"
            ]
          },
          "metadata": {},
          "execution_count": 141
        }
      ],
      "source": [
        "l1"
      ]
    },
    {
      "cell_type": "code",
      "execution_count": 142,
      "id": "23e8d403",
      "metadata": {
        "id": "23e8d403",
        "outputId": "bc8e927a-b723-40c1-ac30-4ff00c8dedbc",
        "colab": {
          "base_uri": "https://localhost:8080/"
        }
      },
      "outputs": [
        {
          "output_type": "execute_result",
          "data": {
            "text/plain": [
              "[11, 22, 33, 1607, 44, 88, 99, 44, 6622]"
            ]
          },
          "metadata": {},
          "execution_count": 142
        }
      ],
      "source": [
        "l1+[6622]  #we also use \"+\" sign to concatinate list, just like we did for string"
      ]
    },
    {
      "cell_type": "code",
      "execution_count": 143,
      "id": "3ac823a9",
      "metadata": {
        "id": "3ac823a9"
      },
      "outputs": [],
      "source": [
        "#this concatinate method does not change permanently.\n",
        "#in case if you want to concatinate permanently you use different method\n"
      ]
    },
    {
      "cell_type": "code",
      "execution_count": 144,
      "id": "843a3b51",
      "metadata": {
        "id": "843a3b51"
      },
      "outputs": [],
      "source": [
        "l1=l1+[5566]"
      ]
    },
    {
      "cell_type": "code",
      "execution_count": 145,
      "id": "7987ffa8",
      "metadata": {
        "id": "7987ffa8",
        "outputId": "a172d1b4-5a35-4ac5-e3a1-fe0949fd9c12",
        "colab": {
          "base_uri": "https://localhost:8080/"
        }
      },
      "outputs": [
        {
          "output_type": "execute_result",
          "data": {
            "text/plain": [
              "[11, 22, 33, 1607, 44, 88, 99, 44, 5566]"
            ]
          },
          "metadata": {},
          "execution_count": 145
        }
      ],
      "source": [
        "l1"
      ]
    },
    {
      "cell_type": "code",
      "execution_count": 146,
      "id": "3980d80a",
      "metadata": {
        "id": "3980d80a"
      },
      "outputs": [],
      "source": [
        "#if you want to duplicate\n",
        "#you have to use duplicate method\n"
      ]
    },
    {
      "cell_type": "code",
      "execution_count": 147,
      "id": "17d28085",
      "metadata": {
        "id": "17d28085",
        "outputId": "72b2040b-77c9-4a08-df84-586170c5a3f9",
        "colab": {
          "base_uri": "https://localhost:8080/"
        }
      },
      "outputs": [
        {
          "output_type": "execute_result",
          "data": {
            "text/plain": [
              "[11, 22, 33, 1607, 44, 88, 99, 44, 5566]"
            ]
          },
          "metadata": {},
          "execution_count": 147
        }
      ],
      "source": [
        "l1"
      ]
    },
    {
      "cell_type": "code",
      "execution_count": 148,
      "id": "05327f39",
      "metadata": {
        "id": "05327f39",
        "outputId": "b4f8c32c-d682-4677-9cc3-f513a46d1b73",
        "colab": {
          "base_uri": "https://localhost:8080/"
        }
      },
      "outputs": [
        {
          "output_type": "execute_result",
          "data": {
            "text/plain": [
              "[11,\n",
              " 22,\n",
              " 33,\n",
              " 1607,\n",
              " 44,\n",
              " 88,\n",
              " 99,\n",
              " 44,\n",
              " 5566,\n",
              " 11,\n",
              " 22,\n",
              " 33,\n",
              " 1607,\n",
              " 44,\n",
              " 88,\n",
              " 99,\n",
              " 44,\n",
              " 5566,\n",
              " 11,\n",
              " 22,\n",
              " 33,\n",
              " 1607,\n",
              " 44,\n",
              " 88,\n",
              " 99,\n",
              " 44,\n",
              " 5566,\n",
              " 11,\n",
              " 22,\n",
              " 33,\n",
              " 1607,\n",
              " 44,\n",
              " 88,\n",
              " 99,\n",
              " 44,\n",
              " 5566]"
            ]
          },
          "metadata": {},
          "execution_count": 148
        }
      ],
      "source": [
        "l1 * 4 #like that"
      ]
    },
    {
      "cell_type": "code",
      "execution_count": 149,
      "id": "b11efd22",
      "metadata": {
        "id": "b11efd22"
      },
      "outputs": [],
      "source": [
        "# if you want to decorate your code\n",
        "#then you will do someting to decorate\n",
        "#making a list and decorating it"
      ]
    },
    {
      "cell_type": "code",
      "execution_count": 150,
      "id": "a8f7a4fe",
      "metadata": {
        "id": "a8f7a4fe",
        "outputId": "86ff404f-2646-4afb-963b-cbae1793a1dd",
        "colab": {
          "base_uri": "https://localhost:8080/"
        }
      },
      "outputs": [
        {
          "output_type": "stream",
          "name": "stdout",
          "text": [
            "====================================================================================================\n",
            "[11, 22, 33, 1607, 44, 88, 99, 44, 5566]\n",
            "====================================================================================================\n"
          ]
        }
      ],
      "source": [
        "print('=' * 100)\n",
        "\n",
        "print(l1)\n",
        "\n",
        "print('=' * 100)"
      ]
    },
    {
      "cell_type": "code",
      "execution_count": 151,
      "id": "13977bd6",
      "metadata": {
        "id": "13977bd6"
      },
      "outputs": [],
      "source": [
        "#if you double you anything by using * method they dont double for permanent"
      ]
    },
    {
      "cell_type": "code",
      "execution_count": 152,
      "id": "58e85572",
      "metadata": {
        "id": "58e85572"
      },
      "outputs": [],
      "source": [
        "#Advanced List\n",
        "#count method\n",
        "#what is count method ? count methos is which method the csn show how many time availability of duplicate things.\n",
        "#so lets see how we can you count method.\n",
        "#create list with the name of marks"
      ]
    },
    {
      "cell_type": "code",
      "execution_count": 153,
      "id": "3f6d8009",
      "metadata": {
        "id": "3f6d8009"
      },
      "outputs": [],
      "source": [
        "marks=[51,56,89,78,89,45,56,12,12,32,45,32,65,45,89,78,45,56,23,12,4,5,23,23,56,]"
      ]
    },
    {
      "cell_type": "code",
      "execution_count": 154,
      "id": "368db823",
      "metadata": {
        "id": "368db823",
        "outputId": "b7b616f1-7349-4916-9065-77c197b7b9e7",
        "colab": {
          "base_uri": "https://localhost:8080/"
        }
      },
      "outputs": [
        {
          "output_type": "execute_result",
          "data": {
            "text/plain": [
              "3"
            ]
          },
          "metadata": {},
          "execution_count": 154
        }
      ],
      "source": [
        "marks.count(23) # counting the frequency of teh marks 23"
      ]
    },
    {
      "cell_type": "code",
      "execution_count": 155,
      "id": "37d2ccd5",
      "metadata": {
        "id": "37d2ccd5",
        "outputId": "38524f43-d9de-4a2d-aab2-0c0c6ccd26e4",
        "colab": {
          "base_uri": "https://localhost:8080/"
        }
      },
      "outputs": [
        {
          "output_type": "execute_result",
          "data": {
            "text/plain": [
              "3"
            ]
          },
          "metadata": {},
          "execution_count": 155
        }
      ],
      "source": [
        "marks.count(89)  # counting the frequency of teh marks 89"
      ]
    },
    {
      "cell_type": "code",
      "execution_count": 156,
      "id": "b0201739",
      "metadata": {
        "id": "b0201739"
      },
      "outputs": [],
      "source": [
        "#this will show only first element index if there are duplication."
      ]
    },
    {
      "cell_type": "code",
      "execution_count": 157,
      "id": "5aa2c22f",
      "metadata": {
        "id": "5aa2c22f"
      },
      "outputs": [],
      "source": [
        "#Extend Method.\n",
        "#manu time people confused with extend and append method. lets i can show you both method extend and append . and\n",
        "#what is the the diffrences\n",
        "#start with append method."
      ]
    },
    {
      "cell_type": "code",
      "execution_count": 158,
      "id": "851de6f9",
      "metadata": {
        "id": "851de6f9"
      },
      "outputs": [],
      "source": [
        "lst=['munmun','lovely']"
      ]
    },
    {
      "cell_type": "code",
      "execution_count": 159,
      "id": "931562d4",
      "metadata": {
        "id": "931562d4",
        "outputId": "400dd584-fede-4dde-cdf7-b48623aa5909",
        "colab": {
          "base_uri": "https://localhost:8080/"
        }
      },
      "outputs": [
        {
          "output_type": "execute_result",
          "data": {
            "text/plain": [
              "['munmun', 'lovely']"
            ]
          },
          "metadata": {},
          "execution_count": 159
        }
      ],
      "source": [
        "lst"
      ]
    },
    {
      "cell_type": "code",
      "execution_count": 160,
      "id": "85b2d679",
      "metadata": {
        "id": "85b2d679"
      },
      "outputs": [],
      "source": [
        "lst.append(['amisha','khushi'])"
      ]
    },
    {
      "cell_type": "code",
      "execution_count": 161,
      "id": "44cc371b",
      "metadata": {
        "id": "44cc371b",
        "outputId": "c59777da-ecf8-45f1-88d2-c6507cf98e4f",
        "colab": {
          "base_uri": "https://localhost:8080/"
        }
      },
      "outputs": [
        {
          "output_type": "execute_result",
          "data": {
            "text/plain": [
              "['munmun', 'lovely', ['amisha', 'khushi']]"
            ]
          },
          "metadata": {},
          "execution_count": 161
        }
      ],
      "source": [
        "lst"
      ]
    },
    {
      "cell_type": "code",
      "execution_count": 162,
      "id": "2bbf5697",
      "metadata": {
        "id": "2bbf5697"
      },
      "outputs": [],
      "source": [
        "#thats not look like right . it is list under list\n",
        "#lets check with extend method"
      ]
    },
    {
      "cell_type": "code",
      "execution_count": 163,
      "id": "829a6232",
      "metadata": {
        "id": "829a6232"
      },
      "outputs": [],
      "source": [
        "lst1=['munmun','lovely']"
      ]
    },
    {
      "cell_type": "code",
      "execution_count": 164,
      "id": "257b115e",
      "metadata": {
        "id": "257b115e",
        "outputId": "af381e48-499b-40bc-d4a4-22e4a6644d85",
        "colab": {
          "base_uri": "https://localhost:8080/"
        }
      },
      "outputs": [
        {
          "output_type": "execute_result",
          "data": {
            "text/plain": [
              "['munmun', 'lovely']"
            ]
          },
          "metadata": {},
          "execution_count": 164
        }
      ],
      "source": [
        "lst1"
      ]
    },
    {
      "cell_type": "code",
      "execution_count": 165,
      "id": "f67094e0",
      "metadata": {
        "id": "f67094e0"
      },
      "outputs": [],
      "source": [
        "lst1.extend(['amisha','khusi'])"
      ]
    },
    {
      "cell_type": "code",
      "execution_count": 166,
      "id": "180340d5",
      "metadata": {
        "id": "180340d5",
        "outputId": "0cd6e001-19d7-4ee1-dd24-3293a78bad98",
        "colab": {
          "base_uri": "https://localhost:8080/"
        }
      },
      "outputs": [
        {
          "output_type": "execute_result",
          "data": {
            "text/plain": [
              "['munmun', 'lovely', 'amisha', 'khusi']"
            ]
          },
          "metadata": {},
          "execution_count": 166
        }
      ],
      "source": [
        "lst1"
      ]
    },
    {
      "cell_type": "code",
      "execution_count": 167,
      "id": "799eeb18",
      "metadata": {
        "id": "799eeb18"
      },
      "outputs": [],
      "source": [
        "#similarly you can add integer data as well concepts is same for any type data."
      ]
    },
    {
      "cell_type": "code",
      "execution_count": 168,
      "id": "83496f0b",
      "metadata": {
        "id": "83496f0b"
      },
      "outputs": [],
      "source": [
        "#Pop method\n",
        "#what is pop method ? pop mehod help for delete last index elemnt from any list."
      ]
    },
    {
      "cell_type": "code",
      "execution_count": 169,
      "id": "0ffbf318",
      "metadata": {
        "id": "0ffbf318"
      },
      "outputs": [],
      "source": [
        "lst1=['Raj','Saurav','Garima','Riya','Gaurav','Ratnesh','Shailesh']"
      ]
    },
    {
      "cell_type": "code",
      "execution_count": 170,
      "id": "340454f9",
      "metadata": {
        "id": "340454f9",
        "outputId": "6258079a-e8b7-420b-af10-47caeafcbbef",
        "colab": {
          "base_uri": "https://localhost:8080/"
        }
      },
      "outputs": [
        {
          "output_type": "execute_result",
          "data": {
            "text/plain": [
              "['Raj', 'Saurav', 'Garima', 'Riya', 'Gaurav', 'Ratnesh', 'Shailesh']"
            ]
          },
          "metadata": {},
          "execution_count": 170
        }
      ],
      "source": [
        "lst1"
      ]
    },
    {
      "cell_type": "code",
      "execution_count": 171,
      "id": "0b873a77",
      "metadata": {
        "id": "0b873a77"
      },
      "outputs": [],
      "source": [
        "pop_shailesh=lst1.pop()  # deleting shailesh from the list using popping method"
      ]
    },
    {
      "cell_type": "code",
      "execution_count": 172,
      "id": "328c58dd",
      "metadata": {
        "id": "328c58dd",
        "outputId": "b1344176-128f-4a04-e987-6f1c63bd1e9e",
        "colab": {
          "base_uri": "https://localhost:8080/",
          "height": 35
        }
      },
      "outputs": [
        {
          "output_type": "execute_result",
          "data": {
            "text/plain": [
              "'Shailesh'"
            ],
            "application/vnd.google.colaboratory.intrinsic+json": {
              "type": "string"
            }
          },
          "metadata": {},
          "execution_count": 172
        }
      ],
      "source": [
        "pop_shailesh"
      ]
    },
    {
      "cell_type": "code",
      "execution_count": 173,
      "id": "95e167d6",
      "metadata": {
        "id": "95e167d6",
        "outputId": "7c7d2846-39cc-4f50-db38-513f5726238c",
        "colab": {
          "base_uri": "https://localhost:8080/"
        }
      },
      "outputs": [
        {
          "output_type": "execute_result",
          "data": {
            "text/plain": [
              "['Raj', 'Saurav', 'Garima', 'Riya', 'Gaurav', 'Ratnesh']"
            ]
          },
          "metadata": {},
          "execution_count": 173
        }
      ],
      "source": [
        "lst1"
      ]
    },
    {
      "cell_type": "code",
      "execution_count": 174,
      "id": "cb0bbc3b",
      "metadata": {
        "id": "cb0bbc3b",
        "outputId": "e3231a40-e524-49aa-fbc8-47aa90e6551b",
        "colab": {
          "base_uri": "https://localhost:8080/"
        }
      },
      "outputs": [
        {
          "output_type": "execute_result",
          "data": {
            "text/plain": [
              "['Raj', 'Saurav', 'Garima', 'Riya', 'Gaurav', 'Ratnesh']"
            ]
          },
          "metadata": {},
          "execution_count": 174
        }
      ],
      "source": [
        "lst1"
      ]
    },
    {
      "cell_type": "code",
      "execution_count": 175,
      "id": "ac6fc45a",
      "metadata": {
        "id": "ac6fc45a"
      },
      "outputs": [],
      "source": [
        "#we have to delete \"Garima\" From our list"
      ]
    },
    {
      "cell_type": "code",
      "execution_count": 176,
      "id": "1dc4fac3",
      "metadata": {
        "id": "1dc4fac3"
      },
      "outputs": [],
      "source": [
        "pop_garima=lst1.pop(2)  #Deleting  based on index positon"
      ]
    },
    {
      "cell_type": "code",
      "execution_count": 177,
      "id": "bda8b090",
      "metadata": {
        "id": "bda8b090",
        "outputId": "890836f6-92db-4f5c-9156-155499de188f",
        "colab": {
          "base_uri": "https://localhost:8080/",
          "height": 35
        }
      },
      "outputs": [
        {
          "output_type": "execute_result",
          "data": {
            "text/plain": [
              "'Garima'"
            ],
            "application/vnd.google.colaboratory.intrinsic+json": {
              "type": "string"
            }
          },
          "metadata": {},
          "execution_count": 177
        }
      ],
      "source": [
        "pop_garima"
      ]
    },
    {
      "cell_type": "code",
      "execution_count": 178,
      "id": "12474efb",
      "metadata": {
        "id": "12474efb",
        "outputId": "137b02e2-a894-4508-8e7a-7661476123cd",
        "colab": {
          "base_uri": "https://localhost:8080/"
        }
      },
      "outputs": [
        {
          "output_type": "execute_result",
          "data": {
            "text/plain": [
              "['Raj', 'Saurav', 'Riya', 'Gaurav', 'Ratnesh']"
            ]
          },
          "metadata": {},
          "execution_count": 178
        }
      ],
      "source": [
        "lst1"
      ]
    },
    {
      "cell_type": "code",
      "execution_count": 179,
      "id": "fae00c5e",
      "metadata": {
        "id": "fae00c5e"
      },
      "outputs": [],
      "source": [
        "#Remove method\n",
        "#what is remove method ?  remove method helps for delete element from our list."
      ]
    },
    {
      "cell_type": "code",
      "execution_count": 180,
      "id": "c1afaa5d",
      "metadata": {
        "id": "c1afaa5d"
      },
      "outputs": [],
      "source": [
        "lst1=[12,33,66,55,44,77,88,99,11,22,33,44,55,66,77,88]"
      ]
    },
    {
      "cell_type": "code",
      "execution_count": 181,
      "id": "904aaa37",
      "metadata": {
        "id": "904aaa37"
      },
      "outputs": [],
      "source": [
        "lst1.remove(55) # it removes the data mentioned in the argument"
      ]
    },
    {
      "cell_type": "code",
      "execution_count": 182,
      "id": "bfb1b51e",
      "metadata": {
        "id": "bfb1b51e",
        "outputId": "5a0ea113-8601-4d80-cdbf-4c23a7190f51",
        "colab": {
          "base_uri": "https://localhost:8080/"
        }
      },
      "outputs": [
        {
          "output_type": "execute_result",
          "data": {
            "text/plain": [
              "[12, 33, 66, 44, 77, 88, 99, 11, 22, 33, 44, 55, 66, 77, 88]"
            ]
          },
          "metadata": {},
          "execution_count": 182
        }
      ],
      "source": [
        "lst1"
      ]
    },
    {
      "cell_type": "code",
      "execution_count": 183,
      "id": "83ee314a",
      "metadata": {
        "id": "83ee314a"
      },
      "outputs": [],
      "source": [
        "#lets remember one thing remove method only work with integer.\n",
        "#and they can delete first element if there is any duplication"
      ]
    },
    {
      "cell_type": "code",
      "execution_count": 184,
      "id": "41cf7100",
      "metadata": {
        "id": "41cf7100"
      },
      "outputs": [],
      "source": [
        "#Reverse Mehtod.\n",
        "#what is reverse method ? reverse method helps in to reverse show the all element in list."
      ]
    },
    {
      "cell_type": "code",
      "execution_count": 185,
      "id": "c3b52409",
      "metadata": {
        "id": "c3b52409"
      },
      "outputs": [],
      "source": [
        "lst1=[11,22,33,44,55,66,44,55,66,77,88,99]"
      ]
    },
    {
      "cell_type": "code",
      "execution_count": 186,
      "id": "8d9943cd",
      "metadata": {
        "id": "8d9943cd"
      },
      "outputs": [],
      "source": [
        "lst1.reverse()"
      ]
    },
    {
      "cell_type": "code",
      "execution_count": 187,
      "id": "200abdbd",
      "metadata": {
        "id": "200abdbd",
        "outputId": "6899fcb6-a9a5-4f2f-ac2b-779525bcdc21",
        "colab": {
          "base_uri": "https://localhost:8080/"
        }
      },
      "outputs": [
        {
          "output_type": "execute_result",
          "data": {
            "text/plain": [
              "[99, 88, 77, 66, 55, 44, 66, 55, 44, 33, 22, 11]"
            ]
          },
          "metadata": {},
          "execution_count": 187
        }
      ],
      "source": [
        "lst1"
      ]
    },
    {
      "cell_type": "code",
      "execution_count": 188,
      "id": "f8386f1c",
      "metadata": {
        "id": "f8386f1c"
      },
      "outputs": [],
      "source": [
        "#Sort Method\n",
        "#What is sort method ? sort method helps in  to arrange the elements by ascending and descending order."
      ]
    },
    {
      "cell_type": "code",
      "execution_count": 189,
      "id": "f4f948cb",
      "metadata": {
        "id": "f4f948cb",
        "outputId": "b535031f-9346-4098-d788-4bcbce37c77f",
        "colab": {
          "base_uri": "https://localhost:8080/"
        }
      },
      "outputs": [
        {
          "output_type": "execute_result",
          "data": {
            "text/plain": [
              "[99, 88, 77, 66, 55, 44, 66, 55, 44, 33, 22, 11]"
            ]
          },
          "metadata": {},
          "execution_count": 189
        }
      ],
      "source": [
        "lst1"
      ]
    },
    {
      "cell_type": "code",
      "execution_count": 190,
      "id": "c3af82ba",
      "metadata": {
        "id": "c3af82ba"
      },
      "outputs": [],
      "source": [
        "lst1.sort()"
      ]
    },
    {
      "cell_type": "code",
      "execution_count": 191,
      "id": "172b75e0",
      "metadata": {
        "id": "172b75e0",
        "outputId": "8ea7d82d-a3ac-4cba-f015-e8007bb59cf1",
        "colab": {
          "base_uri": "https://localhost:8080/"
        }
      },
      "outputs": [
        {
          "output_type": "execute_result",
          "data": {
            "text/plain": [
              "[11, 22, 33, 44, 44, 55, 55, 66, 66, 77, 88, 99]"
            ]
          },
          "metadata": {},
          "execution_count": 191
        }
      ],
      "source": [
        "lst1"
      ]
    },
    {
      "cell_type": "code",
      "execution_count": 192,
      "id": "ebaf3cf3",
      "metadata": {
        "id": "ebaf3cf3",
        "outputId": "30876b28-7442-48c4-ebcb-375c8d136df3",
        "colab": {
          "base_uri": "https://localhost:8080/"
        }
      },
      "outputs": [
        {
          "output_type": "execute_result",
          "data": {
            "text/plain": [
              "[11, 22, 33, 44, 44, 55, 55, 66, 66, 77, 88, 99]"
            ]
          },
          "metadata": {},
          "execution_count": 192
        }
      ],
      "source": [
        "lst1"
      ]
    },
    {
      "cell_type": "code",
      "execution_count": 193,
      "id": "1ace3698",
      "metadata": {
        "id": "1ace3698"
      },
      "outputs": [],
      "source": [
        "lst1.sort(reverse=True) #sorting in descending order."
      ]
    },
    {
      "cell_type": "code",
      "execution_count": 194,
      "id": "af546722",
      "metadata": {
        "id": "af546722",
        "outputId": "a283e7d4-312e-4891-c7ef-ebec5812b89a",
        "colab": {
          "base_uri": "https://localhost:8080/"
        }
      },
      "outputs": [
        {
          "output_type": "execute_result",
          "data": {
            "text/plain": [
              "[99, 88, 77, 66, 66, 55, 55, 44, 44, 33, 22, 11]"
            ]
          },
          "metadata": {},
          "execution_count": 194
        }
      ],
      "source": [
        "lst1"
      ]
    }
  ],
  "metadata": {
    "kernelspec": {
      "display_name": "Python 3 (ipykernel)",
      "language": "python",
      "name": "python3"
    },
    "language_info": {
      "codemirror_mode": {
        "name": "ipython",
        "version": 3
      },
      "file_extension": ".py",
      "mimetype": "text/x-python",
      "name": "python",
      "nbconvert_exporter": "python",
      "pygments_lexer": "ipython3",
      "version": "3.10.12"
    },
    "colab": {
      "provenance": []
    }
  },
  "nbformat": 4,
  "nbformat_minor": 5
}