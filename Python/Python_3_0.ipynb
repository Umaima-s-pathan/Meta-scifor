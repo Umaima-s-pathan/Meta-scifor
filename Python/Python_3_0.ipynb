{
  "cells": [
    {
      "cell_type": "code",
      "source": [
        "  ###  basic python continued ###"
      ],
      "metadata": {
        "id": "_g0UEkxGEBjW"
      },
      "id": "_g0UEkxGEBjW",
      "execution_count": 2,
      "outputs": []
    },
    {
      "cell_type": "code",
      "execution_count": 3,
      "id": "689a7f02",
      "metadata": {
        "id": "689a7f02"
      },
      "outputs": [],
      "source": [
        "#what is tuples ? Tuple is a data structure of python. tuple are always in () round brackets\n",
        "#tuples are immutable.and its work with all data types."
      ]
    },
    {
      "cell_type": "code",
      "execution_count": 4,
      "id": "84cb17d1",
      "metadata": {
        "id": "84cb17d1",
        "colab": {
          "base_uri": "https://localhost:8080/"
        },
        "outputId": "2507ab4c-c66a-40c9-a145-bdd007990608"
      },
      "outputs": [
        {
          "output_type": "execute_result",
          "data": {
            "text/plain": [
              "('Bengluru', 'Kolkata', 'Chennai', 'raipur')"
            ]
          },
          "metadata": {},
          "execution_count": 4
        }
      ],
      "source": [
        "work_location=('Bengluru','Kolkata','Chennai','raipur')\n",
        "work_location"
      ]
    },
    {
      "cell_type": "code",
      "execution_count": 5,
      "id": "6cf319cc",
      "metadata": {
        "id": "6cf319cc",
        "outputId": "5aa88b23-f397-4ece-ea76-0d43d352621f",
        "colab": {
          "base_uri": "https://localhost:8080/"
        }
      },
      "outputs": [
        {
          "output_type": "execute_result",
          "data": {
            "text/plain": [
              "tuple"
            ]
          },
          "metadata": {},
          "execution_count": 5
        }
      ],
      "source": [
        "type(work_location) #check datatype"
      ]
    },
    {
      "cell_type": "code",
      "execution_count": 6,
      "id": "fd683d46",
      "metadata": {
        "id": "fd683d46"
      },
      "outputs": [],
      "source": [
        "#Lets try to add new work location.like list method"
      ]
    },
    {
      "cell_type": "code",
      "execution_count": 8,
      "id": "564fa2dc",
      "metadata": {
        "id": "564fa2dc",
        "outputId": "69b9f596-e8e8-4cf7-be06-e0524967fcd5",
        "colab": {
          "base_uri": "https://localhost:8080/",
          "height": 141
        }
      },
      "outputs": [
        {
          "output_type": "error",
          "ename": "AttributeError",
          "evalue": "'tuple' object has no attribute 'append'",
          "traceback": [
            "\u001b[0;31m---------------------------------------------------------------------------\u001b[0m",
            "\u001b[0;31mAttributeError\u001b[0m                            Traceback (most recent call last)",
            "\u001b[0;32m<ipython-input-8-7f563f651a67>\u001b[0m in \u001b[0;36m<cell line: 1>\u001b[0;34m()\u001b[0m\n\u001b[0;32m----> 1\u001b[0;31m \u001b[0mwork_location\u001b[0m\u001b[0;34m.\u001b[0m\u001b[0mappend\u001b[0m\u001b[0;34m(\u001b[0m\u001b[0;34m'Korba'\u001b[0m\u001b[0;34m)\u001b[0m  \u001b[0;31m#It is not possible , because tuple are immutable\u001b[0m\u001b[0;34m\u001b[0m\u001b[0;34m\u001b[0m\u001b[0m\n\u001b[0m",
            "\u001b[0;31mAttributeError\u001b[0m: 'tuple' object has no attribute 'append'"
          ]
        }
      ],
      "source": [
        "work_location.append('Korba')  #It is not possible , because tuple are immutable"
      ]
    },
    {
      "cell_type": "code",
      "execution_count": 9,
      "id": "46f1e5fa",
      "metadata": {
        "id": "46f1e5fa"
      },
      "outputs": [],
      "source": [
        "work_location=list(work_location) # to manipulate the tuuple we to convert it into list"
      ]
    },
    {
      "cell_type": "code",
      "execution_count": 10,
      "id": "d1c042b6",
      "metadata": {
        "id": "d1c042b6",
        "colab": {
          "base_uri": "https://localhost:8080/"
        },
        "outputId": "7fc220cf-6387-45c9-f762-519003b5e7a7"
      },
      "outputs": [
        {
          "output_type": "execute_result",
          "data": {
            "text/plain": [
              "['Bengluru', 'Kolkata', 'Chennai', 'raipur', 'Korba']"
            ]
          },
          "metadata": {},
          "execution_count": 10
        }
      ],
      "source": [
        "work_location.append('Korba')  #now you can edit\n",
        "work_location"
      ]
    },
    {
      "cell_type": "code",
      "execution_count": 11,
      "id": "f235b8da",
      "metadata": {
        "id": "f235b8da"
      },
      "outputs": [],
      "source": [
        "#now back to change in tuple"
      ]
    },
    {
      "cell_type": "code",
      "execution_count": 12,
      "id": "4c0e0675",
      "metadata": {
        "id": "4c0e0675"
      },
      "outputs": [],
      "source": [
        "work_location=tuple(work_location) # again converting the list into its original form"
      ]
    },
    {
      "cell_type": "code",
      "execution_count": 13,
      "id": "7082fdde",
      "metadata": {
        "id": "7082fdde",
        "outputId": "addffe34-8c00-439d-a5f3-ff5c579a33af",
        "colab": {
          "base_uri": "https://localhost:8080/"
        }
      },
      "outputs": [
        {
          "output_type": "execute_result",
          "data": {
            "text/plain": [
              "('Bengluru', 'Kolkata', 'Chennai', 'raipur', 'Korba')"
            ]
          },
          "metadata": {},
          "execution_count": 13
        }
      ],
      "source": [
        "work_location"
      ]
    },
    {
      "cell_type": "code",
      "execution_count": 14,
      "id": "03ed8121",
      "metadata": {
        "id": "03ed8121",
        "outputId": "feef55f1-eeff-4c17-850b-8664069966eb",
        "colab": {
          "base_uri": "https://localhost:8080/"
        }
      },
      "outputs": [
        {
          "output_type": "execute_result",
          "data": {
            "text/plain": [
              "5"
            ]
          },
          "metadata": {},
          "execution_count": 14
        }
      ],
      "source": [
        "len(work_location)  #checking length in tuple like List."
      ]
    },
    {
      "cell_type": "code",
      "execution_count": 15,
      "id": "c1b32813",
      "metadata": {
        "id": "c1b32813"
      },
      "outputs": [],
      "source": [
        "#Similarly you can work with numbers as well"
      ]
    },
    {
      "cell_type": "code",
      "execution_count": 16,
      "id": "bf9dfe73",
      "metadata": {
        "id": "bf9dfe73",
        "outputId": "8ab35c5d-27a6-4269-c6da-067af3a270ed",
        "colab": {
          "base_uri": "https://localhost:8080/"
        }
      },
      "outputs": [
        {
          "output_type": "execute_result",
          "data": {
            "text/plain": [
              "('Bengluru', 'Kolkata', 'Chennai', 'raipur', 'Korba')"
            ]
          },
          "metadata": {},
          "execution_count": 16
        }
      ],
      "source": [
        "work_location"
      ]
    },
    {
      "cell_type": "code",
      "execution_count": 17,
      "id": "d64257de",
      "metadata": {
        "id": "d64257de",
        "outputId": "bfe88f6e-2f47-4790-80b8-d439a010e863",
        "colab": {
          "base_uri": "https://localhost:8080/",
          "height": 35
        }
      },
      "outputs": [
        {
          "output_type": "execute_result",
          "data": {
            "text/plain": [
              "'Kolkata'"
            ],
            "application/vnd.google.colaboratory.intrinsic+json": {
              "type": "string"
            }
          },
          "metadata": {},
          "execution_count": 17
        }
      ],
      "source": [
        "work_location[1] #using  indexing just like we did in list to display na particular data"
      ]
    },
    {
      "cell_type": "code",
      "execution_count": 18,
      "id": "bc939fbe",
      "metadata": {
        "id": "bc939fbe",
        "outputId": "95615ccb-1cb8-445c-ea9e-8f29a4b60e46",
        "colab": {
          "base_uri": "https://localhost:8080/",
          "height": 35
        }
      },
      "outputs": [
        {
          "output_type": "execute_result",
          "data": {
            "text/plain": [
              "'raipur'"
            ],
            "application/vnd.google.colaboratory.intrinsic+json": {
              "type": "string"
            }
          },
          "metadata": {},
          "execution_count": 18
        }
      ],
      "source": [
        "work_location[-2]  #slicing just like a list"
      ]
    },
    {
      "cell_type": "code",
      "execution_count": 19,
      "id": "4d436fbd",
      "metadata": {
        "id": "4d436fbd"
      },
      "outputs": [],
      "source": [
        "#Basics Tuple Method. inbuilt methods"
      ]
    },
    {
      "cell_type": "code",
      "execution_count": 20,
      "id": "aff37043",
      "metadata": {
        "id": "aff37043"
      },
      "outputs": [],
      "source": [
        "numbers=(50,60,40,90,80,70,60,50,40,70,10,20,30,7,50,50)"
      ]
    },
    {
      "cell_type": "code",
      "execution_count": 21,
      "id": "3fc226a9",
      "metadata": {
        "id": "3fc226a9",
        "outputId": "5e38d831-46e3-4371-a78b-d8ef8a4de514",
        "colab": {
          "base_uri": "https://localhost:8080/"
        }
      },
      "outputs": [
        {
          "output_type": "execute_result",
          "data": {
            "text/plain": [
              "12"
            ]
          },
          "metadata": {},
          "execution_count": 21
        }
      ],
      "source": [
        "numbers.index(30) #use .index to enter a value,  and return the index"
      ]
    },
    {
      "cell_type": "code",
      "execution_count": 22,
      "id": "d97f53d6",
      "metadata": {
        "id": "d97f53d6",
        "outputId": "815e7d12-8149-45be-940b-45378aa659b9",
        "colab": {
          "base_uri": "https://localhost:8080/"
        }
      },
      "outputs": [
        {
          "output_type": "execute_result",
          "data": {
            "text/plain": [
              "4"
            ]
          },
          "metadata": {},
          "execution_count": 22
        }
      ],
      "source": [
        "numbers.count(50) #Use .count to count the number of times a value appears"
      ]
    },
    {
      "cell_type": "code",
      "execution_count": 23,
      "id": "fa9995d6",
      "metadata": {
        "id": "fa9995d6"
      },
      "outputs": [],
      "source": [
        "#So what is set ? set is a data structure in pyhton. sets are an unordered collection of unique element-\n",
        "#-which can be constructed using set() fucntion."
      ]
    },
    {
      "cell_type": "code",
      "execution_count": 24,
      "id": "c4d6e56b",
      "metadata": {
        "id": "c4d6e56b"
      },
      "outputs": [],
      "source": [
        "#Sets   =   1 -  Keeps item in sorted order\n",
        "#           2 - eliminate the duplicates element."
      ]
    },
    {
      "cell_type": "code",
      "execution_count": 25,
      "id": "3c064f5e",
      "metadata": {
        "id": "3c064f5e"
      },
      "outputs": [],
      "source": [
        "roll_number=set()"
      ]
    },
    {
      "cell_type": "code",
      "execution_count": 26,
      "id": "284dc497",
      "metadata": {
        "id": "284dc497",
        "outputId": "26bcd39c-3135-4e41-9054-75ce2dbb6363",
        "colab": {
          "base_uri": "https://localhost:8080/"
        }
      },
      "outputs": [
        {
          "output_type": "execute_result",
          "data": {
            "text/plain": [
              "set"
            ]
          },
          "metadata": {},
          "execution_count": 26
        }
      ],
      "source": [
        "type(roll_number)  #check the type"
      ]
    },
    {
      "cell_type": "code",
      "execution_count": 27,
      "id": "fc81bd94",
      "metadata": {
        "id": "fc81bd94"
      },
      "outputs": [],
      "source": [
        "roll_number.add(1)  #we add to set with the add methods"
      ]
    },
    {
      "cell_type": "code",
      "execution_count": 28,
      "id": "8137fc17",
      "metadata": {
        "id": "8137fc17",
        "outputId": "6b949abc-3b91-47e7-bac2-7257bf094eca",
        "colab": {
          "base_uri": "https://localhost:8080/"
        }
      },
      "outputs": [
        {
          "output_type": "execute_result",
          "data": {
            "text/plain": [
              "{1}"
            ]
          },
          "metadata": {},
          "execution_count": 28
        }
      ],
      "source": [
        "roll_number"
      ]
    },
    {
      "cell_type": "code",
      "execution_count": 29,
      "id": "0d426ceb",
      "metadata": {
        "id": "0d426ceb"
      },
      "outputs": [],
      "source": [
        "#we know that set has only take unique element . lets se if we add duplicates. whats python shows."
      ]
    },
    {
      "cell_type": "code",
      "execution_count": 30,
      "id": "43b55c75",
      "metadata": {
        "id": "43b55c75"
      },
      "outputs": [],
      "source": [
        "#add different element"
      ]
    },
    {
      "cell_type": "code",
      "execution_count": 31,
      "id": "50f30b9d",
      "metadata": {
        "id": "50f30b9d"
      },
      "outputs": [],
      "source": [
        "roll_number.add(2)"
      ]
    },
    {
      "cell_type": "code",
      "execution_count": 32,
      "id": "1771565a",
      "metadata": {
        "id": "1771565a",
        "outputId": "aba9f476-05db-4d8e-ca63-c95343e11a50",
        "colab": {
          "base_uri": "https://localhost:8080/"
        }
      },
      "outputs": [
        {
          "output_type": "execute_result",
          "data": {
            "text/plain": [
              "{1, 2}"
            ]
          },
          "metadata": {},
          "execution_count": 32
        }
      ],
      "source": [
        "roll_number"
      ]
    },
    {
      "cell_type": "code",
      "execution_count": 33,
      "id": "6b243cf9",
      "metadata": {
        "id": "6b243cf9"
      },
      "outputs": [],
      "source": [
        "roll_number.add(1)  #Try to add the same element"
      ]
    },
    {
      "cell_type": "code",
      "execution_count": 34,
      "id": "51a81831",
      "metadata": {
        "id": "51a81831"
      },
      "outputs": [],
      "source": [
        "#they did not show any error. but the also dont add ion our roll_number set."
      ]
    },
    {
      "cell_type": "code",
      "execution_count": 35,
      "id": "f93dc596",
      "metadata": {
        "id": "f93dc596",
        "outputId": "a1a635b6-582e-4893-9da1-2cb6ea730a59",
        "colab": {
          "base_uri": "https://localhost:8080/"
        }
      },
      "outputs": [
        {
          "output_type": "execute_result",
          "data": {
            "text/plain": [
              "{1, 2}"
            ]
          },
          "metadata": {},
          "execution_count": 35
        }
      ],
      "source": [
        "roll_number"
      ]
    },
    {
      "cell_type": "code",
      "execution_count": 36,
      "id": "68496122",
      "metadata": {
        "id": "68496122"
      },
      "outputs": [],
      "source": [
        "#You have to know one thing where we use set method.\n",
        "#lets i can tell you , if we have list with numbers , but in our list lots of numbers available -\n",
        "#- and we have to find only unique element .\n",
        "#what we can do,  we can use set method to get unique element\n",
        "#lets see how its work"
      ]
    },
    {
      "cell_type": "code",
      "execution_count": 37,
      "id": "0276177c",
      "metadata": {
        "id": "0276177c"
      },
      "outputs": [],
      "source": [
        "numbers=[1,2,3,4,5,6,7,8,9,1,2,3,4,56,789,12,74,74,85,96,74,85,96,4,1,52,63,52,41,56,56]"
      ]
    },
    {
      "cell_type": "code",
      "execution_count": 38,
      "id": "1d17f1f1",
      "metadata": {
        "id": "1d17f1f1"
      },
      "outputs": [],
      "source": [
        "#cast to get unique elements from list"
      ]
    },
    {
      "cell_type": "code",
      "execution_count": 39,
      "id": "aaf6c82b",
      "metadata": {
        "id": "aaf6c82b"
      },
      "outputs": [],
      "source": [
        "remove_duplicate=set(numbers)"
      ]
    },
    {
      "cell_type": "code",
      "execution_count": 40,
      "id": "c874a547",
      "metadata": {
        "id": "c874a547",
        "outputId": "2a9afb46-bae8-4663-8c31-e229737f3f18",
        "colab": {
          "base_uri": "https://localhost:8080/"
        }
      },
      "outputs": [
        {
          "output_type": "execute_result",
          "data": {
            "text/plain": [
              "{1, 2, 3, 4, 5, 6, 7, 8, 9, 12, 41, 52, 56, 63, 74, 85, 96, 789}"
            ]
          },
          "metadata": {},
          "execution_count": 40
        }
      ],
      "source": [
        "remove_duplicate #lets see the can show only unique element ."
      ]
    },
    {
      "cell_type": "code",
      "execution_count": 41,
      "id": "1a3fa092",
      "metadata": {
        "id": "1a3fa092"
      },
      "outputs": [],
      "source": [
        "#again you can covert to list if you want (after removing duplicates)"
      ]
    },
    {
      "cell_type": "code",
      "execution_count": 42,
      "id": "bf4b579a",
      "metadata": {
        "id": "bf4b579a"
      },
      "outputs": [],
      "source": [
        "numbers1=list(remove_duplicate)"
      ]
    },
    {
      "cell_type": "code",
      "execution_count": 43,
      "id": "cd21c7cf",
      "metadata": {
        "id": "cd21c7cf"
      },
      "outputs": [],
      "source": [
        "#Now Study about dictionary\n",
        "# what is dictionary ? dictionary is also a data staructure,dictionary contain keys:value in curly {} brackets.\n",
        "#dictionary will take corresponding value"
      ]
    },
    {
      "cell_type": "code",
      "execution_count": 44,
      "id": "562127cf",
      "metadata": {
        "id": "562127cf"
      },
      "outputs": [],
      "source": [
        "my_dict={'key1':'value1','key2':'value2'}"
      ]
    },
    {
      "cell_type": "code",
      "execution_count": 45,
      "id": "48debc84",
      "metadata": {
        "id": "48debc84",
        "outputId": "08f1ef7d-196b-4432-b1c6-e574ea191d5d",
        "colab": {
          "base_uri": "https://localhost:8080/"
        }
      },
      "outputs": [
        {
          "output_type": "execute_result",
          "data": {
            "text/plain": [
              "{'key1': 'value1', 'key2': 'value2'}"
            ]
          },
          "metadata": {},
          "execution_count": 45
        }
      ],
      "source": [
        "my_dict"
      ]
    },
    {
      "cell_type": "code",
      "execution_count": 46,
      "id": "b42ae2d3",
      "metadata": {
        "id": "b42ae2d3",
        "outputId": "e41ee5a0-8bba-41c5-ca40-d24053aed6bb",
        "colab": {
          "base_uri": "https://localhost:8080/",
          "height": 35
        }
      },
      "outputs": [
        {
          "output_type": "execute_result",
          "data": {
            "text/plain": [
              "'value1'"
            ],
            "application/vnd.google.colaboratory.intrinsic+json": {
              "type": "string"
            }
          },
          "metadata": {},
          "execution_count": 46
        }
      ],
      "source": [
        "my_dict['key1']  #call the value by their key"
      ]
    },
    {
      "cell_type": "code",
      "execution_count": 47,
      "id": "b455ce48",
      "metadata": {
        "id": "b455ce48"
      },
      "outputs": [],
      "source": [
        "#note that dictionary are very comfortable with all data types."
      ]
    },
    {
      "cell_type": "code",
      "execution_count": 48,
      "id": "c2cd38cf",
      "metadata": {
        "id": "c2cd38cf"
      },
      "outputs": [],
      "source": [
        "my_dict={'Roll Number':123,'Subjects':['Maths','science','Computer'],'Marks':[24,29,25]}"
      ]
    },
    {
      "cell_type": "code",
      "execution_count": 49,
      "id": "e6739456",
      "metadata": {
        "id": "e6739456",
        "outputId": "bbcc8fbf-089e-41db-f10c-800e0608ceaf",
        "colab": {
          "base_uri": "https://localhost:8080/"
        }
      },
      "outputs": [
        {
          "output_type": "execute_result",
          "data": {
            "text/plain": [
              "{'Roll Number': 123,\n",
              " 'Subjects': ['Maths', 'science', 'Computer'],\n",
              " 'Marks': [24, 29, 25]}"
            ]
          },
          "metadata": {},
          "execution_count": 49
        }
      ],
      "source": [
        "my_dict"
      ]
    },
    {
      "cell_type": "code",
      "execution_count": 50,
      "id": "3d2286c1",
      "metadata": {
        "id": "3d2286c1",
        "outputId": "38d2cc26-2333-425d-e51f-8d58804dba7c",
        "colab": {
          "base_uri": "https://localhost:8080/"
        }
      },
      "outputs": [
        {
          "output_type": "execute_result",
          "data": {
            "text/plain": [
              "['Maths', 'science', 'Computer']"
            ]
          },
          "metadata": {},
          "execution_count": 50
        }
      ],
      "source": [
        "my_dict['Subjects']  #Lets call items from the dictionary"
      ]
    },
    {
      "cell_type": "code",
      "execution_count": 51,
      "id": "f2860172",
      "metadata": {
        "id": "f2860172",
        "outputId": "757e3ebc-c8b6-43df-eef8-db2be53b4be9",
        "colab": {
          "base_uri": "https://localhost:8080/",
          "height": 35
        }
      },
      "outputs": [
        {
          "output_type": "execute_result",
          "data": {
            "text/plain": [
              "'Maths'"
            ],
            "application/vnd.google.colaboratory.intrinsic+json": {
              "type": "string"
            }
          },
          "metadata": {},
          "execution_count": 51
        }
      ],
      "source": [
        "my_dict['Subjects'][0]  #can call  an index on that value."
      ]
    },
    {
      "cell_type": "code",
      "execution_count": 52,
      "id": "c2a51ba6",
      "metadata": {
        "id": "c2a51ba6",
        "outputId": "982230b0-8d26-4618-f0f9-5039633601e1",
        "colab": {
          "base_uri": "https://localhost:8080/",
          "height": 35
        }
      },
      "outputs": [
        {
          "output_type": "execute_result",
          "data": {
            "text/plain": [
              "'science'"
            ],
            "application/vnd.google.colaboratory.intrinsic+json": {
              "type": "string"
            }
          },
          "metadata": {},
          "execution_count": 52
        }
      ],
      "source": [
        "my_dict['Subjects'][1]"
      ]
    },
    {
      "cell_type": "code",
      "execution_count": 53,
      "id": "4835f82c",
      "metadata": {
        "id": "4835f82c",
        "outputId": "68af6864-50ff-48a4-a3da-0e969d1dddd7",
        "colab": {
          "base_uri": "https://localhost:8080/",
          "height": 35
        }
      },
      "outputs": [
        {
          "output_type": "execute_result",
          "data": {
            "text/plain": [
              "'Computer'"
            ],
            "application/vnd.google.colaboratory.intrinsic+json": {
              "type": "string"
            }
          },
          "metadata": {},
          "execution_count": 53
        }
      ],
      "source": [
        "my_dict['Subjects'][2]"
      ]
    },
    {
      "cell_type": "code",
      "execution_count": 54,
      "id": "d91ee403",
      "metadata": {
        "id": "d91ee403",
        "outputId": "94563620-b5c5-4178-ad3a-81d567739681",
        "colab": {
          "base_uri": "https://localhost:8080/",
          "height": 35
        }
      },
      "outputs": [
        {
          "output_type": "execute_result",
          "data": {
            "text/plain": [
              "'COMPUTER'"
            ],
            "application/vnd.google.colaboratory.intrinsic+json": {
              "type": "string"
            }
          },
          "metadata": {},
          "execution_count": 54
        }
      ],
      "source": [
        "my_dict['Subjects'][2].upper() #we cal aslo capitalise the element which can present in dictionary"
      ]
    },
    {
      "cell_type": "code",
      "execution_count": 55,
      "id": "1008394f",
      "metadata": {
        "id": "1008394f",
        "outputId": "dc094c87-eaa7-4107-eed7-69bb6d3ec24d",
        "colab": {
          "base_uri": "https://localhost:8080/"
        }
      },
      "outputs": [
        {
          "output_type": "execute_result",
          "data": {
            "text/plain": [
              "{'Roll Number': 123,\n",
              " 'Subjects': ['Maths', 'science', 'Computer'],\n",
              " 'Marks': [24, 29, 25]}"
            ]
          },
          "metadata": {},
          "execution_count": 55
        }
      ],
      "source": [
        "my_dict"
      ]
    },
    {
      "cell_type": "code",
      "execution_count": 56,
      "id": "72b5912d",
      "metadata": {
        "id": "72b5912d"
      },
      "outputs": [],
      "source": [
        "my_dict['Marks'][0]=my_dict['Marks'][0]+6  #add Marks to the first element"
      ]
    },
    {
      "cell_type": "code",
      "execution_count": 57,
      "id": "1dcf0b39",
      "metadata": {
        "id": "1dcf0b39",
        "outputId": "66c4ef45-c6fa-4ec3-d036-e8057174c3c5",
        "colab": {
          "base_uri": "https://localhost:8080/"
        }
      },
      "outputs": [
        {
          "output_type": "execute_result",
          "data": {
            "text/plain": [
              "{'Roll Number': 123,\n",
              " 'Subjects': ['Maths', 'science', 'Computer'],\n",
              " 'Marks': [30, 29, 25]}"
            ]
          },
          "metadata": {},
          "execution_count": 57
        }
      ],
      "source": [
        "my_dict"
      ]
    },
    {
      "cell_type": "code",
      "execution_count": 58,
      "id": "084c466e",
      "metadata": {
        "id": "084c466e"
      },
      "outputs": [],
      "source": [
        "#Python can multiple, addition , substraction and divide .\n"
      ]
    },
    {
      "cell_type": "code",
      "execution_count": 59,
      "id": "6d0df818",
      "metadata": {
        "id": "6d0df818"
      },
      "outputs": [],
      "source": [
        "my_dict['Marks'][0]+=4  #another way of adding"
      ]
    },
    {
      "cell_type": "code",
      "execution_count": 60,
      "id": "d73c434a",
      "metadata": {
        "id": "d73c434a",
        "outputId": "2baf7ea0-4390-43d5-dad5-f73156645261",
        "colab": {
          "base_uri": "https://localhost:8080/"
        }
      },
      "outputs": [
        {
          "output_type": "execute_result",
          "data": {
            "text/plain": [
              "{'Roll Number': 123,\n",
              " 'Subjects': ['Maths', 'science', 'Computer'],\n",
              " 'Marks': [34, 29, 25]}"
            ]
          },
          "metadata": {},
          "execution_count": 60
        }
      ],
      "source": [
        "my_dict"
      ]
    },
    {
      "cell_type": "code",
      "execution_count": 61,
      "id": "481ded0d",
      "metadata": {
        "id": "481ded0d"
      },
      "outputs": [],
      "source": [
        "my_dict['Marks'][0]-=4  #lets subtract"
      ]
    },
    {
      "cell_type": "code",
      "execution_count": 62,
      "id": "19fe0e7a",
      "metadata": {
        "id": "19fe0e7a",
        "outputId": "5839f744-02be-4195-eed6-1f255dde5967",
        "colab": {
          "base_uri": "https://localhost:8080/"
        }
      },
      "outputs": [
        {
          "output_type": "execute_result",
          "data": {
            "text/plain": [
              "{'Roll Number': 123,\n",
              " 'Subjects': ['Maths', 'science', 'Computer'],\n",
              " 'Marks': [30, 29, 25]}"
            ]
          },
          "metadata": {},
          "execution_count": 62
        }
      ],
      "source": [
        "my_dict"
      ]
    },
    {
      "cell_type": "code",
      "execution_count": 63,
      "id": "078302b0",
      "metadata": {
        "id": "078302b0"
      },
      "outputs": [],
      "source": [
        "#How we can add key .and values ."
      ]
    },
    {
      "cell_type": "code",
      "execution_count": 64,
      "id": "0ff76368",
      "metadata": {
        "id": "0ff76368"
      },
      "outputs": [],
      "source": [
        "my_dict['Year']=2015"
      ]
    },
    {
      "cell_type": "code",
      "execution_count": 65,
      "id": "1be4db68",
      "metadata": {
        "id": "1be4db68",
        "outputId": "a2ce77df-6c58-43d4-bd00-1d55ffd58538",
        "colab": {
          "base_uri": "https://localhost:8080/"
        }
      },
      "outputs": [
        {
          "output_type": "execute_result",
          "data": {
            "text/plain": [
              "{'Roll Number': 123,\n",
              " 'Subjects': ['Maths', 'science', 'Computer'],\n",
              " 'Marks': [30, 29, 25],\n",
              " 'Year': 2015}"
            ]
          },
          "metadata": {},
          "execution_count": 65
        }
      ],
      "source": [
        "my_dict"
      ]
    },
    {
      "cell_type": "code",
      "execution_count": 66,
      "id": "4d07370a",
      "metadata": {
        "id": "4d07370a"
      },
      "outputs": [],
      "source": [
        "#lets note down one thing. if we have to add key and value , with the help of last used method\n",
        "# we have to enter key and value , if the key name is already present in dictionary .\n",
        "# they will add  the value in old keys., this reason for we have have to write new key name."
      ]
    },
    {
      "cell_type": "code",
      "execution_count": 67,
      "id": "7e7e6c87",
      "metadata": {
        "id": "7e7e6c87"
      },
      "outputs": [],
      "source": [
        "my_dict.update({'Roll Number':100})  #Update values()"
      ]
    },
    {
      "cell_type": "code",
      "execution_count": 68,
      "id": "97e2229d",
      "metadata": {
        "id": "97e2229d",
        "outputId": "cecc3f2d-a58d-4c2e-cc94-9004951f3249",
        "colab": {
          "base_uri": "https://localhost:8080/"
        }
      },
      "outputs": [
        {
          "output_type": "execute_result",
          "data": {
            "text/plain": [
              "{'Roll Number': 100,\n",
              " 'Subjects': ['Maths', 'science', 'Computer'],\n",
              " 'Marks': [30, 29, 25],\n",
              " 'Year': 2015}"
            ]
          },
          "metadata": {},
          "execution_count": 68
        }
      ],
      "source": [
        "my_dict"
      ]
    },
    {
      "cell_type": "code",
      "execution_count": 69,
      "id": "0f761e07",
      "metadata": {
        "id": "0f761e07",
        "outputId": "94ef8118-2583-4772-d772-47f74279aee1",
        "colab": {
          "base_uri": "https://localhost:8080/"
        }
      },
      "outputs": [
        {
          "output_type": "execute_result",
          "data": {
            "text/plain": [
              "dict_items([('Roll Number', 100), ('Subjects', ['Maths', 'science', 'Computer']), ('Marks', [30, 29, 25]), ('Year', 2015)])"
            ]
          },
          "metadata": {},
          "execution_count": 69
        }
      ],
      "source": [
        "my_dict.items()  #Items will return both keys and corresponding values."
      ]
    },
    {
      "cell_type": "code",
      "execution_count": 70,
      "id": "b205a00d",
      "metadata": {
        "id": "b205a00d"
      },
      "outputs": [],
      "source": [
        "#Branching (if,elif,else).      what is elif ? else + if =elif\n",
        "#Puthon provide the if statement to allow branching based on condition. multiple elif checks-\n",
        "# - can also be peformed followed by an optional else caluse. the statment can be used with any evaluation of truthiness."
      ]
    },
    {
      "cell_type": "code",
      "execution_count": 71,
      "id": "d5c197b1",
      "metadata": {
        "id": "d5c197b1"
      },
      "outputs": [],
      "source": [
        "#In my word branching (if,elif ,else) they can provide us to check truthiness of elements"
      ]
    },
    {
      "cell_type": "code",
      "execution_count": 72,
      "id": "eecb150d",
      "metadata": {
        "id": "eecb150d",
        "outputId": "3dbced53-5bfb-4e3a-884c-c2c5e3611fa9",
        "colab": {
          "base_uri": "https://localhost:8080/"
        }
      },
      "outputs": [
        {
          "output_type": "stream",
          "name": "stdout",
          "text": [
            "i is smaller\n"
          ]
        }
      ],
      "source": [
        "i =10\n",
        "if i<11: # definitely you have doubt whay print is in space, is know as indentation.means four space\n",
        "    print('i is smaller')\n",
        "else:\n",
        "    print('i is greater')"
      ]
    },
    {
      "cell_type": "code",
      "execution_count": 73,
      "id": "b08b46a7",
      "metadata": {
        "id": "b08b46a7"
      },
      "outputs": [],
      "source": [
        "#You can write in this way (2nd way to write (if,elif,else)statement)"
      ]
    },
    {
      "cell_type": "code",
      "execution_count": 74,
      "id": "1a3e157e",
      "metadata": {
        "id": "1a3e157e",
        "outputId": "c4cc6c4b-4123-418e-fad3-fef03bc20468",
        "colab": {
          "base_uri": "https://localhost:8080/"
        }
      },
      "outputs": [
        {
          "output_type": "stream",
          "name": "stdout",
          "text": [
            "i is smaller\n"
          ]
        }
      ],
      "source": [
        "print('i is smaller')if i<11 else print('i is greater')"
      ]
    },
    {
      "cell_type": "code",
      "execution_count": 75,
      "id": "c7490d15",
      "metadata": {
        "id": "c7490d15",
        "outputId": "9053154e-f509-42f9-fc73-c4378ad78bb4",
        "colab": {
          "base_uri": "https://localhost:8080/"
        }
      },
      "outputs": [
        {
          "output_type": "stream",
          "name": "stdout",
          "text": [
            "please add 100 Rs worth for free shipping\n"
          ]
        }
      ],
      "source": [
        "#free shipping message\n",
        "\n",
        "item_1=100\n",
        "item_2=300\n",
        "\n",
        "if (item_1+item_2)>=500:\n",
        "    print('Your item in eligible for free shipping')\n",
        "else:\n",
        "    extra=500-(item_1+item_2)\n",
        "    print('please add',extra,'Rs worth for free shipping')"
      ]
    },
    {
      "cell_type": "code",
      "execution_count": 76,
      "id": "f8f58bb8",
      "metadata": {
        "id": "f8f58bb8",
        "outputId": "1de8ba46-567f-452c-f744-83ad9653118e",
        "colab": {
          "base_uri": "https://localhost:8080/"
        }
      },
      "outputs": [
        {
          "output_type": "stream",
          "name": "stdout",
          "text": [
            "Both condion are wrong\n"
          ]
        }
      ],
      "source": [
        "#Lets see different example with 'and' method\n",
        "\n",
        "a=200\n",
        "b=33\n",
        "c=500\n",
        "\n",
        "if a>b and c<a:\n",
        "    print('Both condtion are true')\n",
        "else:\n",
        "    print('Both condion are wrong')"
      ]
    },
    {
      "cell_type": "code",
      "execution_count": 77,
      "id": "51a74b1d",
      "metadata": {
        "id": "51a74b1d",
        "outputId": "6129b552-9ec1-43bd-99d9-1ac241ef8c82",
        "colab": {
          "base_uri": "https://localhost:8080/"
        }
      },
      "outputs": [
        {
          "output_type": "stream",
          "name": "stdout",
          "text": [
            "Atleast one of the condition are true\n"
          ]
        }
      ],
      "source": [
        "#Lets see different example with 'or' method\n",
        "\n",
        "a=200\n",
        "b=33\n",
        "c=500\n",
        "\n",
        "if a>b or c<a:\n",
        "    print('Atleast one of the condition are true')\n",
        "else:\n",
        "    print('Both condition are wrong')\n"
      ]
    },
    {
      "cell_type": "code",
      "execution_count": 78,
      "id": "514203be",
      "metadata": {
        "id": "514203be",
        "outputId": "2ebdc8be-d46f-4633-ebb4-3c24ae589fae",
        "colab": {
          "base_uri": "https://localhost:8080/"
        }
      },
      "outputs": [
        {
          "output_type": "stream",
          "name": "stdout",
          "text": [
            "60 First class\n"
          ]
        }
      ],
      "source": [
        "#Lets check Student level\n",
        "\n",
        "marks=60\n",
        "\n",
        "if marks>=60:\n",
        "    if  marks>70:\n",
        "        print(marks,'distiction')\n",
        "    else:\n",
        "        print(marks,'First class')\n",
        "elif marks>50 and marks<60:\n",
        "    print(marks,'second division')\n",
        "elif marks>35:\n",
        "    print(marks,'Just pass')\n",
        "else:\n",
        "    ('marks','Fail Better luck next time')"
      ]
    },
    {
      "cell_type": "code",
      "execution_count": 79,
      "id": "b7af2ca7",
      "metadata": {
        "id": "b7af2ca7",
        "outputId": "f5514d20-d791-496f-811d-6f229e78c26b",
        "colab": {
          "base_uri": "https://localhost:8080/"
        }
      },
      "outputs": [
        {
          "output_type": "stream",
          "name": "stdout",
          "text": [
            "20 is greater\n"
          ]
        }
      ],
      "source": [
        "num1=20\n",
        "num2=30\n",
        "if num1<num2:\n",
        "    print(num1,'is greater')\n",
        "elif num2==31:\n",
        "    print(num2,'is equal to 31')\n"
      ]
    }
  ],
  "metadata": {
    "kernelspec": {
      "display_name": "Python 3 (ipykernel)",
      "language": "python",
      "name": "python3"
    },
    "language_info": {
      "codemirror_mode": {
        "name": "ipython",
        "version": 3
      },
      "file_extension": ".py",
      "mimetype": "text/x-python",
      "name": "python",
      "nbconvert_exporter": "python",
      "pygments_lexer": "ipython3",
      "version": "3.10.12"
    },
    "colab": {
      "provenance": []
    }
  },
  "nbformat": 4,
  "nbformat_minor": 5
}