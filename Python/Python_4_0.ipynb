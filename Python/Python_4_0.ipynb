{
  "cells": [
    {
      "cell_type": "code",
      "execution_count": 1,
      "id": "dee2f0d3",
      "metadata": {
        "id": "dee2f0d3"
      },
      "outputs": [],
      "source": [
        "#### python cntinued ####\n",
        "#Study about range,loop,break and continue statement."
      ]
    },
    {
      "cell_type": "code",
      "execution_count": 2,
      "id": "01f6d20c",
      "metadata": {
        "id": "01f6d20c"
      },
      "outputs": [],
      "source": [
        "# so, What is range function ? we can genrate a sequence of numbers  using range() function , range(10) will generate numbers -\n",
        "# -from 0 to 9 (10 numbers). we cance also define the starting number of range,which number we can stop, and step size.\n",
        "# its write on the (starting number, stop number,step size)\n",
        "# to force the function to output all the items we can use the function list()"
      ]
    },
    {
      "cell_type": "code",
      "execution_count": 3,
      "id": "7a359817",
      "metadata": {
        "id": "7a359817",
        "outputId": "2db1dd8b-a687-4891-ac5c-d4d36edbf85c",
        "colab": {
          "base_uri": "https://localhost:8080/"
        }
      },
      "outputs": [
        {
          "output_type": "stream",
          "name": "stdout",
          "text": [
            "range(0, 10)\n"
          ]
        }
      ],
      "source": [
        "print(range(10))"
      ]
    },
    {
      "cell_type": "code",
      "execution_count": 4,
      "id": "b45c8a2b",
      "metadata": {
        "id": "b45c8a2b",
        "outputId": "d0b25e9e-987f-47ab-be35-21fbed400d72",
        "colab": {
          "base_uri": "https://localhost:8080/"
        }
      },
      "outputs": [
        {
          "output_type": "stream",
          "name": "stdout",
          "text": [
            "[0, 1, 2, 3, 4, 5, 6, 7, 8, 9]\n"
          ]
        }
      ],
      "source": [
        "print(list(range(10)))  #print range in list."
      ]
    },
    {
      "cell_type": "code",
      "execution_count": 5,
      "id": "d187be40",
      "metadata": {
        "id": "d187be40"
      },
      "outputs": [],
      "source": [
        "#what if we can generate number from 10 and its goes 100 and the step size is 2."
      ]
    },
    {
      "cell_type": "code",
      "execution_count": 6,
      "id": "ba958b3c",
      "metadata": {
        "id": "ba958b3c",
        "outputId": "689fbe6f-4531-4217-dd47-943c4eef8a56",
        "colab": {
          "base_uri": "https://localhost:8080/"
        }
      },
      "outputs": [
        {
          "output_type": "stream",
          "name": "stdout",
          "text": [
            "[10, 12, 14, 16, 18, 20, 22, 24, 26, 28, 30, 32, 34, 36, 38, 40, 42, 44, 46, 48, 50, 52, 54, 56, 58, 60, 62, 64, 66, 68, 70, 72, 74, 76, 78, 80, 82, 84, 86, 88, 90, 92, 94, 96, 98, 100]\n"
          ]
        }
      ],
      "source": [
        "print(list(range(10,101,2)))"
      ]
    },
    {
      "cell_type": "code",
      "execution_count": 7,
      "id": "f46e8899",
      "metadata": {
        "id": "f46e8899"
      },
      "outputs": [],
      "source": [
        "# see in above example , we use 101 for going to 100. because starting number is included and stop number is excluded.\n",
        "#this reason for we write a 101 for getting 100."
      ]
    },
    {
      "cell_type": "code",
      "execution_count": 8,
      "id": "7666c427",
      "metadata": {
        "id": "7666c427"
      },
      "outputs": [],
      "source": [
        "#can we store range fuction in variable ?"
      ]
    },
    {
      "cell_type": "code",
      "execution_count": 9,
      "id": "e1b455c4",
      "metadata": {
        "id": "e1b455c4"
      },
      "outputs": [],
      "source": [
        "roll_num=list(range(10,50,1))"
      ]
    },
    {
      "cell_type": "code",
      "execution_count": 10,
      "id": "e50d474d",
      "metadata": {
        "id": "e50d474d",
        "outputId": "9441b062-c0c3-48bb-fc15-184dd29ce797",
        "colab": {
          "base_uri": "https://localhost:8080/"
        }
      },
      "outputs": [
        {
          "output_type": "execute_result",
          "data": {
            "text/plain": [
              "[10,\n",
              " 11,\n",
              " 12,\n",
              " 13,\n",
              " 14,\n",
              " 15,\n",
              " 16,\n",
              " 17,\n",
              " 18,\n",
              " 19,\n",
              " 20,\n",
              " 21,\n",
              " 22,\n",
              " 23,\n",
              " 24,\n",
              " 25,\n",
              " 26,\n",
              " 27,\n",
              " 28,\n",
              " 29,\n",
              " 30,\n",
              " 31,\n",
              " 32,\n",
              " 33,\n",
              " 34,\n",
              " 35,\n",
              " 36,\n",
              " 37,\n",
              " 38,\n",
              " 39,\n",
              " 40,\n",
              " 41,\n",
              " 42,\n",
              " 43,\n",
              " 44,\n",
              " 45,\n",
              " 46,\n",
              " 47,\n",
              " 48,\n",
              " 49]"
            ]
          },
          "metadata": {},
          "execution_count": 10
        }
      ],
      "source": [
        "roll_num"
      ]
    },
    {
      "cell_type": "code",
      "execution_count": 11,
      "id": "a5bd2832",
      "metadata": {
        "id": "a5bd2832"
      },
      "outputs": [],
      "source": [
        "# Lets see Reverse function with range fucntion.."
      ]
    },
    {
      "cell_type": "code",
      "execution_count": 12,
      "id": "a1f3fdbe",
      "metadata": {
        "id": "a1f3fdbe"
      },
      "outputs": [],
      "source": [
        "reverse=list(range(1600,99,-100)) #Lets Remember we have to minus sign for going backword.\n"
      ]
    },
    {
      "cell_type": "code",
      "execution_count": 13,
      "id": "c6738ccc",
      "metadata": {
        "id": "c6738ccc",
        "outputId": "9875f474-a923-4d3a-a941-c7ec25e20c22",
        "colab": {
          "base_uri": "https://localhost:8080/"
        }
      },
      "outputs": [
        {
          "output_type": "execute_result",
          "data": {
            "text/plain": [
              "[1600,\n",
              " 1500,\n",
              " 1400,\n",
              " 1300,\n",
              " 1200,\n",
              " 1100,\n",
              " 1000,\n",
              " 900,\n",
              " 800,\n",
              " 700,\n",
              " 600,\n",
              " 500,\n",
              " 400,\n",
              " 300,\n",
              " 200,\n",
              " 100]"
            ]
          },
          "metadata": {},
          "execution_count": 13
        }
      ],
      "source": [
        "reverse"
      ]
    },
    {
      "cell_type": "code",
      "execution_count": 14,
      "id": "845d990f",
      "metadata": {
        "id": "845d990f"
      },
      "outputs": [],
      "source": [
        "#Lets stude about loop fucntion\n",
        "# So, what is loop fucntion ? some time we want to repeat a set of statement in pur program for instance.\n",
        "# like  print 1 to 1000(with range function)\n",
        "# programming language provide various control structure that allows for more complicated execution.\n",
        "\n",
        "\n",
        "# There are 2 types of loop..   1- For loop  ,  2 - While loop\n",
        "# First we have to study about For loop , so what is for loop ? A for loop is used to iterate through a sequence like list,-\n",
        "#  - tuple, or string [iterable], loop continues untill we reach the last number or of item in sequence\n",
        "\n",
        "#Syntax with range fucntion- for i in range(10):\n",
        "#                               print(i)"
      ]
    },
    {
      "cell_type": "code",
      "execution_count": 15,
      "id": "81cd3997",
      "metadata": {
        "id": "81cd3997"
      },
      "outputs": [],
      "source": [
        "location=[\"Korba\",\"Bilaspur\",\"Raipur\",\"Patna\",\"Siwan\"]"
      ]
    },
    {
      "cell_type": "code",
      "execution_count": 16,
      "id": "427b301a",
      "metadata": {
        "id": "427b301a",
        "outputId": "a18221bc-3f4d-47ea-9f88-dbd997436cec",
        "colab": {
          "base_uri": "https://localhost:8080/"
        }
      },
      "outputs": [
        {
          "output_type": "execute_result",
          "data": {
            "text/plain": [
              "['Korba', 'Bilaspur', 'Raipur', 'Patna', 'Siwan']"
            ]
          },
          "metadata": {},
          "execution_count": 16
        }
      ],
      "source": [
        "location  #Lets apply for loop method."
      ]
    },
    {
      "cell_type": "code",
      "execution_count": 17,
      "id": "64f7aaef",
      "metadata": {
        "id": "64f7aaef",
        "outputId": "45129c49-03de-45e7-f333-5c22e76aa114",
        "colab": {
          "base_uri": "https://localhost:8080/"
        }
      },
      "outputs": [
        {
          "output_type": "stream",
          "name": "stdout",
          "text": [
            "Korba\n",
            "Bilaspur\n",
            "Raipur\n",
            "Patna\n",
            "Siwan\n"
          ]
        }
      ],
      "source": [
        "for city in location:\n",
        "    print(city)"
      ]
    },
    {
      "cell_type": "code",
      "execution_count": 18,
      "id": "e40d3c6a",
      "metadata": {
        "id": "e40d3c6a"
      },
      "outputs": [],
      "source": [
        "#lets apply for numbers\n",
        "salary=[1000,2000,3000,5000,7000,1000,2000,9000]"
      ]
    },
    {
      "cell_type": "code",
      "execution_count": 19,
      "id": "62b75d87",
      "metadata": {
        "id": "62b75d87",
        "outputId": "57a1ec34-bb4e-438c-8a67-24e053059737",
        "colab": {
          "base_uri": "https://localhost:8080/"
        }
      },
      "outputs": [
        {
          "output_type": "stream",
          "name": "stdout",
          "text": [
            "1000\n",
            "2000\n",
            "3000\n",
            "5000\n",
            "7000\n",
            "1000\n",
            "2000\n",
            "9000\n"
          ]
        }
      ],
      "source": [
        "for money in salary:\n",
        "    print(money)"
      ]
    },
    {
      "cell_type": "code",
      "execution_count": 20,
      "id": "acac4695",
      "metadata": {
        "id": "acac4695"
      },
      "outputs": [],
      "source": [
        "#Lets see anothe example of for loop with branching statement."
      ]
    },
    {
      "cell_type": "code",
      "execution_count": 21,
      "id": "e856c956",
      "metadata": {
        "id": "e856c956"
      },
      "outputs": [],
      "source": [
        "student_score=[78,98,65,45,89,87,32,65,54,98,89,78,69,58,47]"
      ]
    },
    {
      "cell_type": "code",
      "execution_count": 22,
      "id": "06d03536",
      "metadata": {
        "id": "06d03536",
        "outputId": "529b7845-c613-4c74-9562-f342a14e0b30",
        "colab": {
          "base_uri": "https://localhost:8080/"
        }
      },
      "outputs": [
        {
          "output_type": "stream",
          "name": "stdout",
          "text": [
            "78 First class\n",
            "98 Distiction\n",
            "65 First class\n",
            "45 Jsut Pass\n",
            "89 Second class\n",
            "87 Second class\n",
            "32 You are fail, please try next time\n",
            "65 First class\n",
            "54 Second class\n",
            "98 Distiction\n",
            "89 Second class\n",
            "78 First class\n",
            "69 First class\n",
            "58 Second class\n",
            "47 Second class\n"
          ]
        }
      ],
      "source": [
        "#what we have to do in the above cell. we have to create a grades for student_score in abovr list.\n",
        "for marks in student_score:\n",
        "    if marks>90:\n",
        "        if marks>85:\n",
        "            print(marks , \"Distiction\")\n",
        "        else :\n",
        "            print(marks , \"First class\")\n",
        "    elif marks >60 and marks<85 :\n",
        "        print(marks ,\"First class\")\n",
        "    elif marks>45:\n",
        "        print(marks ,\"Second class\")\n",
        "    elif marks >35:\n",
        "        print(marks ,\"Jsut Pass\")\n",
        "    else:\n",
        "        print(marks ,\"You are fail, please try next time\")\n"
      ]
    },
    {
      "cell_type": "code",
      "execution_count": 23,
      "id": "83c8653f",
      "metadata": {
        "id": "83c8653f"
      },
      "outputs": [],
      "source": [
        "# Lets See, What is list comprehension ? List comprehension is a shorter syntax when you want to create a new list  based ,-\n",
        "# on the values of existing list."
      ]
    },
    {
      "cell_type": "code",
      "execution_count": 24,
      "id": "27d50149",
      "metadata": {
        "id": "27d50149"
      },
      "outputs": [],
      "source": [
        "salary=[1000,2000,3000,5000,7000,1000,2000,9000]\n",
        "#then apply list comprehension."
      ]
    },
    {
      "cell_type": "code",
      "execution_count": 25,
      "id": "e02319ac",
      "metadata": {
        "id": "e02319ac"
      },
      "outputs": [],
      "source": [
        "sal=[val for val in salary if val==2000]"
      ]
    },
    {
      "cell_type": "code",
      "execution_count": 26,
      "id": "ef0a0338",
      "metadata": {
        "id": "ef0a0338",
        "outputId": "d41bc6d8-7be2-4d96-b459-cd96f38ecbc2",
        "colab": {
          "base_uri": "https://localhost:8080/"
        }
      },
      "outputs": [
        {
          "output_type": "execute_result",
          "data": {
            "text/plain": [
              "[2000, 2000]"
            ]
          },
          "metadata": {},
          "execution_count": 26
        }
      ],
      "source": [
        "sal"
      ]
    },
    {
      "cell_type": "code",
      "execution_count": 27,
      "id": "28098dd4",
      "metadata": {
        "id": "28098dd4"
      },
      "outputs": [],
      "source": [
        "# for loop with else\n",
        "\n",
        "#lets see how we can use for loop with else method.  - A for loop have an optional else block,as well the else part is executed\n",
        "# ,if the items in the sequence used in for loop exhaust. break statement ,can be used to stop a for loop ,in such case the else\n",
        "# part is ignored     ,   Hence a for loop else part runs when not break method occurs.\n"
      ]
    },
    {
      "cell_type": "code",
      "execution_count": 28,
      "id": "7433656a",
      "metadata": {
        "id": "7433656a",
        "outputId": "913e45d1-51a6-4586-ccf1-827bd8987cd0",
        "colab": {
          "base_uri": "https://localhost:8080/"
        }
      },
      "outputs": [
        {
          "output_type": "stream",
          "name": "stdout",
          "text": [
            "Multiplication table for 2\n",
            "2\n",
            "4\n",
            "6\n",
            "8\n",
            "10\n",
            "12\n",
            "14\n",
            "16\n",
            "18\n",
            "20\n",
            "\n",
            "\n",
            "Multiplication table for 3\n",
            "3\n",
            "6\n",
            "9\n",
            "12\n",
            "15\n",
            "18\n",
            "21\n",
            "24\n",
            "27\n",
            "30\n",
            "\n",
            "\n",
            "Multiplication table for 4\n",
            "4\n",
            "8\n",
            "12\n",
            "16\n",
            "20\n",
            "24\n",
            "28\n",
            "32\n",
            "36\n",
            "40\n",
            "\n",
            "\n",
            "******************************\n",
            "Thats all\n",
            "******************************\n"
          ]
        }
      ],
      "source": [
        "#Print multiplication table with for loop with else.\n",
        "\n",
        "\n",
        "for num in range(2,5):\n",
        "    print(\"Multiplication table for\",num)\n",
        "    for i in range(1,11):\n",
        "        print(num*i)\n",
        "        if i ==10:\n",
        "            print( \"\\n\" )\n",
        "else:\n",
        "    print(\"*\" * 30)\n",
        "    print(\"Thats all\")\n",
        "    print(\"*\" * 30)"
      ]
    },
    {
      "cell_type": "code",
      "execution_count": 29,
      "id": "11023bcc",
      "metadata": {
        "id": "11023bcc",
        "outputId": "9d9426d2-9450-4756-88ce-6695cbb02e3a",
        "colab": {
          "base_uri": "https://localhost:8080/"
        }
      },
      "outputs": [
        {
          "output_type": "stream",
          "name": "stdout",
          "text": [
            "Enter Number which one you want a table5\n",
            "5 X 1 = 5\n",
            "5 X 2 = 10\n",
            "5 X 3 = 15\n",
            "5 X 4 = 20\n",
            "5 X 5 = 25\n",
            "5 X 6 = 30\n",
            "5 X 7 = 35\n",
            "5 X 8 = 40\n",
            "5 X 9 = 45\n",
            "5 X 10 = 50\n"
          ]
        }
      ],
      "source": [
        "#Lets se another way of print multiplication table.\n",
        "num=int(input(\"Enter Number which one you want a table\"))\n",
        "\n",
        "for i in range(1,11):\n",
        "    print(str(num), 'X' ,str(i),\"=\",str(num*i))"
      ]
    },
    {
      "cell_type": "code",
      "execution_count": 30,
      "id": "03218542",
      "metadata": {
        "id": "03218542"
      },
      "outputs": [],
      "source": [
        "#Lets see what is F string ? Formatted string litrel . is use for F-strings can also be used to apply number\n",
        "#- formatting directly to the values.\n",
        "#Lets print multiplication table with f string."
      ]
    },
    {
      "cell_type": "code",
      "execution_count": 31,
      "id": "30c90b6a",
      "metadata": {
        "id": "30c90b6a",
        "outputId": "fde43b6c-f4c5-4a80-880e-808ea5b60bcc",
        "colab": {
          "base_uri": "https://localhost:8080/"
        }
      },
      "outputs": [
        {
          "output_type": "stream",
          "name": "stdout",
          "text": [
            "Enter Number which one you want a table6\n",
            "6X1=6\n",
            "6X2=12\n",
            "6X3=18\n",
            "6X4=24\n",
            "6X5=30\n",
            "6X6=36\n",
            "6X7=42\n",
            "6X8=48\n",
            "6X9=54\n",
            "6X10=60\n"
          ]
        }
      ],
      "source": [
        "num=int(input(\"Enter Number which one you want a table\"))\n",
        "\n",
        "for i in range(1,11):\n",
        "    print(f\"{num}X{i}={num*i}\")   #We have to write varaibles in curly brackets and other is whithour curly brackets."
      ]
    },
    {
      "cell_type": "code",
      "execution_count": 32,
      "id": "c94bab6b",
      "metadata": {
        "id": "c94bab6b"
      },
      "outputs": [],
      "source": [
        "#Now Start What is While Loop ? In while loop, the condition is checked first if it evaluate to true , the body of the loop is executed\n",
        "# , otherwise not.   In the loop entered , the process of [conditon executed] is continued until the condition become false .\n",
        "\n",
        "#Python intrepret any non zero as True , None and zero are interpreted as False.\n",
        "\n",
        "#Syntax of while loop"
      ]
    },
    {
      "cell_type": "code",
      "execution_count": 33,
      "id": "247abf2e",
      "metadata": {
        "id": "247abf2e",
        "outputId": "17d6d802-9495-4ab7-935a-951a643e5b91",
        "colab": {
          "base_uri": "https://localhost:8080/"
        }
      },
      "outputs": [
        {
          "output_type": "stream",
          "name": "stdout",
          "text": [
            "0\n",
            "1\n",
            "2\n",
            "3\n",
            "4\n",
            "5\n"
          ]
        }
      ],
      "source": [
        "i=0\n",
        "while i<=5:\n",
        "    print(i)\n",
        "    i=i+1"
      ]
    },
    {
      "cell_type": "code",
      "execution_count": 34,
      "id": "8ef7527e",
      "metadata": {
        "id": "8ef7527e"
      },
      "outputs": [],
      "source": [
        "#Lets say you have to set an alarm and how its work.\n",
        "#First we havt to import time.\n",
        "\n",
        "import time"
      ]
    },
    {
      "cell_type": "code",
      "execution_count": 35,
      "id": "da86f01e",
      "metadata": {
        "id": "da86f01e"
      },
      "outputs": [],
      "source": [
        "result =time.localtime()"
      ]
    },
    {
      "cell_type": "code",
      "execution_count": 36,
      "id": "ff5a2ee1",
      "metadata": {
        "id": "ff5a2ee1",
        "outputId": "9fda3e1a-a21f-444e-a95c-43768e9ea99d",
        "colab": {
          "base_uri": "https://localhost:8080/"
        }
      },
      "outputs": [
        {
          "output_type": "execute_result",
          "data": {
            "text/plain": [
              "time.struct_time(tm_year=2024, tm_mon=7, tm_mday=23, tm_hour=16, tm_min=3, tm_sec=9, tm_wday=1, tm_yday=205, tm_isdst=0)"
            ]
          },
          "metadata": {},
          "execution_count": 36
        }
      ],
      "source": [
        "result"
      ]
    },
    {
      "cell_type": "code",
      "execution_count": 37,
      "id": "dc4206fa",
      "metadata": {
        "id": "dc4206fa"
      },
      "outputs": [],
      "source": [
        "# Now the time is shown, now we havt to set an alarm .let see how we set alarm with the help of while loop."
      ]
    },
    {
      "cell_type": "code",
      "execution_count": null,
      "id": "b13f9ad1",
      "metadata": {
        "id": "b13f9ad1",
        "outputId": "97ca3acd-913a-49b9-f324-cc0526647261"
      },
      "outputs": [
        {
          "name": "stdout",
          "output_type": "stream",
          "text": [
            "Wake up buddy\n"
          ]
        }
      ],
      "source": [
        "while True:\n",
        "    result=time.localtime()\n",
        "    if result.tm_hour==11 and result.tm_min==14:\n",
        "        print(\"Wake up buddy\")\n",
        "        break"
      ]
    },
    {
      "cell_type": "code",
      "execution_count": 38,
      "id": "59a74bea",
      "metadata": {
        "id": "59a74bea"
      },
      "outputs": [],
      "source": [
        "#enumerate,zip,unzip\n",
        "#Lets Start with enumerate.\n",
        "#What is enumerate ? Enumerate() allows us to iterate through a sequence but it keeps track of both the index and the element.\n"
      ]
    },
    {
      "cell_type": "code",
      "execution_count": 39,
      "id": "5a66652a",
      "metadata": {
        "id": "5a66652a"
      },
      "outputs": [],
      "source": [
        "student=[\"Saurav\",\"Gaurav\",\"Ramesh\",\"Suresh\",\"Mukesh\"]"
      ]
    },
    {
      "cell_type": "code",
      "execution_count": 40,
      "id": "faad6de0",
      "metadata": {
        "id": "faad6de0",
        "outputId": "6e8585ea-334e-473b-d710-f859f5168e0d",
        "colab": {
          "base_uri": "https://localhost:8080/"
        }
      },
      "outputs": [
        {
          "output_type": "stream",
          "name": "stdout",
          "text": [
            "(0, 'Saurav')\n",
            "(1, 'Gaurav')\n",
            "(2, 'Ramesh')\n",
            "(3, 'Suresh')\n",
            "(4, 'Mukesh')\n"
          ]
        }
      ],
      "source": [
        "for i in enumerate(student):\n",
        "    print(i)"
      ]
    },
    {
      "cell_type": "code",
      "execution_count": 41,
      "id": "21e313c4",
      "metadata": {
        "id": "21e313c4"
      },
      "outputs": [],
      "source": [
        "#If we want to start numbering from our own number ? How it will do."
      ]
    },
    {
      "cell_type": "code",
      "execution_count": 42,
      "id": "cf93bcf4",
      "metadata": {
        "id": "cf93bcf4"
      },
      "outputs": [],
      "source": [
        "student=[\"Saurav\",\"Gaurav\",\"Ramesh\",\"Suresh\",\"Mukesh\"]"
      ]
    },
    {
      "cell_type": "code",
      "execution_count": 43,
      "id": "078a8311",
      "metadata": {
        "id": "078a8311",
        "outputId": "0f1fac5f-c5d9-49ea-f90c-d74482e84a2e",
        "colab": {
          "base_uri": "https://localhost:8080/"
        }
      },
      "outputs": [
        {
          "output_type": "stream",
          "name": "stdout",
          "text": [
            "1 Saurav\n",
            "2 Gaurav\n",
            "3 Ramesh\n",
            "4 Suresh\n",
            "5 Mukesh\n"
          ]
        }
      ],
      "source": [
        "for i,name in enumerate(student,1):\n",
        "    print(i,name)"
      ]
    },
    {
      "cell_type": "code",
      "execution_count": 44,
      "id": "ff6b1a2e",
      "metadata": {
        "id": "ff6b1a2e"
      },
      "outputs": [],
      "source": [
        "#what is zip method ? zip method use when we join a two list."
      ]
    },
    {
      "cell_type": "code",
      "execution_count": 45,
      "id": "771f7308",
      "metadata": {
        "id": "771f7308"
      },
      "outputs": [],
      "source": [
        "student_name=[\"Ramesh\",\"Riya\",\"Yashu\",\"Rohit\",\"Amisha\"]\n",
        "student_marks=[54,98,99,100,34]"
      ]
    },
    {
      "cell_type": "code",
      "execution_count": 46,
      "id": "226f9543",
      "metadata": {
        "id": "226f9543"
      },
      "outputs": [],
      "source": [
        "student_details=list(zip(student_name,student_marks))"
      ]
    },
    {
      "cell_type": "code",
      "execution_count": 47,
      "id": "e0f8e653",
      "metadata": {
        "id": "e0f8e653",
        "outputId": "58cbaaf1-cc0d-474e-a2f8-b2a4e2ca300b",
        "colab": {
          "base_uri": "https://localhost:8080/"
        }
      },
      "outputs": [
        {
          "output_type": "execute_result",
          "data": {
            "text/plain": [
              "[('Ramesh', 54), ('Riya', 98), ('Yashu', 99), ('Rohit', 100), ('Amisha', 34)]"
            ]
          },
          "metadata": {},
          "execution_count": 47
        }
      ],
      "source": [
        "student_details"
      ]
    },
    {
      "cell_type": "code",
      "execution_count": 48,
      "id": "265f266a",
      "metadata": {
        "id": "265f266a"
      },
      "outputs": [],
      "source": [
        "#and How to Unzip.\n",
        "\n",
        "# use * for unziping"
      ]
    },
    {
      "cell_type": "code",
      "execution_count": 49,
      "id": "0114fd78",
      "metadata": {
        "id": "0114fd78"
      },
      "outputs": [],
      "source": [
        "name,marks=list(zip(*student_details))"
      ]
    },
    {
      "cell_type": "code",
      "execution_count": 50,
      "id": "72b01ed5",
      "metadata": {
        "id": "72b01ed5",
        "outputId": "948f4ccd-43b7-41b3-d93f-cf87c8027bbc",
        "colab": {
          "base_uri": "https://localhost:8080/"
        }
      },
      "outputs": [
        {
          "output_type": "execute_result",
          "data": {
            "text/plain": [
              "('Ramesh', 'Riya', 'Yashu', 'Rohit', 'Amisha')"
            ]
          },
          "metadata": {},
          "execution_count": 50
        }
      ],
      "source": [
        "name"
      ]
    },
    {
      "cell_type": "code",
      "execution_count": 51,
      "id": "26d96d37",
      "metadata": {
        "id": "26d96d37",
        "outputId": "e04f6b3d-f1d7-4612-f313-ebf354565ff2",
        "colab": {
          "base_uri": "https://localhost:8080/"
        }
      },
      "outputs": [
        {
          "output_type": "execute_result",
          "data": {
            "text/plain": [
              "(54, 98, 99, 100, 34)"
            ]
          },
          "metadata": {},
          "execution_count": 51
        }
      ],
      "source": [
        "marks"
      ]
    },
    {
      "cell_type": "code",
      "execution_count": 52,
      "id": "f4239ba3",
      "metadata": {
        "id": "f4239ba3"
      },
      "outputs": [],
      "source": [
        "#Lets know one thing How we can do enumerate and zip in same time.\n"
      ]
    },
    {
      "cell_type": "code",
      "execution_count": 53,
      "id": "b81ddc96",
      "metadata": {
        "id": "b81ddc96"
      },
      "outputs": [],
      "source": [
        "student_name=[\"Ramesh\",\"Riya\",\"Yashu\",\"Rohit\",\"Amisha\"]\n",
        "student_marks=[54,98,99,100,34]"
      ]
    },
    {
      "cell_type": "code",
      "execution_count": 54,
      "id": "9e82953c",
      "metadata": {
        "id": "9e82953c",
        "outputId": "148ff148-df37-4900-dcdb-2a2df278b5db",
        "colab": {
          "base_uri": "https://localhost:8080/"
        }
      },
      "outputs": [
        {
          "output_type": "stream",
          "name": "stdout",
          "text": [
            "1 Ramesh 54\n",
            "2 Riya 98\n",
            "3 Yashu 99\n",
            "4 Rohit 100\n",
            "5 Amisha 34\n"
          ]
        }
      ],
      "source": [
        "for i,(name,marks) in enumerate(zip(student_name,student_marks),1):\n",
        "    print(i,name,marks)"
      ]
    },
    {
      "cell_type": "code",
      "execution_count": 55,
      "id": "576d34f4",
      "metadata": {
        "id": "576d34f4"
      },
      "outputs": [],
      "source": [
        "#what is break statement- The Break Statement used to terminate the loop, it is used in loop and swith case.\n",
        "# Keyword \"break\" used in Break Statement , contol is tranfer outside."
      ]
    },
    {
      "cell_type": "code",
      "execution_count": 56,
      "id": "4ff41a58",
      "metadata": {
        "id": "4ff41a58"
      },
      "outputs": [],
      "source": [
        "salary=[8000,5000,6000,7000,3000]"
      ]
    },
    {
      "cell_type": "code",
      "execution_count": 57,
      "id": "df8fc4ea",
      "metadata": {
        "id": "df8fc4ea",
        "outputId": "be6df81b-7d8e-4d2a-af14-2b0c56dce219",
        "colab": {
          "base_uri": "https://localhost:8080/"
        }
      },
      "outputs": [
        {
          "output_type": "stream",
          "name": "stdout",
          "text": [
            "8000\n",
            "5000\n",
            "6000\n"
          ]
        }
      ],
      "source": [
        "for val in salary:\n",
        "    if val==7000:\n",
        "        break\n",
        "    print(val)"
      ]
    },
    {
      "cell_type": "code",
      "execution_count": 58,
      "id": "92e704c4",
      "metadata": {
        "id": "92e704c4"
      },
      "outputs": [],
      "source": [
        "# Continue Statement- Continue statement is used to continue the next interation in the loop, its only used in loop, keyword\n",
        "#\"continue\" used for continue statement , control remains in the same loop."
      ]
    },
    {
      "cell_type": "code",
      "execution_count": 59,
      "id": "eee99960",
      "metadata": {
        "id": "eee99960"
      },
      "outputs": [],
      "source": [
        "salary=[8000,5000,6000,7000,3000]"
      ]
    },
    {
      "cell_type": "code",
      "execution_count": 60,
      "id": "c39c7b1d",
      "metadata": {
        "id": "c39c7b1d",
        "outputId": "99103594-56b1-4b67-e6f7-9369081a5919",
        "colab": {
          "base_uri": "https://localhost:8080/"
        }
      },
      "outputs": [
        {
          "output_type": "stream",
          "name": "stdout",
          "text": [
            "8000\n",
            "5000\n",
            "7000\n",
            "3000\n"
          ]
        }
      ],
      "source": [
        "for val in salary:\n",
        "    if val==6000:\n",
        "        continue\n",
        "    print(val)"
      ]
    },
    {
      "cell_type": "code",
      "execution_count": 61,
      "id": "c0796663",
      "metadata": {
        "id": "c0796663"
      },
      "outputs": [],
      "source": [
        "#Lets see how to use break and continue statements together."
      ]
    },
    {
      "cell_type": "code",
      "execution_count": 62,
      "id": "6266f027",
      "metadata": {
        "id": "6266f027",
        "outputId": "b3827a75-2fee-49d1-b66c-02e3c0d3f8f0",
        "colab": {
          "base_uri": "https://localhost:8080/"
        }
      },
      "outputs": [
        {
          "output_type": "stream",
          "name": "stdout",
          "text": [
            "S\n",
            "t\n",
            "r\n",
            "n\n",
            "g\n",
            "e\n"
          ]
        }
      ],
      "source": [
        "for val in \"Stringexample\":\n",
        "    if val == \"i\":\n",
        "        continue\n",
        "    else:\n",
        "        if val==\"x\":\n",
        "            break\n",
        "        print(val)"
      ]
    }
  ],
  "metadata": {
    "kernelspec": {
      "display_name": "Python 3 (ipykernel)",
      "language": "python",
      "name": "python3"
    },
    "language_info": {
      "codemirror_mode": {
        "name": "ipython",
        "version": 3
      },
      "file_extension": ".py",
      "mimetype": "text/x-python",
      "name": "python",
      "nbconvert_exporter": "python",
      "pygments_lexer": "ipython3",
      "version": "3.10.12"
    },
    "colab": {
      "provenance": []
    }
  },
  "nbformat": 4,
  "nbformat_minor": 5
}