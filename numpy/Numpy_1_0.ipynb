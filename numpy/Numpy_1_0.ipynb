{
  "cells": [
    {
      "cell_type": "code",
      "execution_count": 1,
      "id": "337f7dfa",
      "metadata": {
        "id": "337f7dfa"
      },
      "outputs": [],
      "source": [
        "### numpy ##\n",
        "# So, what is numpy ? Numpy means Numerical Python\n",
        "# we have to import numpy as sqlite3."
      ]
    },
    {
      "cell_type": "code",
      "execution_count": 2,
      "id": "a4bce811",
      "metadata": {
        "id": "a4bce811"
      },
      "outputs": [],
      "source": [
        "import numpy as np"
      ]
    },
    {
      "cell_type": "code",
      "execution_count": 3,
      "id": "450bb0d6",
      "metadata": {
        "id": "450bb0d6",
        "outputId": "923ef578-3d75-462d-d8c6-8aba61e42a0f",
        "colab": {
          "base_uri": "https://localhost:8080/"
        }
      },
      "outputs": [
        {
          "output_type": "stream",
          "name": "stdout",
          "text": [
            "['ALLOW_THREADS', 'BUFSIZE', 'CLIP', 'DataSource', 'ERR_CALL', 'ERR_DEFAULT', 'ERR_IGNORE', 'ERR_LOG', 'ERR_PRINT', 'ERR_RAISE', 'ERR_WARN', 'FLOATING_POINT_SUPPORT', 'FPE_DIVIDEBYZERO', 'FPE_INVALID', 'FPE_OVERFLOW', 'FPE_UNDERFLOW', 'False_', 'Inf', 'Infinity', 'MAXDIMS', 'MAY_SHARE_BOUNDS', 'MAY_SHARE_EXACT', 'NAN', 'NINF', 'NZERO', 'NaN', 'PINF', 'PZERO', 'RAISE', 'RankWarning', 'SHIFT_DIVIDEBYZERO', 'SHIFT_INVALID', 'SHIFT_OVERFLOW', 'SHIFT_UNDERFLOW', 'ScalarType', 'True_', 'UFUNC_BUFSIZE_DEFAULT', 'UFUNC_PYVALS_NAME', 'WRAP', '_CopyMode', '_NoValue', '_UFUNC_API', '__NUMPY_SETUP__', '__all__', '__builtins__', '__cached__', '__config__', '__deprecated_attrs__', '__dir__', '__doc__', '__expired_functions__', '__file__', '__former_attrs__', '__future_scalars__', '__getattr__', '__git_version__', '__loader__', '__name__', '__package__', '__path__', '__spec__', '__version__', '_add_newdoc_ufunc', '_builtins', '_distributor_init', '_financial_names', '_get_promotion_state', '_globals', '_int_extended_msg', '_mat', '_no_nep50_warning', '_pyinstaller_hooks_dir', '_pytesttester', '_set_promotion_state', '_specific_msg', '_typing', '_using_numpy2_behavior', '_utils', '_version', 'abs', 'absolute', 'add', 'add_docstring', 'add_newdoc', 'add_newdoc_ufunc', 'all', 'allclose', 'alltrue', 'amax', 'amin', 'angle', 'any', 'append', 'apply_along_axis', 'apply_over_axes', 'arange', 'arccos', 'arccosh', 'arcsin', 'arcsinh', 'arctan', 'arctan2', 'arctanh', 'argmax', 'argmin', 'argpartition', 'argsort', 'argwhere', 'around', 'array', 'array2string', 'array_equal', 'array_equiv', 'array_repr', 'array_split', 'array_str', 'asanyarray', 'asarray', 'asarray_chkfinite', 'ascontiguousarray', 'asfarray', 'asfortranarray', 'asmatrix', 'atleast_1d', 'atleast_2d', 'atleast_3d', 'average', 'bartlett', 'base_repr', 'binary_repr', 'bincount', 'bitwise_and', 'bitwise_not', 'bitwise_or', 'bitwise_xor', 'blackman', 'block', 'bmat', 'bool_', 'broadcast', 'broadcast_arrays', 'broadcast_shapes', 'broadcast_to', 'busday_count', 'busday_offset', 'busdaycalendar', 'byte', 'byte_bounds', 'bytes_', 'c_', 'can_cast', 'cast', 'cbrt', 'cdouble', 'ceil', 'cfloat', 'char', 'character', 'chararray', 'choose', 'clip', 'clongdouble', 'clongfloat', 'column_stack', 'common_type', 'compare_chararrays', 'compat', 'complex128', 'complex256', 'complex64', 'complex_', 'complexfloating', 'compress', 'concatenate', 'conj', 'conjugate', 'convolve', 'copy', 'copysign', 'copyto', 'corrcoef', 'correlate', 'cos', 'cosh', 'count_nonzero', 'cov', 'cross', 'csingle', 'ctypeslib', 'cumprod', 'cumproduct', 'cumsum', 'datetime64', 'datetime_as_string', 'datetime_data', 'deg2rad', 'degrees', 'delete', 'deprecate', 'deprecate_with_doc', 'diag', 'diag_indices', 'diag_indices_from', 'diagflat', 'diagonal', 'diff', 'digitize', 'disp', 'divide', 'divmod', 'dot', 'double', 'dsplit', 'dstack', 'dtype', 'dtypes', 'e', 'ediff1d', 'einsum', 'einsum_path', 'emath', 'empty', 'empty_like', 'equal', 'errstate', 'euler_gamma', 'exceptions', 'exp', 'exp2', 'expand_dims', 'expm1', 'extract', 'eye', 'fabs', 'fastCopyAndTranspose', 'fft', 'fill_diagonal', 'find_common_type', 'finfo', 'fix', 'flatiter', 'flatnonzero', 'flexible', 'flip', 'fliplr', 'flipud', 'float128', 'float16', 'float32', 'float64', 'float_', 'float_power', 'floating', 'floor', 'floor_divide', 'fmax', 'fmin', 'fmod', 'format_float_positional', 'format_float_scientific', 'format_parser', 'frexp', 'from_dlpack', 'frombuffer', 'fromfile', 'fromfunction', 'fromiter', 'frompyfunc', 'fromregex', 'fromstring', 'full', 'full_like', 'gcd', 'generic', 'genfromtxt', 'geomspace', 'get_array_wrap', 'get_include', 'get_printoptions', 'getbufsize', 'geterr', 'geterrcall', 'geterrobj', 'gradient', 'greater', 'greater_equal', 'half', 'hamming', 'hanning', 'heaviside', 'histogram', 'histogram2d', 'histogram_bin_edges', 'histogramdd', 'hsplit', 'hstack', 'hypot', 'i0', 'identity', 'iinfo', 'imag', 'in1d', 'index_exp', 'indices', 'inexact', 'inf', 'info', 'infty', 'inner', 'insert', 'int16', 'int32', 'int64', 'int8', 'int_', 'intc', 'integer', 'interp', 'intersect1d', 'intp', 'invert', 'is_busday', 'isclose', 'iscomplex', 'iscomplexobj', 'isfinite', 'isfortran', 'isin', 'isinf', 'isnan', 'isnat', 'isneginf', 'isposinf', 'isreal', 'isrealobj', 'isscalar', 'issctype', 'issubclass_', 'issubdtype', 'issubsctype', 'iterable', 'ix_', 'kaiser', 'kernel_version', 'kron', 'lcm', 'ldexp', 'left_shift', 'less', 'less_equal', 'lexsort', 'lib', 'linalg', 'linspace', 'little_endian', 'load', 'loadtxt', 'log', 'log10', 'log1p', 'log2', 'logaddexp', 'logaddexp2', 'logical_and', 'logical_not', 'logical_or', 'logical_xor', 'logspace', 'longcomplex', 'longdouble', 'longfloat', 'longlong', 'lookfor', 'ma', 'mask_indices', 'mat', 'matmul', 'matrix', 'max', 'maximum', 'maximum_sctype', 'may_share_memory', 'mean', 'median', 'memmap', 'meshgrid', 'mgrid', 'min', 'min_scalar_type', 'minimum', 'mintypecode', 'mod', 'modf', 'moveaxis', 'msort', 'multiply', 'nan', 'nan_to_num', 'nanargmax', 'nanargmin', 'nancumprod', 'nancumsum', 'nanmax', 'nanmean', 'nanmedian', 'nanmin', 'nanpercentile', 'nanprod', 'nanquantile', 'nanstd', 'nansum', 'nanvar', 'nbytes', 'ndarray', 'ndenumerate', 'ndim', 'ndindex', 'nditer', 'negative', 'nested_iters', 'newaxis', 'nextafter', 'nonzero', 'not_equal', 'numarray', 'number', 'obj2sctype', 'object_', 'ogrid', 'oldnumeric', 'ones', 'ones_like', 'outer', 'packbits', 'pad', 'partition', 'percentile', 'pi', 'piecewise', 'place', 'poly', 'poly1d', 'polyadd', 'polyder', 'polydiv', 'polyfit', 'polyint', 'polymul', 'polynomial', 'polysub', 'polyval', 'positive', 'power', 'printoptions', 'prod', 'product', 'promote_types', 'ptp', 'put', 'put_along_axis', 'putmask', 'quantile', 'r_', 'rad2deg', 'radians', 'random', 'ravel', 'ravel_multi_index', 'real', 'real_if_close', 'rec', 'recarray', 'recfromcsv', 'recfromtxt', 'reciprocal', 'record', 'remainder', 'repeat', 'require', 'reshape', 'resize', 'result_type', 'right_shift', 'rint', 'roll', 'rollaxis', 'roots', 'rot90', 'round', 'round_', 'row_stack', 's_', 'safe_eval', 'save', 'savetxt', 'savez', 'savez_compressed', 'sctype2char', 'sctypeDict', 'sctypes', 'searchsorted', 'select', 'set_numeric_ops', 'set_printoptions', 'set_string_function', 'setbufsize', 'setdiff1d', 'seterr', 'seterrcall', 'seterrobj', 'setxor1d', 'shape', 'shares_memory', 'short', 'show_config', 'show_runtime', 'sign', 'signbit', 'signedinteger', 'sin', 'sinc', 'single', 'singlecomplex', 'sinh', 'size', 'sometrue', 'sort', 'sort_complex', 'source', 'spacing', 'split', 'sqrt', 'square', 'squeeze', 'stack', 'std', 'str_', 'string_', 'subtract', 'sum', 'swapaxes', 'take', 'take_along_axis', 'tan', 'tanh', 'tensordot', 'test', 'testing', 'tile', 'timedelta64', 'trace', 'tracemalloc_domain', 'transpose', 'trapz', 'tri', 'tril', 'tril_indices', 'tril_indices_from', 'trim_zeros', 'triu', 'triu_indices', 'triu_indices_from', 'true_divide', 'trunc', 'typecodes', 'typename', 'ubyte', 'ufunc', 'uint', 'uint16', 'uint32', 'uint64', 'uint8', 'uintc', 'uintp', 'ulonglong', 'unicode_', 'union1d', 'unique', 'unpackbits', 'unravel_index', 'unsignedinteger', 'unwrap', 'ushort', 'vander', 'var', 'vdot', 'vectorize', 'version', 'void', 'vsplit', 'vstack', 'where', 'who', 'zeros', 'zeros_like']\n"
          ]
        }
      ],
      "source": [
        "print(dir(np))  # This all are the numpy fucntion but as a datascientis we have to use few."
      ]
    },
    {
      "cell_type": "code",
      "execution_count": 4,
      "id": "79159360",
      "metadata": {
        "id": "79159360",
        "outputId": "036bbba9-845c-4bdc-a591-83debedda7f7",
        "colab": {
          "base_uri": "https://localhost:8080/"
        }
      },
      "outputs": [
        {
          "output_type": "execute_result",
          "data": {
            "text/plain": [
              "3.1622776601683795"
            ]
          },
          "metadata": {},
          "execution_count": 4
        }
      ],
      "source": [
        "np.sqrt(10) # sqrt=square root"
      ]
    },
    {
      "cell_type": "code",
      "execution_count": 5,
      "id": "8432893d",
      "metadata": {
        "id": "8432893d",
        "outputId": "6a385e7b-ebcc-4972-9e53-0d0df15d6499",
        "colab": {
          "base_uri": "https://localhost:8080/"
        }
      },
      "outputs": [
        {
          "output_type": "stream",
          "name": "stdout",
          "text": [
            "Minimun  18\n"
          ]
        }
      ],
      "source": [
        "print(\"Minimun \",np.amin([25,30,57,18]))  # printing the minimum value"
      ]
    },
    {
      "cell_type": "code",
      "execution_count": 6,
      "id": "b1a2a6fc",
      "metadata": {
        "id": "b1a2a6fc",
        "outputId": "4fc5a6fd-0ce2-4db3-df4f-1159431c1341",
        "colab": {
          "base_uri": "https://localhost:8080/"
        }
      },
      "outputs": [
        {
          "output_type": "stream",
          "name": "stdout",
          "text": [
            "Maximum  57\n"
          ]
        }
      ],
      "source": [
        "print(\"Maximum \",np.amax([25,30,57,18])) # printing the maximum value"
      ]
    },
    {
      "cell_type": "code",
      "execution_count": 7,
      "id": "e98a771c",
      "metadata": {
        "id": "e98a771c"
      },
      "outputs": [],
      "source": [
        "#Rounded off to next number  using ceiling."
      ]
    },
    {
      "cell_type": "code",
      "execution_count": 8,
      "id": "33b82dcb",
      "metadata": {
        "id": "33b82dcb",
        "outputId": "f7a2c979-9c19-424f-8fd8-2cf792f9ad17",
        "colab": {
          "base_uri": "https://localhost:8080/"
        }
      },
      "outputs": [
        {
          "output_type": "execute_result",
          "data": {
            "text/plain": [
              "30.0"
            ]
          },
          "metadata": {},
          "execution_count": 8
        }
      ],
      "source": [
        "np.ceil(29.1) #its means when we use ceil they give roundfigured answer."
      ]
    },
    {
      "cell_type": "code",
      "execution_count": 9,
      "id": "64d69539",
      "metadata": {
        "id": "64d69539",
        "outputId": "cdfb4379-d7c7-4d39-8c9a-e9d606b90ab6",
        "colab": {
          "base_uri": "https://localhost:8080/"
        }
      },
      "outputs": [
        {
          "output_type": "execute_result",
          "data": {
            "text/plain": [
              "4.0"
            ]
          },
          "metadata": {},
          "execution_count": 9
        }
      ],
      "source": [
        "np.ceil(np.sqrt(10))"
      ]
    },
    {
      "cell_type": "code",
      "execution_count": 10,
      "id": "b55a9059",
      "metadata": {
        "id": "b55a9059",
        "outputId": "4089caf5-93d9-481a-c110-3917814832d5",
        "colab": {
          "base_uri": "https://localhost:8080/"
        }
      },
      "outputs": [
        {
          "output_type": "execute_result",
          "data": {
            "text/plain": [
              "10.0"
            ]
          },
          "metadata": {},
          "execution_count": 10
        }
      ],
      "source": [
        "np.ceil(np.sum(np.sqrt([5,10,15]))) #here we are first ceiling.then sum,then use square root."
      ]
    },
    {
      "cell_type": "code",
      "execution_count": 11,
      "id": "4be2acfd",
      "metadata": {
        "id": "4be2acfd",
        "outputId": "4b32974c-ab30-4db3-d2ac-20df70386925",
        "colab": {
          "base_uri": "https://localhost:8080/"
        }
      },
      "outputs": [
        {
          "output_type": "execute_result",
          "data": {
            "text/plain": [
              "array([ 5,  9, 13])"
            ]
          },
          "metadata": {},
          "execution_count": 11
        }
      ],
      "source": [
        "np.array([5,9,13])"
      ]
    },
    {
      "cell_type": "code",
      "execution_count": 12,
      "id": "893157da",
      "metadata": {
        "id": "893157da",
        "outputId": "e98584b0-17c3-4fe4-a34f-9a64352c5138",
        "colab": {
          "base_uri": "https://localhost:8080/"
        }
      },
      "outputs": [
        {
          "output_type": "execute_result",
          "data": {
            "text/plain": [
              "list"
            ]
          },
          "metadata": {},
          "execution_count": 12
        }
      ],
      "source": [
        "type([5,9,13]) # data type"
      ]
    },
    {
      "cell_type": "code",
      "execution_count": 13,
      "id": "5b964e30",
      "metadata": {
        "id": "5b964e30"
      },
      "outputs": [],
      "source": [
        "xyz=np.array([5,9,13]) # converting above list into array"
      ]
    },
    {
      "cell_type": "code",
      "execution_count": 14,
      "id": "3fe2cab7",
      "metadata": {
        "id": "3fe2cab7",
        "outputId": "ccfbdfb5-2467-452f-a4ee-0460ced832c8",
        "colab": {
          "base_uri": "https://localhost:8080/"
        }
      },
      "outputs": [
        {
          "output_type": "execute_result",
          "data": {
            "text/plain": [
              "numpy.ndarray"
            ]
          },
          "metadata": {},
          "execution_count": 14
        }
      ],
      "source": [
        "type(xyz)"
      ]
    },
    {
      "cell_type": "code",
      "execution_count": 15,
      "id": "df3d83a0",
      "metadata": {
        "id": "df3d83a0"
      },
      "outputs": [],
      "source": [
        "#Two Dimension"
      ]
    },
    {
      "cell_type": "code",
      "execution_count": 16,
      "id": "d87a32e0",
      "metadata": {
        "id": "d87a32e0",
        "outputId": "1cb1fe6a-d296-416e-b4ea-259841b1de8d",
        "colab": {
          "base_uri": "https://localhost:8080/"
        }
      },
      "outputs": [
        {
          "output_type": "stream",
          "name": "stdout",
          "text": [
            "Type -  int64\n",
            "\n",
            " [[1 2]\n",
            " [3 4]\n",
            " [4 5]]\n"
          ]
        }
      ],
      "source": [
        "a=np.array([[1,2],[3,4],[4,5]])\n",
        "print(\"Type - \",a.dtype)\n",
        "\n",
        "print(\"\\n\",a)"
      ]
    },
    {
      "cell_type": "code",
      "execution_count": 17,
      "id": "47a1461c",
      "metadata": {
        "id": "47a1461c",
        "outputId": "dfa58385-fa32-4bc8-ed20-bcfe75db4138",
        "colab": {
          "base_uri": "https://localhost:8080/"
        }
      },
      "outputs": [
        {
          "output_type": "execute_result",
          "data": {
            "text/plain": [
              "array([1., 2., 3.])"
            ]
          },
          "metadata": {},
          "execution_count": 17
        }
      ],
      "source": [
        "np.array([1,2,3],dtype=float)  #  dtype.conversion"
      ]
    },
    {
      "cell_type": "code",
      "execution_count": 18,
      "id": "63337c27",
      "metadata": {
        "id": "63337c27",
        "outputId": "7477deab-3398-46db-d9a7-e9306dba44b3",
        "colab": {
          "base_uri": "https://localhost:8080/"
        }
      },
      "outputs": [
        {
          "output_type": "stream",
          "name": "stdout",
          "text": [
            "[1 2]\n"
          ]
        }
      ],
      "source": [
        "a=[1,2]  #Covert a list into an array :\n",
        "c=np.array(a)\n",
        "print(c)"
      ]
    },
    {
      "cell_type": "code",
      "execution_count": 19,
      "id": "b226706f",
      "metadata": {
        "id": "b226706f",
        "outputId": "322e0b64-99a3-4e71-b7c8-6e9144fff79e",
        "colab": {
          "base_uri": "https://localhost:8080/"
        }
      },
      "outputs": [
        {
          "output_type": "execute_result",
          "data": {
            "text/plain": [
              "numpy.ndarray"
            ]
          },
          "metadata": {},
          "execution_count": 19
        }
      ],
      "source": [
        "type(c) # checking the data type of c"
      ]
    },
    {
      "cell_type": "code",
      "execution_count": 20,
      "id": "200c8d80",
      "metadata": {
        "id": "200c8d80",
        "outputId": "63c0d79c-9750-48f6-8b82-99e7b0a2a70c",
        "colab": {
          "base_uri": "https://localhost:8080/"
        }
      },
      "outputs": [
        {
          "output_type": "stream",
          "name": "stdout",
          "text": [
            "[1 2]\n"
          ]
        }
      ],
      "source": [
        "b=np.asarray(c)  #copy array into other variable\n",
        "print(b)"
      ]
    },
    {
      "cell_type": "code",
      "execution_count": 21,
      "id": "ace8f4ac",
      "metadata": {
        "id": "ace8f4ac"
      },
      "outputs": [],
      "source": [
        "# Data Types"
      ]
    },
    {
      "cell_type": "code",
      "execution_count": 22,
      "id": "ae7ad3bc",
      "metadata": {
        "id": "ae7ad3bc"
      },
      "outputs": [],
      "source": [
        "import numpy as np"
      ]
    },
    {
      "cell_type": "code",
      "execution_count": 23,
      "id": "5d1bf3f0",
      "metadata": {
        "id": "5d1bf3f0",
        "outputId": "57bd3a5f-0efd-4857-f2ad-10ad51ed16ff",
        "colab": {
          "base_uri": "https://localhost:8080/"
        }
      },
      "outputs": [
        {
          "output_type": "stream",
          "name": "stdout",
          "text": [
            "Type/class of this object :  <class 'numpy.ndarray'>\n",
            "Here is the marks \n",
            "------\n",
            " [[1 2 3]\n",
            " [4 5 6]\n",
            " [7 8 9]] \n",
            "-----------\n",
            "print dimension of this matrix :  2\n",
            "size of the matrix :  9\n",
            "Shape of the matrix :  (3, 3)\n",
            "Data Type of the matrix ;  int64\n"
          ]
        }
      ],
      "source": [
        "my_mat=[[1,2,3],[4,5,6],[7,8,9]]\n",
        "mat=np.array(my_mat)\n",
        "print(\"Type/class of this object : \",type(mat))\n",
        "print(\"Here is the marks \\n------\\n\",mat,\"\\n-----------\")\n",
        "print(\"print dimension of this matrix : \",mat.ndim)#ndim gives dimension,2 for a matrix and 1 for vector\n",
        "print(\"size of the matrix : \",mat.size)#size shows total number elements\n",
        "print(\"Shape of the matrix : \",mat.shape)#shape shows how many rows and column\n",
        "print(\"Data Type of the matrix ; \",mat.dtype)#shoes which type"
      ]
    },
    {
      "cell_type": "code",
      "execution_count": 24,
      "id": "b41ff29e",
      "metadata": {
        "id": "b41ff29e"
      },
      "outputs": [],
      "source": [
        "#arange and linespace\n",
        "#dont work with python range function"
      ]
    },
    {
      "cell_type": "code",
      "execution_count": 25,
      "id": "a503e0a8",
      "metadata": {
        "id": "a503e0a8"
      },
      "outputs": [],
      "source": [
        "a=np.arange(10)"
      ]
    },
    {
      "cell_type": "code",
      "execution_count": 26,
      "id": "7e62b3eb",
      "metadata": {
        "id": "7e62b3eb",
        "outputId": "b6dfeb2d-d608-44c9-e1e5-aef6a9897a31",
        "colab": {
          "base_uri": "https://localhost:8080/"
        }
      },
      "outputs": [
        {
          "output_type": "execute_result",
          "data": {
            "text/plain": [
              "array([0, 1, 2, 3, 4, 5, 6, 7, 8, 9])"
            ]
          },
          "metadata": {},
          "execution_count": 26
        }
      ],
      "source": [
        "a\n"
      ]
    },
    {
      "cell_type": "code",
      "execution_count": 27,
      "id": "9ea60a01",
      "metadata": {
        "id": "9ea60a01"
      },
      "outputs": [],
      "source": [
        "a=np.arange(10.5,20.4,2)  #in numpy range function also work with float number"
      ]
    },
    {
      "cell_type": "code",
      "execution_count": 28,
      "id": "adb93579",
      "metadata": {
        "id": "adb93579",
        "outputId": "50b90525-ab5f-4a31-eea3-bab852300273",
        "colab": {
          "base_uri": "https://localhost:8080/"
        }
      },
      "outputs": [
        {
          "output_type": "execute_result",
          "data": {
            "text/plain": [
              "array([10.5, 12.5, 14.5, 16.5, 18.5])"
            ]
          },
          "metadata": {},
          "execution_count": 28
        }
      ],
      "source": [
        "a"
      ]
    },
    {
      "cell_type": "code",
      "execution_count": 29,
      "id": "4cab84bd",
      "metadata": {
        "id": "4cab84bd",
        "outputId": "d717da43-c358-41eb-ab50-6409a1183e08",
        "colab": {
          "base_uri": "https://localhost:8080/"
        }
      },
      "outputs": [
        {
          "output_type": "stream",
          "name": "stdout",
          "text": [
            "Every 5th number from 50 in reverse order \n",
            " [50 45 40 35 30 25 20 15 10  5  0]\n"
          ]
        }
      ],
      "source": [
        "print(\"Every 5th number from 50 in reverse order \\n\",np.arange(50,-1,-5))  # reverse order"
      ]
    },
    {
      "cell_type": "code",
      "execution_count": 30,
      "id": "69ea62b2",
      "metadata": {
        "id": "69ea62b2",
        "outputId": "009b3684-cc76-4cfd-c6ad-cac429beae95",
        "colab": {
          "base_uri": "https://localhost:8080/"
        }
      },
      "outputs": [
        {
          "output_type": "stream",
          "name": "stdout",
          "text": [
            "linearly space numbers between 1 and 5 \n",
            "-------------\n",
            "[10.  17.5 25.  32.5 40. ]\n"
          ]
        }
      ],
      "source": [
        "print(\"linearly space numbers between 1 and 5 \\n-------------\")\n",
        "print(np.linspace(10,40,5))"
      ]
    },
    {
      "cell_type": "code",
      "execution_count": 31,
      "id": "7c5dd853",
      "metadata": {
        "id": "7c5dd853"
      },
      "outputs": [],
      "source": [
        "#Include end points and check space between the points\n",
        "#By default endpoint=True\n",
        "#Bydefaul retstep=False"
      ]
    },
    {
      "cell_type": "code",
      "execution_count": 32,
      "id": "e4985153",
      "metadata": {
        "id": "e4985153",
        "outputId": "d88c6ca7-11cc-4f8a-a440-a6b79ea3f6cf",
        "colab": {
          "base_uri": "https://localhost:8080/"
        }
      },
      "outputs": [
        {
          "output_type": "execute_result",
          "data": {
            "text/plain": [
              "(array([2.        , 2.33333333, 2.66666667, 3.        ]), 0.3333333333333333)"
            ]
          },
          "metadata": {},
          "execution_count": 32
        }
      ],
      "source": [
        "np.linspace(2.0,3.0,num=4,endpoint=True,retstep=True)"
      ]
    },
    {
      "cell_type": "code",
      "execution_count": 33,
      "id": "c06f181c",
      "metadata": {
        "id": "c06f181c",
        "outputId": "143f4e40-0d4c-44ac-93c6-e08958a1a645",
        "colab": {
          "base_uri": "https://localhost:8080/"
        }
      },
      "outputs": [
        {
          "output_type": "stream",
          "name": "stdout",
          "text": [
            "(array([ 4.5678 ,  5.13145,  5.6951 ,  6.25875,  6.8224 ,  7.38605,\n",
            "        7.9497 ,  8.51335,  9.077  ,  9.64065, 10.2043 , 10.76795,\n",
            "       11.3316 , 11.89525, 12.4589 , 13.02255, 13.5862 , 14.14985,\n",
            "       14.7135 , 15.27715, 15.8408 , 16.40445, 16.9681 , 17.53175,\n",
            "       18.0954 , 18.65905, 19.2227 , 19.78635, 20.35   , 20.91365,\n",
            "       21.4773 , 22.04095, 22.6046 , 23.16825, 23.7319 , 24.29555,\n",
            "       24.8592 , 25.42285, 25.9865 ]), 0.56365)\n"
          ]
        }
      ],
      "source": [
        "print(np.linspace(4.5678,25.9865,39,retstep=True))"
      ]
    },
    {
      "cell_type": "code",
      "execution_count": 34,
      "id": "649c795d",
      "metadata": {
        "id": "649c795d",
        "outputId": "ce065030-2d7a-4a76-fe9e-e026fc5b59bc",
        "colab": {
          "base_uri": "https://localhost:8080/"
        }
      },
      "outputs": [
        {
          "output_type": "stream",
          "name": "stdout",
          "text": [
            "vector of zeros \n",
            "------------\n",
            "[0. 0. 0. 0. 0.]\n"
          ]
        }
      ],
      "source": [
        "#Matrics creation\n",
        "print(\"vector of zeros \\n------------\")\n",
        "print(np.zeros([5]))"
      ]
    },
    {
      "cell_type": "code",
      "execution_count": 35,
      "id": "145a3c3c",
      "metadata": {
        "id": "145a3c3c",
        "outputId": "c191ffa2-fb6a-4b6d-df6b-eb1f6488f2c1",
        "colab": {
          "base_uri": "https://localhost:8080/"
        }
      },
      "outputs": [
        {
          "output_type": "stream",
          "name": "stdout",
          "text": [
            "vector of zeros \n",
            "---------\n",
            "[[0. 0. 0. 0. 0. 0.]\n",
            " [0. 0. 0. 0. 0. 0.]\n",
            " [0. 0. 0. 0. 0. 0.]\n",
            " [0. 0. 0. 0. 0. 0.]\n",
            " [0. 0. 0. 0. 0. 0.]]\n"
          ]
        }
      ],
      "source": [
        "print(\"vector of zeros \\n---------\")\n",
        "print(np.zeros([5,6]))"
      ]
    },
    {
      "cell_type": "code",
      "execution_count": 36,
      "id": "a78f087e",
      "metadata": {
        "id": "a78f087e",
        "outputId": "a0244c0b-9ce1-4a81-be59-3371301d7209",
        "colab": {
          "base_uri": "https://localhost:8080/"
        }
      },
      "outputs": [
        {
          "output_type": "stream",
          "name": "stdout",
          "text": [
            "vector of ones \n",
            "------------\n",
            "[[1. 1. 1. 1. 1. 1.]\n",
            " [1. 1. 1. 1. 1. 1.]\n",
            " [1. 1. 1. 1. 1. 1.]\n",
            " [1. 1. 1. 1. 1. 1.]\n",
            " [1. 1. 1. 1. 1. 1.]]\n"
          ]
        }
      ],
      "source": [
        "print(\"vector of ones \\n------------\") # triying with ones\n",
        "print(np.ones([5,6]))"
      ]
    },
    {
      "cell_type": "code",
      "execution_count": 37,
      "id": "d95d2e72",
      "metadata": {
        "id": "d95d2e72"
      },
      "outputs": [],
      "source": [
        "#This tecniques only work with zero and ones if you want to print another number then use ."
      ]
    },
    {
      "cell_type": "code",
      "execution_count": 38,
      "id": "30b05542",
      "metadata": {
        "id": "30b05542",
        "outputId": "73149201-70ba-4865-c8a8-c7809737aeb7",
        "colab": {
          "base_uri": "https://localhost:8080/"
        }
      },
      "outputs": [
        {
          "output_type": "stream",
          "name": "stdout",
          "text": [
            "matrix of 5 \n",
            "--------\n",
            "[[5. 5. 5. 5. 5. 5.]\n",
            " [5. 5. 5. 5. 5. 5.]\n",
            " [5. 5. 5. 5. 5. 5.]\n",
            " [5. 5. 5. 5. 5. 5.]\n",
            " [5. 5. 5. 5. 5. 5.]]\n"
          ]
        }
      ],
      "source": [
        "print(\"matrix of 5 \\n--------\")\n",
        "print(5*np.ones([5,6]))"
      ]
    },
    {
      "cell_type": "code",
      "execution_count": 39,
      "id": "370d93e6",
      "metadata": {
        "id": "370d93e6",
        "outputId": "233ce53d-0a84-4b8a-a08a-3d707d55f550",
        "colab": {
          "base_uri": "https://localhost:8080/"
        }
      },
      "outputs": [
        {
          "output_type": "stream",
          "name": "stdout",
          "text": [
            "[[ 0  1  2  3  4  5]\n",
            " [ 6  7  8  9 10 11]\n",
            " [12 13 14 15 16 17]\n",
            " [18 19 20 21 22 23]\n",
            " [24 25 26 27 28 29]]\n"
          ]
        }
      ],
      "source": [
        "#Construct diagonal matrix\n",
        "\n",
        "x=np.arange(30).reshape(5,6)\n",
        "print(x)"
      ]
    },
    {
      "cell_type": "code",
      "execution_count": 40,
      "id": "76785fc5",
      "metadata": {
        "id": "76785fc5",
        "outputId": "dc5e1262-6aff-4eb7-b404-d6c380f9ed61",
        "colab": {
          "base_uri": "https://localhost:8080/"
        }
      },
      "outputs": [
        {
          "output_type": "stream",
          "name": "stdout",
          "text": [
            "Random number genration (from uniform distribution)\n",
            "[[0.89286015 0.33197981 0.82122912 0.04169663 0.10765668 0.59505206]\n",
            " [0.52981736 0.41880743 0.33540785 0.62251943 0.43814143 0.73588211]\n",
            " [0.51803641 0.5788586  0.6453551  0.99022427 0.8198582  0.41320093]\n",
            " [0.87626766 0.82375943 0.05447451 0.71863724 0.80217056 0.73640664]\n",
            " [0.70913175 0.54093685 0.12482417 0.9576473  0.4032563  0.21695116]\n",
            " [0.71727585 0.99420744 0.25561406 0.67130943 0.59900591 0.71733215]\n",
            " [0.93734953 0.35180977 0.2536341  0.40247251 0.74651072 0.72407057]\n",
            " [0.4061078  0.98937985 0.45049928 0.37380843 0.70962861 0.08245855]\n",
            " [0.39837292 0.77088097 0.76475098 0.28385938 0.18954219 0.47125096]\n",
            " [0.33480604 0.73473504 0.18910712 0.33110407 0.84422842 0.61502403]]\n"
          ]
        }
      ],
      "source": [
        "#Random Number Generation\n",
        "\n",
        "np.random.seed(6) # Each seed number will generate similar data\n",
        "print(\"Random number genration (from uniform distribution)\")\n",
        "print(np.random.rand(10,6))"
      ]
    },
    {
      "cell_type": "code",
      "execution_count": 41,
      "id": "0fc9d2ff",
      "metadata": {
        "id": "0fc9d2ff",
        "outputId": "f390ac36-f0ce-4725-d6f9-65722b60d44d",
        "colab": {
          "base_uri": "https://localhost:8080/"
        }
      },
      "outputs": [
        {
          "output_type": "stream",
          "name": "stdout",
          "text": [
            "Number from normal distribution with zero mean and standard deviation 1 i.e standard noraml\n",
            "[[-0.37550472  0.39636757 -0.47144628  2.33660781  1.50278553 -0.59545972]\n",
            " [ 0.52834106  0.9398248   0.42628539 -0.75815703 -0.16236698  0.72680996]\n",
            " [ 0.44408297 -0.85682264  0.44692842 -1.01464799 -2.1323234   0.17386307]\n",
            " [ 0.95120126  0.44189739  1.46901739  1.74951635  0.35353062 -0.64333729]\n",
            " [-0.04723705 -1.44903979 -0.03618977 -0.09084699  0.17629034  1.09462041]\n",
            " [-2.12647459  0.75144883 -0.54060704  0.79322236  0.17365335 -1.03543429]\n",
            " [ 0.87426839 -0.73957208  0.52294535 -0.59187648 -0.47748711  0.11252968]\n",
            " [ 1.90474232  0.69415315 -0.01958134  1.66284285  0.03060843 -0.29749921]\n",
            " [-0.96813764  0.16706673  0.11660197 -0.68225732 -1.91402115 -0.13990231]\n",
            " [ 0.11492459 -0.39500464 -0.95331626 -1.07282736 -0.48444561  1.36293786]]\n"
          ]
        }
      ],
      "source": [
        "print(\"Number from normal distribution with zero mean and standard deviation 1 i.e standard noraml\")\n",
        "print(np.random.randn(10,6))"
      ]
    },
    {
      "cell_type": "code",
      "execution_count": 42,
      "id": "154f30b7",
      "metadata": {
        "id": "154f30b7",
        "outputId": "81e577b8-24cc-4b34-bee6-38750f42c6bd",
        "colab": {
          "base_uri": "https://localhost:8080/"
        }
      },
      "outputs": [
        {
          "output_type": "stream",
          "name": "stdout",
          "text": [
            "Random integer vector :  [ 7 17  6 19 17 19 15 14  7  5]\n"
          ]
        }
      ],
      "source": [
        "print(\"Random integer vector : \",np.random.randint(5,20,10))"
      ]
    },
    {
      "cell_type": "code",
      "execution_count": 43,
      "id": "64fcb44e",
      "metadata": {
        "id": "64fcb44e",
        "outputId": "2160a716-00b3-4f8d-e599-53253c506b3a",
        "colab": {
          "base_uri": "https://localhost:8080/"
        }
      },
      "outputs": [
        {
          "output_type": "stream",
          "name": "stdout",
          "text": [
            "\n",
            " Random integer matrix\n",
            "[[18780 18307 15355 11222 24641 15656  8972]\n",
            " [  599  3367 25489    10 16534 12574 19711]\n",
            " [ 7360 29664  7867  7193 14019 13020 13077]\n",
            " [18979   100 21484 21802  8255 12325  7663]\n",
            " [20160 19121 25216 16774  3611 16808  5847]\n",
            " [ 3810  3576 24615  1083 17826 26054  8618]]\n"
          ]
        }
      ],
      "source": [
        "print(\"\\n Random integer matrix\")\n",
        "print(np.random.randint(1,30000,(6,7)))"
      ]
    },
    {
      "cell_type": "code",
      "execution_count": 44,
      "id": "c7e500f0",
      "metadata": {
        "id": "c7e500f0"
      },
      "outputs": [],
      "source": [
        "#One of the real time example of randint is"
      ]
    },
    {
      "cell_type": "code",
      "execution_count": 45,
      "id": "0f761489",
      "metadata": {
        "id": "0f761489"
      },
      "outputs": [],
      "source": [
        "def generate_otp():\n",
        "    otp=np.random.randint(1000,10000,1)\n",
        "    print(\"Your Otp is \",otp)\n",
        "    user_otp=int(input(\"Enter Your OTP Here\"))\n",
        "    if otp==user_otp:\n",
        "        print(\"Log in Sucessfully\")\n",
        "    else:\n",
        "        print(\"Your OTP is invalid\")"
      ]
    },
    {
      "cell_type": "code",
      "execution_count": 46,
      "id": "61ba4455",
      "metadata": {
        "id": "61ba4455",
        "outputId": "110cb72b-6d87-4702-a468-3eab55a77ce3",
        "colab": {
          "base_uri": "https://localhost:8080/"
        }
      },
      "outputs": [
        {
          "output_type": "stream",
          "name": "stdout",
          "text": [
            "Your Otp is  [4292]\n",
            "Enter Your OTP Here4292\n",
            "Log in Sucessfully\n"
          ]
        }
      ],
      "source": [
        "generate_otp()"
      ]
    },
    {
      "cell_type": "code",
      "execution_count": 46,
      "id": "28f2a0f2",
      "metadata": {
        "id": "28f2a0f2"
      },
      "outputs": [],
      "source": []
    },
    {
      "cell_type": "code",
      "execution_count": 46,
      "id": "cb36ed01-5561-4628-b27e-4cf3643dd138",
      "metadata": {
        "id": "cb36ed01-5561-4628-b27e-4cf3643dd138"
      },
      "outputs": [],
      "source": []
    }
  ],
  "metadata": {
    "kernelspec": {
      "display_name": "Python 3 (ipykernel)",
      "language": "python",
      "name": "python3"
    },
    "language_info": {
      "codemirror_mode": {
        "name": "ipython",
        "version": 3
      },
      "file_extension": ".py",
      "mimetype": "text/x-python",
      "name": "python",
      "nbconvert_exporter": "python",
      "pygments_lexer": "ipython3",
      "version": "3.10.12"
    },
    "colab": {
      "provenance": []
    }
  },
  "nbformat": 4,
  "nbformat_minor": 5
}